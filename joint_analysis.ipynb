{
  "nbformat": 4,
  "nbformat_minor": 0,
  "metadata": {
    "colab": {
      "name": "joint_analysis.ipynb",
      "provenance": [],
      "collapsed_sections": [
        "x6ALzCmxz-Tq",
        "xXkKFPUXfJM1",
        "svw4dG5rEXYD",
        "ndBAbB6vgGB8",
        "lb0rKN2ex3nk"
      ],
      "authorship_tag": "ABX9TyOe1AWONUMijr1DDFif3PZG",
      "include_colab_link": true
    },
    "kernelspec": {
      "name": "python3",
      "display_name": "Python 3"
    },
    "language_info": {
      "name": "python"
    }
  },
  "cells": [
    {
      "cell_type": "markdown",
      "metadata": {
        "id": "view-in-github",
        "colab_type": "text"
      },
      "source": [
        "<a href=\"https://colab.research.google.com/github/filopacio/_python_4_analytics_nlp_project/blob/main/joint_analysis.ipynb\" target=\"_parent\"><img src=\"https://colab.research.google.com/assets/colab-badge.svg\" alt=\"Open In Colab\"/></a>"
      ]
    },
    {
      "cell_type": "markdown",
      "metadata": {
        "id": "x6ALzCmxz-Tq"
      },
      "source": [
        "\n",
        "\n",
        "---\n",
        "## Comparing and contrasting ebola and covid spreading of information on Twitter\n",
        "---\n",
        "\n",
        "This project is a NLP analysis of Twitter.\n",
        "\n",
        "Tweets related to COVID and EBOLA have been analysed in order to find, if any, some patterns in the spreading of news.\n",
        "\n",
        "The research is mainly descriptive and focuses on two main different but actually interrelated themes:\n",
        "\n",
        "- Sentiment Analysis.\n",
        "Sentiments, initially labelled only as POSITIVE or NEGATIVE and then also analysed through more complex sentiments/emotions have been assigned to tweets and analysed. \n",
        "\n",
        "- Use Of Keywords.\n",
        "Tweets have been processed in order to extrapolate the most commonly adopted words or expressions. The recurrence of words has been analysed also in relation to sentiments.\n",
        "\n",
        "After having analysed separately the covid phenomenon and the ebola phenomenon, it is now time to investigate similarities and differences in order to find any pattern that can be associated to a pandemic outbreak.\n"
      ]
    },
    {
      "cell_type": "code",
      "metadata": {
        "id": "XalsFxk_Ufs0"
      },
      "source": [
        "import pandas as pd\n",
        "pd.options.mode.chained_assignment = None\n",
        "import numpy as np\n",
        "import matplotlib.pyplot as plt\n",
        "from matplotlib import pyplot as plt"
      ],
      "execution_count": 164,
      "outputs": []
    },
    {
      "cell_type": "markdown",
      "metadata": {
        "id": "xXkKFPUXfJM1"
      },
      "source": [
        "##Upload Datasets"
      ]
    },
    {
      "cell_type": "code",
      "metadata": {
        "id": "rCqGmXCDLj_k"
      },
      "source": [
        "import csv"
      ],
      "execution_count": 165,
      "outputs": []
    },
    {
      "cell_type": "code",
      "metadata": {
        "id": "7f2itWt2zVs6"
      },
      "source": [
        "with open('df_c_ext.csv') as c:\n",
        "    reader = csv.reader(c)\n",
        "    l_c = list(reader)\n",
        "\n",
        "df_c = pd.DataFrame(l_c,columns = ['','date', 'tweet','language' ,'username','tweets',\t'polarity'\t,'sentiment', 'polarized_sen'])[1:].dropna().reset_index()\n",
        "df_c = df_c[['date', 'tweet','language' ,'username','tweets',\t'polarity'\t,'sentiment', 'polarized_sen']]"
      ],
      "execution_count": 166,
      "outputs": []
    },
    {
      "cell_type": "code",
      "metadata": {
        "id": "E9xLU2gRE0Zm"
      },
      "source": [
        "import  ast"
      ],
      "execution_count": 167,
      "outputs": []
    },
    {
      "cell_type": "code",
      "metadata": {
        "id": "tRGMM2JHD45V"
      },
      "source": [
        "for i in range(len(df_c)):\n",
        "   df_c.tweets[i] = ast.literal_eval(df_c.tweets[i])"
      ],
      "execution_count": 168,
      "outputs": []
    },
    {
      "cell_type": "code",
      "metadata": {
        "colab": {
          "base_uri": "https://localhost:8080/",
          "height": 0
        },
        "id": "dYYS2DdhJJ6-",
        "outputId": "314e8605-eb72-4dae-afa2-466d6457d6d0"
      },
      "source": [
        "df_c.head()"
      ],
      "execution_count": 169,
      "outputs": [
        {
          "output_type": "execute_result",
          "data": {
            "text/html": [
              "<div>\n",
              "<style scoped>\n",
              "    .dataframe tbody tr th:only-of-type {\n",
              "        vertical-align: middle;\n",
              "    }\n",
              "\n",
              "    .dataframe tbody tr th {\n",
              "        vertical-align: top;\n",
              "    }\n",
              "\n",
              "    .dataframe thead th {\n",
              "        text-align: right;\n",
              "    }\n",
              "</style>\n",
              "<table border=\"1\" class=\"dataframe\">\n",
              "  <thead>\n",
              "    <tr style=\"text-align: right;\">\n",
              "      <th></th>\n",
              "      <th>date</th>\n",
              "      <th>tweet</th>\n",
              "      <th>language</th>\n",
              "      <th>username</th>\n",
              "      <th>tweets</th>\n",
              "      <th>polarity</th>\n",
              "      <th>sentiment</th>\n",
              "      <th>polarized_sen</th>\n",
              "    </tr>\n",
              "  </thead>\n",
              "  <tbody>\n",
              "    <tr>\n",
              "      <th>0</th>\n",
              "      <td>2019-12-29 05:21:25</td>\n",
              "      <td>@ross_robertross @LateRoundCorner Lamar gonna ...</td>\n",
              "      <td>en</td>\n",
              "      <td>Racist_Covid</td>\n",
              "      <td>[rossrobertross, lateroundcorner, lamar, gonna...</td>\n",
              "      <td>-0.6705</td>\n",
              "      <td>negative</td>\n",
              "      <td>negative</td>\n",
              "    </tr>\n",
              "    <tr>\n",
              "      <th>1</th>\n",
              "      <td>2019-12-28 23:28:59</td>\n",
              "      <td>@CaslerNoel @DonaldJTrumpJr @realDonaldTrump @...</td>\n",
              "      <td>en</td>\n",
              "      <td>COVID_Careful</td>\n",
              "      <td>[caslernoel, donaldjtrumpjr, realdonaldtrump, ...</td>\n",
              "      <td>0.25</td>\n",
              "      <td>neutral</td>\n",
              "      <td>neutral</td>\n",
              "    </tr>\n",
              "    <tr>\n",
              "      <th>2</th>\n",
              "      <td>2019-12-28 23:23:01</td>\n",
              "      <td>@realDonaldTrump You do realize SF is part of ...</td>\n",
              "      <td>en</td>\n",
              "      <td>COVID_Careful</td>\n",
              "      <td>[realdonaldtrump, realize, sf, part, country, ...</td>\n",
              "      <td>0.7845</td>\n",
              "      <td>positive</td>\n",
              "      <td>positive</td>\n",
              "    </tr>\n",
              "    <tr>\n",
              "      <th>3</th>\n",
              "      <td>2019-12-28 22:16:08</td>\n",
              "      <td>I got a new mullet 🙊🙊  https://t.co/a6TBWBexG8</td>\n",
              "      <td>en</td>\n",
              "      <td>covid_mullet</td>\n",
              "      <td>[got, new, mullet]</td>\n",
              "      <td>0.0</td>\n",
              "      <td>neutral</td>\n",
              "      <td>neutral</td>\n",
              "    </tr>\n",
              "    <tr>\n",
              "      <th>4</th>\n",
              "      <td>2019-12-28 21:35:16</td>\n",
              "      <td>@IDreamOfNinja Danny needs help. I refuse to h...</td>\n",
              "      <td>en</td>\n",
              "      <td>covid_longhaul</td>\n",
              "      <td>[idreamofninja, danny, needs, help, refuse, he...</td>\n",
              "      <td>0.4939</td>\n",
              "      <td>positive</td>\n",
              "      <td>neutral</td>\n",
              "    </tr>\n",
              "  </tbody>\n",
              "</table>\n",
              "</div>"
            ],
            "text/plain": [
              "                  date  ... polarized_sen\n",
              "0  2019-12-29 05:21:25  ...      negative\n",
              "1  2019-12-28 23:28:59  ...       neutral\n",
              "2  2019-12-28 23:23:01  ...      positive\n",
              "3  2019-12-28 22:16:08  ...       neutral\n",
              "4  2019-12-28 21:35:16  ...       neutral\n",
              "\n",
              "[5 rows x 8 columns]"
            ]
          },
          "metadata": {
            "tags": []
          },
          "execution_count": 169
        }
      ]
    },
    {
      "cell_type": "code",
      "metadata": {
        "id": "dKK2HuwrKFEu"
      },
      "source": [
        "with open(\"df_e_ext.csv\") as e:\n",
        "    reader = csv.reader(e)\n",
        "    l_e = list(reader)\n",
        "    \n",
        "df_e = pd.DataFrame(l_e,columns = ['','date', 'tweet','language' ,'username','polarity'\t,'sentiment','tweets' ,'polarized_sen'])[1:].dropna().reset_index()\n",
        "df_e = df_e[['date', 'tweet','language' ,'username','tweets',\t'polarity','sentiment', 'polarized_sen']]"
      ],
      "execution_count": 170,
      "outputs": []
    },
    {
      "cell_type": "code",
      "metadata": {
        "id": "LSJNKfpBD77F"
      },
      "source": [
        "for i in range(len(df_e)):\n",
        "   df_e.tweets[i] = ast.literal_eval(df_e.tweets[i])"
      ],
      "execution_count": 171,
      "outputs": []
    },
    {
      "cell_type": "code",
      "metadata": {
        "colab": {
          "base_uri": "https://localhost:8080/",
          "height": 0
        },
        "id": "EgNEDysrJLs_",
        "outputId": "94a2b074-3757-4e44-d777-40b5c7806a4f"
      },
      "source": [
        "df_e.head()"
      ],
      "execution_count": 172,
      "outputs": [
        {
          "output_type": "execute_result",
          "data": {
            "text/html": [
              "<div>\n",
              "<style scoped>\n",
              "    .dataframe tbody tr th:only-of-type {\n",
              "        vertical-align: middle;\n",
              "    }\n",
              "\n",
              "    .dataframe tbody tr th {\n",
              "        vertical-align: top;\n",
              "    }\n",
              "\n",
              "    .dataframe thead th {\n",
              "        text-align: right;\n",
              "    }\n",
              "</style>\n",
              "<table border=\"1\" class=\"dataframe\">\n",
              "  <thead>\n",
              "    <tr style=\"text-align: right;\">\n",
              "      <th></th>\n",
              "      <th>date</th>\n",
              "      <th>tweet</th>\n",
              "      <th>language</th>\n",
              "      <th>username</th>\n",
              "      <th>tweets</th>\n",
              "      <th>polarity</th>\n",
              "      <th>sentiment</th>\n",
              "      <th>polarized_sen</th>\n",
              "    </tr>\n",
              "  </thead>\n",
              "  <tbody>\n",
              "    <tr>\n",
              "      <th>0</th>\n",
              "      <td>2014-03-04 23:35:47</td>\n",
              "      <td>So #sick today, fever 38.6, chills, muscle ach...</td>\n",
              "      <td>en</td>\n",
              "      <td>maryangelafitz</td>\n",
              "      <td>[sick, today, fever, 386, chills, muscle, ache...</td>\n",
              "      <td>-0.5719</td>\n",
              "      <td>negative</td>\n",
              "      <td>negative</td>\n",
              "    </tr>\n",
              "    <tr>\n",
              "      <th>1</th>\n",
              "      <td>2014-03-04 22:14:13</td>\n",
              "      <td>New broad-spectrum nucleoside analog effective...</td>\n",
              "      <td>en</td>\n",
              "      <td>strnr</td>\n",
              "      <td>[new, broad-spectrum, nucleoside, analog, effe...</td>\n",
              "      <td>-0.128</td>\n",
              "      <td>neutral</td>\n",
              "      <td>neutral</td>\n",
              "    </tr>\n",
              "    <tr>\n",
              "      <th>2</th>\n",
              "      <td>2014-03-04 22:09:42</td>\n",
              "      <td>I hear some parents hide money in pancakes.  Y...</td>\n",
              "      <td>en</td>\n",
              "      <td>sack_vegas</td>\n",
              "      <td>[hear, parents, hide, money, pancakes, yeah, t...</td>\n",
              "      <td>0.7667</td>\n",
              "      <td>positive</td>\n",
              "      <td>positive</td>\n",
              "    </tr>\n",
              "    <tr>\n",
              "      <th>3</th>\n",
              "      <td>2014-03-04 21:55:52</td>\n",
              "      <td>@surlyurbanist the flu? Ebola? Anything?</td>\n",
              "      <td>en</td>\n",
              "      <td>paulonabike</td>\n",
              "      <td>[surlyurbanist, flu, ebola, anything]</td>\n",
              "      <td>-0.4836</td>\n",
              "      <td>negative</td>\n",
              "      <td>neutral</td>\n",
              "    </tr>\n",
              "    <tr>\n",
              "      <th>4</th>\n",
              "      <td>2014-03-04 21:43:23</td>\n",
              "      <td>@DrCaseby @Stgregslibrary close! Wasn't a viru...</td>\n",
              "      <td>en</td>\n",
              "      <td>RealMGHarris</td>\n",
              "      <td>[drcaseby, stgregslibrary, close, wasnt, virus...</td>\n",
              "      <td>-0.4295</td>\n",
              "      <td>negative</td>\n",
              "      <td>neutral</td>\n",
              "    </tr>\n",
              "  </tbody>\n",
              "</table>\n",
              "</div>"
            ],
            "text/plain": [
              "                  date  ... polarized_sen\n",
              "0  2014-03-04 23:35:47  ...      negative\n",
              "1  2014-03-04 22:14:13  ...       neutral\n",
              "2  2014-03-04 22:09:42  ...      positive\n",
              "3  2014-03-04 21:55:52  ...       neutral\n",
              "4  2014-03-04 21:43:23  ...       neutral\n",
              "\n",
              "[5 rows x 8 columns]"
            ]
          },
          "metadata": {
            "tags": []
          },
          "execution_count": 172
        }
      ]
    },
    {
      "cell_type": "code",
      "metadata": {
        "id": "EC3JsVhFuS6f"
      },
      "source": [
        "df_c_neg = df_c[df_c.polarized_sen == 'negative'].reset_index()\n",
        "df_c_pos = df_c[df_c.polarized_sen == 'positive'].reset_index()   "
      ],
      "execution_count": 173,
      "outputs": []
    },
    {
      "cell_type": "code",
      "metadata": {
        "id": "aPwVJGrqucDv"
      },
      "source": [
        "df_e_neg = df_e[df_e.polarized_sen == 'negative'].reset_index()\n",
        "df_e_pos = df_e[df_e.polarized_sen == 'positive'].reset_index()"
      ],
      "execution_count": 174,
      "outputs": []
    },
    {
      "cell_type": "markdown",
      "metadata": {
        "id": "svw4dG5rEXYD"
      },
      "source": [
        "## Sentiment"
      ]
    },
    {
      "cell_type": "code",
      "metadata": {
        "id": "pnrAdtkVG05P"
      },
      "source": [
        "sen = list(np.repeat(1,len(df_c)))\n",
        "for i in range(len(df_c)):\n",
        "   if float(df_c.polarity[i]) > 0:\n",
        "     sen[i] = 'positive'\n",
        "   else:\n",
        "    sen[i] = 'negative'"
      ],
      "execution_count": 175,
      "outputs": []
    },
    {
      "cell_type": "code",
      "metadata": {
        "colab": {
          "base_uri": "https://localhost:8080/",
          "height": 265
        },
        "id": "O8pHohd8G2H0",
        "outputId": "85f03f15-21a6-42c1-fca2-267a7cde1dd8"
      },
      "source": [
        "plt.hist(sen)\n",
        "plt.show()"
      ],
      "execution_count": 176,
      "outputs": [
        {
          "output_type": "display_data",
          "data": {
            "image/png": "[encoded data removed]",
            "text/plain": [
              "<Figure size 432x288 with 1 Axes>"
            ]
          },
          "metadata": {
            "tags": [],
            "needs_background": "light"
          }
        }
      ]
    },
    {
      "cell_type": "code",
      "metadata": {
        "id": "cL2t8_8dEZjZ"
      },
      "source": [
        "sen = list(np.repeat(1,len(df_e)))\n",
        "for i in range(len(df_e)):\n",
        "   if float(df_e.polarity[i]) > 0:\n",
        "     sen[i] = 'positive'\n",
        "   else:\n",
        "     sen[i] = 'negative'"
      ],
      "execution_count": 177,
      "outputs": []
    },
    {
      "cell_type": "code",
      "metadata": {
        "colab": {
          "base_uri": "https://localhost:8080/",
          "height": 265
        },
        "id": "hIzjk8WMDwaG",
        "outputId": "ec459ca0-66b7-4d8d-a1ca-41870472ef85"
      },
      "source": [
        "plt.hist(sen)\n",
        "plt.show()"
      ],
      "execution_count": 178,
      "outputs": [
        {
          "output_type": "display_data",
          "data": {
            "image/png": "[encoded data removed]",
            "text/plain": [
              "<Figure size 432x288 with 1 Axes>"
            ]
          },
          "metadata": {
            "tags": [],
            "needs_background": "light"
          }
        }
      ]
    },
    {
      "cell_type": "markdown",
      "metadata": {
        "id": "h2VBI3CFG-Rw"
      },
      "source": [
        "From those histograms more meaningful result are obtained. As expected, tweets related both to covid and ebola are, on average, much more negative than positive. "
      ]
    },
    {
      "cell_type": "markdown",
      "metadata": {
        "id": "ndBAbB6vgGB8"
      },
      "source": [
        "## Analysis of keywords"
      ]
    },
    {
      "cell_type": "markdown",
      "metadata": {
        "id": "xCVYQObOPVLq"
      },
      "source": [
        "Let us now create an even more polarized situation.\n",
        "\n",
        "Let's take only the most polarized positive and  negative tweets in order to find (if any) differences and similarities in the use of most common words between very positive and very negative tweets."
      ]
    },
    {
      "cell_type": "code",
      "metadata": {
        "id": "iefUHq-2XtpP"
      },
      "source": [
        "from gensim.models import Word2Vec\n",
        "from matplotlib_venn import venn2"
      ],
      "execution_count": 179,
      "outputs": []
    },
    {
      "cell_type": "code",
      "metadata": {
        "colab": {
          "base_uri": "https://localhost:8080/",
          "height": 0
        },
        "id": "pNfeHD80GIwM",
        "outputId": "a4fb1e6e-c8a5-4dc4-fd0c-1177df3be983"
      },
      "source": [
        "c = Word2Vec(df_c.tweets, min_count = 2000)\n",
        "e = Word2Vec(df_e.tweets, min_count = 1500)\n",
        "\n",
        "set1 = set(c.wv.vocab)\n",
        "set2 = set(e.wv.vocab)\n",
        "\n",
        "plt.figure(figsize=(10, 10))\n",
        "venn = venn2([set1, set2], ('Covid','Ebola'))\n",
        "venn.get_label_by_id('100').set_text('\\n'.join(set1-set2))\n",
        "venn.get_label_by_id('110').set_text('\\n'.join(set1&set2))\n",
        "venn.get_label_by_id('010').set_text('\\n'.join(set2-set1))\n",
        "plt.title('Covid and Ebola Words Sentiment')\n",
        "plt.show()\n"
      ],
      "execution_count": 180,
      "outputs": [
        {
          "output_type": "display_data",
          "data": {
            "image/png": "[encoded data removed]",
            "text/plain": [
              "<Figure size 720x720 with 1 Axes>"
            ]
          },
          "metadata": {
            "tags": []
          }
        }
      ]
    },
    {
      "cell_type": "markdown",
      "metadata": {
        "id": "F4tCXVeaZVi8"
      },
      "source": [
        "With word2vec( ) the most common words inside the two polarized opposite sets are obtained. The results can be seen in the Venn Diagram above. Death and disease are the most incumbent topics (and interestingly also Trump) for the negative side while in the positive side there's a general sense of altruistic sentiment ('care', 'help', 'need', 'thank','please','love' etc.)."
      ]
    },
    {
      "cell_type": "markdown",
      "metadata": {
        "id": "WIgeC2hFbHsL"
      },
      "source": [
        "Also, it might be interesting to explore the overall difference in length between positive and negative tweets."
      ]
    },
    {
      "cell_type": "code",
      "metadata": {
        "colab": {
          "base_uri": "https://localhost:8080/",
          "height": 0
        },
        "id": "LetKYID1W56u",
        "outputId": "41d4ce8c-feac-47f9-9f37-9241bc7ee647"
      },
      "source": [
        "df_c_neg['length'] = [len(i) for i in df_c_neg.tweet]\n",
        "df_c_pos['length'] = [len(i) for i in df_c_pos.tweet]\n",
        "\n",
        "plt.hist(df_c_pos.length, label = 'length positive',alpha = 0.5)\n",
        "plt.hist(df_c_neg.length, label = 'length negative', alpha = 0.5)\n",
        "plt.legend(loc='upper right')\n",
        "plt.show()"
      ],
      "execution_count": 181,
      "outputs": [
        {
          "output_type": "display_data",
          "data": {
            "image/png": "[encoded data removed]",
            "text/plain": [
              "<Figure size 432x288 with 1 Axes>"
            ]
          },
          "metadata": {
            "tags": [],
            "needs_background": "light"
          }
        }
      ]
    },
    {
      "cell_type": "code",
      "metadata": {
        "id": "UwEMkheOoW0V"
      },
      "source": [
        "import scipy"
      ],
      "execution_count": 182,
      "outputs": []
    },
    {
      "cell_type": "code",
      "metadata": {
        "colab": {
          "base_uri": "https://localhost:8080/"
        },
        "id": "gsBq6kvkoVOM",
        "outputId": "8fe1177f-e5f2-4cff-f453-8c87d03640f9"
      },
      "source": [
        "scipy.stats.ttest_ind( df_c_neg.length,df_c_pos.length)"
      ],
      "execution_count": 183,
      "outputs": [
        {
          "output_type": "execute_result",
          "data": {
            "text/plain": [
              "Ttest_indResult(statistic=2.6772210450626894, pvalue=0.007427448247813678)"
            ]
          },
          "metadata": {
            "tags": []
          },
          "execution_count": 183
        }
      ]
    },
    {
      "cell_type": "markdown",
      "metadata": {
        "id": "Bs6YeVpEoYi7"
      },
      "source": [
        "For covid-related tweets, from the two-tailed test it emerges that the average length of positive tweets is statistically significantly less than negative ones (p-value < 0.01)."
      ]
    },
    {
      "cell_type": "code",
      "metadata": {
        "id": "2QNhqOAwLfYT"
      },
      "source": [
        "df_e_neg['length'] = [len(i) for i in df_e_neg.tweet]\n",
        "df_e_pos['length'] = [len(i) for i in df_e_pos.tweet]"
      ],
      "execution_count": 184,
      "outputs": []
    },
    {
      "cell_type": "code",
      "metadata": {
        "colab": {
          "base_uri": "https://localhost:8080/",
          "height": 0
        },
        "id": "gN2KErdDLfLM",
        "outputId": "1e6dc50a-c8e6-456d-de50-1bbd8d61ac77"
      },
      "source": [
        "plt.hist(df_e_pos.length, label = 'length positive',alpha = 0.5)\n",
        "plt.hist(df_e_neg.length, label = 'length negative', alpha = 0.5)\n",
        "plt.legend(loc='upper left')\n",
        "plt.show()"
      ],
      "execution_count": 185,
      "outputs": [
        {
          "output_type": "display_data",
          "data": {
            "image/png": "[encoded data removed]",
            "text/plain": [
              "<Figure size 432x288 with 1 Axes>"
            ]
          },
          "metadata": {
            "tags": [],
            "needs_background": "light"
          }
        }
      ]
    },
    {
      "cell_type": "code",
      "metadata": {
        "colab": {
          "base_uri": "https://localhost:8080/"
        },
        "id": "WjaPkPdzoqUH",
        "outputId": "7fb5fc57-66b1-4b6c-e91b-ee7fb4034345"
      },
      "source": [
        "scipy.stats.ttest_ind( df_e_neg.length,df_e_pos.length)"
      ],
      "execution_count": 186,
      "outputs": [
        {
          "output_type": "execute_result",
          "data": {
            "text/plain": [
              "Ttest_indResult(statistic=0.22109923917985372, pvalue=0.8250177863936954)"
            ]
          },
          "metadata": {
            "tags": []
          },
          "execution_count": 186
        }
      ]
    },
    {
      "cell_type": "markdown",
      "metadata": {
        "id": "U-bjXXdSo7jB"
      },
      "source": [
        "On the other hand, the t-test for ebola-tweets does not reject the null hypotheses, therefore no significant difference in length may be assumed (p-value > 0.01)."
      ]
    },
    {
      "cell_type": "code",
      "metadata": {
        "id": "na73LfTLG14P"
      },
      "source": [
        "import wordcloud"
      ],
      "execution_count": 187,
      "outputs": []
    },
    {
      "cell_type": "code",
      "metadata": {
        "id": "SsyRWQc0Hsb3",
        "colab": {
          "base_uri": "https://localhost:8080/",
          "height": 0
        },
        "outputId": "b9cb242b-8506-4ecd-9954-274bf9f33b55"
      },
      "source": [
        "inter_set = set1.intersection(set2)\n",
        "\n",
        "wc = wordcloud.WordCloud(background_color='black', max_words=100, \n",
        "                         max_font_size=50, stopwords = ['dict_keys','-'])\n",
        "wc = wc.generate(str(\",\".join(inter_set)))\n",
        "plt.figure(figsize=(10, 10))\n",
        "plt.axis('off')\n",
        "plt.imshow(wc)\n",
        "plt.show()"
      ],
      "execution_count": 188,
      "outputs": [
        {
          "output_type": "display_data",
          "data": {
            "image/png": "[encoded data removed]",
            "text/plain": [
              "<Figure size 720x720 with 1 Axes>"
            ]
          },
          "metadata": {
            "tags": [],
            "needs_background": "light"
          }
        }
      ]
    },
    {
      "cell_type": "markdown",
      "metadata": {
        "id": "lb0rKN2ex3nk"
      },
      "source": [
        "## Introducing more articulated emotions\n",
        "\n",
        "When dealing with a pandemic event, the distinction of sentiment only based on 'positive', 'negative', or'neutral' sentiment may be restrictive. It might be interesting to investigate more articulated emotions of tweets, and in this section this kind of investigation will be performed.\n"
      ]
    },
    {
      "cell_type": "markdown",
      "metadata": {
        "id": "J3pRmRbAon8i"
      },
      "source": [
        "As in (Xue, J. et al, 2020), I adopted NRCLex for emotion detection. \n",
        "\n",
        "NRCLex is a package trough which more articulated sentiments can be obtained. In particular, the emotions of:\n",
        "\n",
        "- Trust\n",
        "- Fear\n",
        "- Anticipation\n",
        "- Anger\n",
        "- Joy\n",
        "- Sadness\n",
        "- Disgust\n",
        "- Surprise\n",
        "\n",
        "are recognised and assigned a number from 0 to 1 based on the polarity of the emotion. There may be several emotions representing a tweet, with the sum of ther polarities being equal to 1."
      ]
    },
    {
      "cell_type": "markdown",
      "metadata": {
        "id": "5AcKpVIXobin"
      },
      "source": [
        "For covid analysis, 5 main periods have been identified. \n",
        "Their labels are, obviously, broad approximations of reality that don't take into account singular states/regions/continents situations. \n",
        "\n",
        "- 1/01/2020 - 29/02/2020  : initial period, news spreading\n",
        "- 1/03/2020 - 31/05/2020  : lockdown\n",
        "- 1/06/2020 - 30/09/2020  : rules/laws softening\n",
        "- 1/10/2020 - 31/01/2021  : new emergency\n",
        "- 1/02/2021 - 30/06/2021  : vaccine campaigns\n",
        "\n",
        "A sentiment analysis and a keywords analysis based on those 5 periods is performed in order to evaluate relevant differences. "
      ]
    },
    {
      "cell_type": "code",
      "metadata": {
        "id": "7iPwdVC7Bavh",
        "colab": {
          "base_uri": "https://localhost:8080/"
        },
        "outputId": "ee11c634-30df-4556-806f-a1ab326fc490"
      },
      "source": [
        "!pip install NRCLex"
      ],
      "execution_count": 189,
      "outputs": [
        {
          "output_type": "stream",
          "text": [
            "Requirement already satisfied: NRCLex in /usr/local/lib/python3.7/dist-packages (3.0.0)\n",
            "Requirement already satisfied: textblob in /usr/local/lib/python3.7/dist-packages (from NRCLex) (0.15.3)\n",
            "Requirement already satisfied: nltk>=3.1 in /usr/local/lib/python3.7/dist-packages (from textblob->NRCLex) (3.2.5)\n",
            "Requirement already satisfied: six in /usr/local/lib/python3.7/dist-packages (from nltk>=3.1->textblob->NRCLex) (1.15.0)\n"
          ],
          "name": "stdout"
        }
      ]
    },
    {
      "cell_type": "code",
      "metadata": {
        "id": "vVcIo0ucyhNt",
        "colab": {
          "base_uri": "https://localhost:8080/"
        },
        "outputId": "2b7439a4-6971-461e-d72b-a8b8bb743b3d"
      },
      "source": [
        "from nrclex import NRCLex\n",
        "from collections import Counter\n",
        "import nltk\n",
        "nltk.download('punkt')\n",
        "from datetime import datetime"
      ],
      "execution_count": 190,
      "outputs": [
        {
          "output_type": "stream",
          "text": [
            "[nltk_data] Downloading package punkt to /root/nltk_data...\n",
            "[nltk_data]   Package punkt is already up-to-date!\n"
          ],
          "name": "stdout"
        }
      ]
    },
    {
      "cell_type": "markdown",
      "metadata": {
        "id": "jwu2saGhiCAC"
      },
      "source": [
        "Two functions have been created to retrieve the emotions for each tweet.\n",
        "\n",
        "- getEmotion( ) returns a dictionary where emotions and corresponding frequencies of each tweet are stored.\n",
        "\n",
        "- EmotionSummary( ) returns a dictionary with the overall sum of frequencies of each emotion.\n"
      ]
    },
    {
      "cell_type": "code",
      "metadata": {
        "id": "tgCIAI4kJqKm"
      },
      "source": [
        "def getEmotion(sentence):\n",
        "  emotion = NRCLex(sentence) \n",
        "  a_l = emotion.affect_frequencies\n",
        "  return a_l\n",
        "\n",
        "def EmotionSummary(list):\n",
        "  emotions = [getEmotion(i) for i in list]\n",
        "  c = Counter()\n",
        "  for d in emotions:\n",
        "    c.update(d)\n",
        "  c = dict(c)\n",
        "  c = dict(sorted(c.items(), key=lambda item: item[1], reverse=True))\n",
        "  c.pop('negative')   \n",
        "  c.pop('positive')\n",
        "  c.pop('anticip')\n",
        "  return c"
      ],
      "execution_count": 191,
      "outputs": []
    },
    {
      "cell_type": "markdown",
      "metadata": {
        "id": "pixwpt9noOeg"
      },
      "source": [
        "**Covid**"
      ]
    },
    {
      "cell_type": "code",
      "metadata": {
        "id": "WfIlQbUAIeRO"
      },
      "source": [
        "covid_emotion_sum = EmotionSummary(df_c.tweet)"
      ],
      "execution_count": 192,
      "outputs": []
    },
    {
      "cell_type": "code",
      "metadata": {
        "colab": {
          "base_uri": "https://localhost:8080/",
          "height": 592
        },
        "id": "me7LA4KGIj8q",
        "outputId": "220c2ba2-6f95-4962-bf27-b1afe4b29bb4"
      },
      "source": [
        "plt.figure(figsize=(10,10))\n",
        "plt.bar(covid_emotion_sum.keys(), covid_emotion_sum.values(), color = ['red','blue', 'green', 'brown', 'orange','grey','purple', 'pink'], alpha = 0.6)\n",
        "plt.show()"
      ],
      "execution_count": 193,
      "outputs": [
        {
          "output_type": "display_data",
          "data": {
            "image/png": "[encoded data removed]",
            "text/plain": [
              "<Figure size 720x720 with 1 Axes>"
            ]
          },
          "metadata": {
            "tags": [],
            "needs_background": "light"
          }
        }
      ]
    },
    {
      "cell_type": "markdown",
      "metadata": {
        "id": "meaPaaLcrqNN"
      },
      "source": [
        "The results does not correspond exactly to the one obtained in (Xue J. et al, 2020), however I used much less data than the mentioned study and my data also comes from a different period, where new progresses in dealing with the pandemic have been done and may have change the prevalent emotions on social media. Still, the results are similar."
      ]
    },
    {
      "cell_type": "markdown",
      "metadata": {
        "id": "RjItekwBsRuw"
      },
      "source": [
        "**Ebola**"
      ]
    },
    {
      "cell_type": "code",
      "metadata": {
        "id": "QNlXX9a_sSxJ"
      },
      "source": [
        "ebola_emotion_sum = EmotionSummary(df_e.tweet)"
      ],
      "execution_count": 194,
      "outputs": []
    },
    {
      "cell_type": "code",
      "metadata": {
        "id": "bvE3LjzLsi_R",
        "colab": {
          "base_uri": "https://localhost:8080/",
          "height": 592
        },
        "outputId": "f56d1918-2848-4ead-9357-8045f65d2a9a"
      },
      "source": [
        "plt.figure(figsize=(10,10))\n",
        "plt.bar(ebola_emotion_sum.keys(), ebola_emotion_sum.values(), color = ['red','blue', 'green', 'brown', 'orange','grey','purple', 'pink'], alpha = 0.6)\n",
        "plt.show()"
      ],
      "execution_count": 195,
      "outputs": [
        {
          "output_type": "display_data",
          "data": {
            "image/png": "[encoded data removed]",
            "text/plain": [
              "<Figure size 720x720 with 1 Axes>"
            ]
          },
          "metadata": {
            "tags": [],
            "needs_background": "light"
          }
        }
      ]
    },
    {
      "cell_type": "markdown",
      "metadata": {
        "id": "lW5MIIJQtvig"
      },
      "source": [
        "For ebola analysis data haven't been divided into periods but only general emotion analysis has been computed. \n",
        "\n",
        "In this case, fear is clearly the most present sentiment, followed by trust, anticipation and sadness. \n",
        "\n",
        "The first five emotions, regardless the rank, are the same both for ebola and covid and might be considered the 5 emotions associated with a pandemic outbreak."
      ]
    },
    {
      "cell_type": "markdown",
      "metadata": {
        "id": "aiJgdwRTOHWA"
      },
      "source": [
        "## Conclusion and Final Remarks\n",
        "\n",
        "Having compared keywords and sentiment for both the pandemic event, some conclusions may be drawn.\n",
        "\n",
        "\n",
        "1 ) The most used keywords, which can be seen also in the wordcloud in the Keyword Analysis section, are mostly health/death related, togheter with other expectable words like 'virus' or 'cases'.  This features may be recognised as very specific of pandemic event and should be taken into consideration when a social-media analysis is performed to investigate pandemic outbreak. \n",
        "\n",
        "2) The emotion analysis shows, despite with different ranking, that the first five emotions (in particular, also the first three) are the same for both the pandemic events. What can be noticed is also that surprise and joy, which may be suspected to be often related to popular viral news, are actually not very present in this analysis. \n",
        "\n",
        "This may suggest that pandemic events have their own specific emotion-ranking which makes them different from other types of spreading news. This could be a small step towards an alternative way to identify news-spreading patterns different from the modelling of information virality, such as in (Liang, H. et al, 2019)."
      ]
    },
    {
      "cell_type": "markdown",
      "metadata": {
        "id": "VjJILQo6wMAw"
      },
      "source": [
        "## References\n",
        "\n",
        "- Xue, J., Chen, J., Hu, R., Chen, C., Zheng, C., Su, Y., Zhu, T., *Twitter Discussions and Emotions About the COVID-19 Pandemic: Machine Learning Approach*, J Med Internet Res. 2020 Nov 25;22(11):e20550. doi: 10.2196/20550. PMID: 33119535; PMCID: PMC7690968. \n",
        "\n",
        "- Liang, H., Fung, I.CH., Tse, Z.T.H. et al., 2019, *How did Ebola information spread on twitter: broadcasting or viral spreading?*, BMC Public Health 19, 438 (2019). https://doi.org/10.1186/s12889-019-6747-8 \n",
        "\n",
        "- VanderPlas, J., 2016, *Python Data Science Handbook: Essential Tools for Working with Data*, O'Reilly. \n",
        "\n"
      ]
    }
  ]
}