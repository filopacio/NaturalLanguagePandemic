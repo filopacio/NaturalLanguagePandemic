{
  "nbformat": 4,
  "nbformat_minor": 0,
  "metadata": {
    "colab": {
      "name": "ebola_analysis.ipynb",
      "provenance": [],
      "authorship_tag": "ABX9TyNxd/8sDVkZowvY2CjDg9do",
      "include_colab_link": true
    },
    "kernelspec": {
      "name": "python3",
      "display_name": "Python 3"
    },
    "language_info": {
      "name": "python"
    }
  },
  "cells": [
    {
      "cell_type": "markdown",
      "metadata": {
        "id": "view-in-github",
        "colab_type": "text"
      },
      "source": [
        "<a href=\"https://colab.research.google.com/github/filopacio/_python_4_analytics_nlp_project/blob/main/ebola_analysis.ipynb\" target=\"_parent\"><img src=\"https://colab.research.google.com/assets/colab-badge.svg\" alt=\"Open In Colab\"/></a>"
      ]
    },
    {
      "cell_type": "markdown",
      "metadata": {
        "id": "Mp5SwLO7VcuQ"
      },
      "source": [
        "## Ebola Analysis"
      ]
    },
    {
      "cell_type": "code",
      "metadata": {
        "colab": {
          "base_uri": "https://localhost:8080/"
        },
        "id": "ImM-NO9dxHdb",
        "outputId": "77d76b65-37bf-4154-c817-3209b993928b"
      },
      "source": [
        "#!pip install --user --upgrade git+https://github.com/twintproject/twint.git@origin/master#egg=twint\n",
        "!pip install -qq twint\n",
        "!pip install nest_asyncio\n",
        "!pip install text2emotion"
      ],
      "execution_count": null,
      "outputs": [
        {
          "output_type": "stream",
          "text": [
            "Requirement already satisfied: nest_asyncio in /usr/local/lib/python3.7/dist-packages (1.5.1)\n",
            "Requirement already satisfied: text2emotion in /usr/local/lib/python3.7/dist-packages (0.0.5)\n",
            "Requirement already satisfied: nltk in /usr/local/lib/python3.7/dist-packages (from text2emotion) (3.2.5)\n",
            "Requirement already satisfied: emoji>=0.6.0 in /usr/local/lib/python3.7/dist-packages (from text2emotion) (1.4.1)\n",
            "Requirement already satisfied: six in /usr/local/lib/python3.7/dist-packages (from nltk->text2emotion) (1.15.0)\n"
          ],
          "name": "stdout"
        }
      ]
    },
    {
      "cell_type": "code",
      "metadata": {
        "id": "XalsFxk_Ufs0"
      },
      "source": [
        "import pandas as pd\n",
        "import numpy as np\n",
        "import matplotlib.pyplot as plt\n",
        "import nest_asyncio\n",
        "import twint \n",
        "from matplotlib import pyplot as plt"
      ],
      "execution_count": null,
      "outputs": []
    },
    {
      "cell_type": "markdown",
      "metadata": {
        "id": "-LFZXCzkkrxF"
      },
      "source": [
        "## Scrape tweets "
      ]
    },
    {
      "cell_type": "markdown",
      "metadata": {
        "id": "UgkU3kuDU0Cu"
      },
      "source": [
        "The package twint allows to scrape tweets without the need of API. \n",
        "\n",
        "Unfortunately the queries' commands were sometimes inconsistent and so some ex-post data selection and cleaning was necessary."
      ]
    },
    {
      "cell_type": "code",
      "metadata": {
        "id": "8398_0-6DD85"
      },
      "source": [
        "from datetime import datetime, timedelta"
      ],
      "execution_count": null,
      "outputs": []
    },
    {
      "cell_type": "markdown",
      "metadata": {
        "id": "k_i5lv4Kk1iP"
      },
      "source": [
        "**Query for \"ebola\"**"
      ]
    },
    {
      "cell_type": "code",
      "metadata": {
        "id": "jPuDSgnJPWed"
      },
      "source": [
        "d0 = datetime(2014, 7, 1)\n",
        "d1 = datetime(2015, 5, 31)\n",
        "dt = timedelta(days = 1)\n",
        "dates = np.arange(d0, d1, dt).astype(datetime)\n",
        "\n",
        "nest_asyncio.apply()\n",
        "df_e = pd.DataFrame()\n",
        "for i in dates:\n",
        "  e = twint.Config()\n",
        "  e.Search = 'ebola'\n",
        "  e.Until  = \"{}\".format(i)\n",
        "  e.Lang = \"en\"\n",
        "  e.Pandas = True\n",
        "  e.Limit = 1000\n",
        "  # Run\n",
        "  twint.run.Search(e)\n",
        "  df_e = df_e.append(twint.storage.panda.Tweets_df[['date', 'tweet','language' ,'username', 'nlikes', 'nretweets']])\n",
        "  df_e.date = pd.to_datetime(df_e.date)\n",
        "  df_e = df_e[df_e.language == 'en']\n",
        "  df_e = df_e[df_e.date >= datetime(2014,3,1)]\n",
        "  df_e = df_e[df_e.date <= datetime(2015,5,31)]\n",
        "  df_e.to_csv('df_e')"
      ],
      "execution_count": null,
      "outputs": []
    },
    {
      "cell_type": "code",
      "metadata": {
        "id": "xnco_HI1fuQR"
      },
      "source": [
        "from google.colab import files"
      ],
      "execution_count": null,
      "outputs": []
    },
    {
      "cell_type": "code",
      "metadata": {
        "id": "aNO2jTWTI_Vh"
      },
      "source": [
        "files.download(\"df_e.csv\")"
      ],
      "execution_count": null,
      "outputs": []
    },
    {
      "cell_type": "markdown",
      "metadata": {
        "id": "xXkKFPUXfJM1"
      },
      "source": [
        "##Upload Datasets"
      ]
    },
    {
      "cell_type": "code",
      "metadata": {
        "id": "rCqGmXCDLj_k"
      },
      "source": [
        "import csv"
      ],
      "execution_count": null,
      "outputs": []
    },
    {
      "cell_type": "code",
      "metadata": {
        "id": "dKK2HuwrKFEu"
      },
      "source": [
        "with open(\"df_e.csv\") as e:\n",
        "    reader = csv.reader(e)\n",
        "    l_e = list(reader)\n",
        "    \n",
        "df_e = pd.DataFrame(l_e, columns = ['','date', 'tweet','language' ,'username', 'nlikes', 'nretweets'])[1:].dropna().reset_index()"
      ],
      "execution_count": null,
      "outputs": []
    },
    {
      "cell_type": "code",
      "metadata": {
        "colab": {
          "base_uri": "https://localhost:8080/"
        },
        "id": "EgNEDysrJLs_",
        "outputId": "29d627f5-acbb-45b0-8556-289e92becb18"
      },
      "source": [
        "df_e.head()"
      ],
      "execution_count": null,
      "outputs": [
        {
          "output_type": "execute_result",
          "data": {
            "text/plain": [
              "67929"
            ]
          },
          "metadata": {
            "tags": []
          },
          "execution_count": 172
        }
      ]
    },
    {
      "cell_type": "markdown",
      "metadata": {
        "id": "svw4dG5rEXYD"
      },
      "source": [
        "## Sentiment Labelling"
      ]
    },
    {
      "cell_type": "markdown",
      "metadata": {
        "id": "pH8y2P762FSu"
      },
      "source": [
        "To compute the sentiments I used the Vader Sentiment Analyzer from the nltk package. \n",
        "\n",
        "It allows to compute very fast sentiment analysis. The output of the function is a dictionary containing the polarities of the three main sentiments:\n",
        "- Positive\n",
        "- Negative\n",
        "- Neutral\n",
        "\n",
        "\n",
        "Also, it returns a quantity named 'compound' which is the normalized sum of the 3 quantities.\n"
      ]
    },
    {
      "cell_type": "code",
      "metadata": {
        "id": "70Ue7YaNPOLm",
        "colab": {
          "base_uri": "https://localhost:8080/"
        },
        "outputId": "d1b5fef8-f2ee-4557-b5bf-6895010801fc"
      },
      "source": [
        "import nltk\n",
        "nltk.download('vader_lexicon')\n",
        "from nltk.sentiment.vader import SentimentIntensityAnalyzer"
      ],
      "execution_count": null,
      "outputs": [
        {
          "output_type": "stream",
          "text": [
            "[nltk_data] Downloading package vader_lexicon to /root/nltk_data...\n",
            "[nltk_data]   Package vader_lexicon is already up-to-date!\n"
          ],
          "name": "stdout"
        }
      ]
    },
    {
      "cell_type": "code",
      "metadata": {
        "id": "Gjr-4F2MtWvr"
      },
      "source": [
        "sent_analyzer = SentimentIntensityAnalyzer()"
      ],
      "execution_count": null,
      "outputs": []
    },
    {
      "cell_type": "code",
      "metadata": {
        "id": "LsfOLj1otyZV"
      },
      "source": [
        "e = [sent_analyzer.polarity_scores(i) for i in df_e.tweet]"
      ],
      "execution_count": null,
      "outputs": []
    },
    {
      "cell_type": "code",
      "metadata": {
        "id": "Nh2_Rq6tta9G"
      },
      "source": [
        "df_e['polarity'] = [i.get('compound') for i in e]"
      ],
      "execution_count": null,
      "outputs": []
    },
    {
      "cell_type": "markdown",
      "metadata": {
        "id": "v7gfaemNFwJc"
      },
      "source": [
        "Let's now label the tweets as 'positive', 'negative or 'neutral' based on values of the compound. Let's start with an heaven splitting into three parts. "
      ]
    },
    {
      "cell_type": "code",
      "metadata": {
        "id": "bswwjKLgtmKo"
      },
      "source": [
        "df_e['sentiment'] = np.repeat(1,len(df_e))\n",
        "for i in range(len(df_e)):\n",
        "   if df_e.polarity[i] > 1/3:\n",
        "     df_e['sentiment'].loc[i] = 'positive'\n",
        "   elif df_e.polarity[i] < -1/3:\n",
        "        df_e['sentiment'].loc[i] = 'negative'\n",
        "   else:\n",
        "        df_e['sentiment'].loc[i] = 'neutral'"
      ],
      "execution_count": null,
      "outputs": []
    },
    {
      "cell_type": "code",
      "metadata": {
        "id": "sPzILkSAV1WG"
      },
      "source": [
        "df_e.sentiment"
      ],
      "execution_count": null,
      "outputs": []
    },
    {
      "cell_type": "code",
      "metadata": {
        "colab": {
          "base_uri": "https://localhost:8080/"
        },
        "id": "Mtexf7eTGBJU",
        "outputId": "93a5b336-fc43-4b1a-dbbb-bd5f1e9e71a2"
      },
      "source": [
        "plt.hist(df_e.sentiment)\n",
        "plt.show()"
      ],
      "execution_count": null,
      "outputs": [
        {
          "output_type": "execute_result",
          "data": {
            "text/plain": [
              "(array([18185.,     0.,     0.,     0.,     0., 37907.,     0.,     0.,\n",
              "            0., 11837.]),\n",
              " array([0. , 0.2, 0.4, 0.6, 0.8, 1. , 1.2, 1.4, 1.6, 1.8, 2. ]),\n",
              " <a list of 10 Patch objects>)"
            ]
          },
          "metadata": {
            "tags": []
          },
          "execution_count": 184
        },
        {
          "output_type": "display_data",
          "data": {
            "image/png": "[encoded data removed]",
            "text/plain": [
              "<Figure size 432x288 with 1 Axes>"
            ]
          },
          "metadata": {
            "tags": [],
            "needs_background": "light"
          }
        }
      ]
    },
    {
      "cell_type": "markdown",
      "metadata": {
        "id": "exNx7H4zFSRE"
      },
      "source": [
        "Vader's sentiment analyzer is pretty cautious, therefore it is likely not to take extremely polarized values. Consequently, under this splitting of data, the vast majority of tweets are labelled as neutral.\n",
        "\n",
        "So let's see what happens if the 'neutral' label is removed, letting the sentiments be either 'positive' or 'negative' based, respectively, on positive or negative values of the compound."
      ]
    },
    {
      "cell_type": "code",
      "metadata": {
        "id": "pnrAdtkVG05P"
      },
      "source": [
        "sen = list(np.repeat(1,len(df_c)))\n",
        "for i in range(len(df_c)):\n",
        "   if df_c.polarity[i] > 0:\n",
        "     sen[i] = 'positive'\n",
        "   else:\n",
        "    sen[i] = 'negative'"
      ],
      "execution_count": null,
      "outputs": []
    },
    {
      "cell_type": "code",
      "metadata": {
        "id": "O8pHohd8G2H0"
      },
      "source": [
        "plt.hist(sen)\n",
        "plt.show()"
      ],
      "execution_count": null,
      "outputs": []
    },
    {
      "cell_type": "code",
      "metadata": {
        "id": "cL2t8_8dEZjZ"
      },
      "source": [
        "sen = list(np.repeat(1,len(df_e)))\n",
        "for i in range(len(df_e)):\n",
        "   if df_e.polarity[i] > 0:\n",
        "     sen[i] = 'positive'\n",
        "   else:\n",
        "    sen[i] = 'negative'"
      ],
      "execution_count": null,
      "outputs": []
    },
    {
      "cell_type": "code",
      "metadata": {
        "id": "hIzjk8WMDwaG"
      },
      "source": [
        "plt.hist(sen)\n",
        "plt.show()"
      ],
      "execution_count": null,
      "outputs": []
    },
    {
      "cell_type": "markdown",
      "metadata": {
        "id": "h2VBI3CFG-Rw"
      },
      "source": [
        "From those histograms more meaningful result are obtained. As expected, tweets related both to covid and ebola are, on average, much more negative than positive. "
      ]
    },
    {
      "cell_type": "markdown",
      "metadata": {
        "id": "t1UseOKjrAEk"
      },
      "source": [
        "## Preprocessing\n"
      ]
    },
    {
      "cell_type": "code",
      "metadata": {
        "id": "4pF9lYG2Kq45"
      },
      "source": [
        "import re\n",
        "import string\n",
        "import nltk\n",
        "from nltk.corpus import stopwords\n",
        "from itertools import chain\n",
        "from nltk.stem.porter import PorterStemmer \n",
        "from nltk.stem.snowball import SnowballStemmer\n",
        "from nltk.stem.wordnet import WordNetLemmatizer\n",
        "nltk.download('stopwords')\n",
        "nltk.download('wordnet')\n",
        "from sklearn.feature_extraction.text import CountVectorizer"
      ],
      "execution_count": null,
      "outputs": []
    },
    {
      "cell_type": "markdown",
      "metadata": {
        "id": "9e0GDIT3kXBY"
      },
      "source": [
        "**Text Cleaning**"
      ]
    },
    {
      "cell_type": "markdown",
      "metadata": {
        "id": "AyYPYkOVlsz7"
      },
      "source": [
        "I created the clean_text function in order to clean the tweets from noisy characters. \n",
        "\n",
        "items removed: \n",
        "- links\n",
        "- punctuations/special characters \n",
        "- emoticons\n",
        "\n",
        "Before doing so I also put all the texts in lower case.\n",
        "I did not remove alphanumeric words to avoid eliminating words like covid19, covid-19 etc."
      ]
    },
    {
      "cell_type": "code",
      "metadata": {
        "id": "Q_iIFdxEpeWV"
      },
      "source": [
        "def clean_text(text):\n",
        "    text = str(text).lower()\n",
        "    text = re.sub('https://\\S+|www\\.\\S', '', text)      # remove link\n",
        "    text = re.sub(\"['!@#$%^&*()_+<>?:.,;]\" , '', text)  # punctuations/special characters\n",
        "    text = re.sub(re.compile(\"[\"                        # emoticon\n",
        "        u\"\\U0001F600-\\U0001F64F\"  \n",
        "        u\"\\U0001F300-\\U0001F5FF\"  \n",
        "        u\"\\U0001F680-\\U0001F6FF\"  \n",
        "        u\"\\U0001F1E0-\\U0001F1FF\"  \n",
        "        u\"\\U00002702-\\U000027B0\"\n",
        "        u\"\\U000024C2-\\U0001F251\"\n",
        "        u\"\\U0001f926-\\U0001f937\"\n",
        "        u'\\U00010000-\\U0010ffff'\n",
        "        u\"\\u200d\"\n",
        "        u\"\\u2640-\\u2642\"\n",
        "        u\"\\u2600-\\u2B55\"\n",
        "        u\"\\u23cf\"\n",
        "        u\"\\u23e9\"\n",
        "        u\"\\u231a\"\n",
        "        u\"\\u3030\"\n",
        "        u\"\\ufe0f\"\n",
        "                           \"]+\", flags=re.UNICODE), '', text)\n",
        "    return text"
      ],
      "execution_count": null,
      "outputs": []
    },
    {
      "cell_type": "markdown",
      "metadata": {
        "id": "YkCr0_NDhG36"
      },
      "source": [
        "After being cleaned, each tweet is splitted into single words. \n",
        "Therefore, 'words' is a list of lists, where each element is a list of separated strings. \n",
        "Now, other pre-processing actions will be performed. "
      ]
    },
    {
      "cell_type": "markdown",
      "metadata": {
        "id": "zA_GSavhiE-C"
      },
      "source": [
        "**Stopwords removal**"
      ]
    },
    {
      "cell_type": "markdown",
      "metadata": {
        "id": "9J3IT00vn8MF"
      },
      "source": [
        "What is considered a stopword can be found in the set  below. Such list belongs to the package nltk. "
      ]
    },
    {
      "cell_type": "code",
      "metadata": {
        "colab": {
          "base_uri": "https://localhost:8080/"
        },
        "id": "cg6rJ4TSAFfJ",
        "outputId": "838d1178-6988-4680-fb22-f7f33f738a8a"
      },
      "source": [
        "stopwords = set(stopwords.words('english')) \n",
        "stopwords"
      ],
      "execution_count": null,
      "outputs": [
        {
          "output_type": "execute_result",
          "data": {
            "text/plain": [
              "{'a',\n",
              " 'about',\n",
              " 'above',\n",
              " 'after',\n",
              " 'again',\n",
              " 'against',\n",
              " 'ain',\n",
              " 'all',\n",
              " 'am',\n",
              " 'an',\n",
              " 'and',\n",
              " 'any',\n",
              " 'are',\n",
              " 'aren',\n",
              " \"aren't\",\n",
              " 'as',\n",
              " 'at',\n",
              " 'be',\n",
              " 'because',\n",
              " 'been',\n",
              " 'before',\n",
              " 'being',\n",
              " 'below',\n",
              " 'between',\n",
              " 'both',\n",
              " 'but',\n",
              " 'by',\n",
              " 'can',\n",
              " 'couldn',\n",
              " \"couldn't\",\n",
              " 'd',\n",
              " 'did',\n",
              " 'didn',\n",
              " \"didn't\",\n",
              " 'do',\n",
              " 'does',\n",
              " 'doesn',\n",
              " \"doesn't\",\n",
              " 'doing',\n",
              " 'don',\n",
              " \"don't\",\n",
              " 'down',\n",
              " 'during',\n",
              " 'each',\n",
              " 'few',\n",
              " 'for',\n",
              " 'from',\n",
              " 'further',\n",
              " 'had',\n",
              " 'hadn',\n",
              " \"hadn't\",\n",
              " 'has',\n",
              " 'hasn',\n",
              " \"hasn't\",\n",
              " 'have',\n",
              " 'haven',\n",
              " \"haven't\",\n",
              " 'having',\n",
              " 'he',\n",
              " 'her',\n",
              " 'here',\n",
              " 'hers',\n",
              " 'herself',\n",
              " 'him',\n",
              " 'himself',\n",
              " 'his',\n",
              " 'how',\n",
              " 'i',\n",
              " 'if',\n",
              " 'in',\n",
              " 'into',\n",
              " 'is',\n",
              " 'isn',\n",
              " \"isn't\",\n",
              " 'it',\n",
              " \"it's\",\n",
              " 'its',\n",
              " 'itself',\n",
              " 'just',\n",
              " 'll',\n",
              " 'm',\n",
              " 'ma',\n",
              " 'me',\n",
              " 'mightn',\n",
              " \"mightn't\",\n",
              " 'more',\n",
              " 'most',\n",
              " 'mustn',\n",
              " \"mustn't\",\n",
              " 'my',\n",
              " 'myself',\n",
              " 'needn',\n",
              " \"needn't\",\n",
              " 'no',\n",
              " 'nor',\n",
              " 'not',\n",
              " 'now',\n",
              " 'o',\n",
              " 'of',\n",
              " 'off',\n",
              " 'on',\n",
              " 'once',\n",
              " 'only',\n",
              " 'or',\n",
              " 'other',\n",
              " 'our',\n",
              " 'ours',\n",
              " 'ourselves',\n",
              " 'out',\n",
              " 'over',\n",
              " 'own',\n",
              " 're',\n",
              " 's',\n",
              " 'same',\n",
              " 'shan',\n",
              " \"shan't\",\n",
              " 'she',\n",
              " \"she's\",\n",
              " 'should',\n",
              " \"should've\",\n",
              " 'shouldn',\n",
              " \"shouldn't\",\n",
              " 'so',\n",
              " 'some',\n",
              " 'such',\n",
              " 't',\n",
              " 'than',\n",
              " 'that',\n",
              " \"that'll\",\n",
              " 'the',\n",
              " 'their',\n",
              " 'theirs',\n",
              " 'them',\n",
              " 'themselves',\n",
              " 'then',\n",
              " 'there',\n",
              " 'these',\n",
              " 'they',\n",
              " 'this',\n",
              " 'those',\n",
              " 'through',\n",
              " 'to',\n",
              " 'too',\n",
              " 'under',\n",
              " 'until',\n",
              " 'up',\n",
              " 've',\n",
              " 'very',\n",
              " 'was',\n",
              " 'wasn',\n",
              " \"wasn't\",\n",
              " 'we',\n",
              " 'were',\n",
              " 'weren',\n",
              " \"weren't\",\n",
              " 'what',\n",
              " 'when',\n",
              " 'where',\n",
              " 'which',\n",
              " 'while',\n",
              " 'who',\n",
              " 'whom',\n",
              " 'why',\n",
              " 'will',\n",
              " 'with',\n",
              " 'won',\n",
              " \"won't\",\n",
              " 'wouldn',\n",
              " \"wouldn't\",\n",
              " 'y',\n",
              " 'you',\n",
              " \"you'd\",\n",
              " \"you'll\",\n",
              " \"you're\",\n",
              " \"you've\",\n",
              " 'your',\n",
              " 'yours',\n",
              " 'yourself',\n",
              " 'yourselves'}"
            ]
          },
          "metadata": {
            "tags": []
          },
          "execution_count": 191
        }
      ]
    },
    {
      "cell_type": "code",
      "metadata": {
        "id": "14eVWcYLqIyQ"
      },
      "source": [
        "def remove_stopwords(text):\n",
        "    stop = set(stopwords.words('english'))  \n",
        "    stop.add('im')\n",
        "    stop.add(\"i'm\")\n",
        "    stop.add('could')\n",
        "    stop.add('go')\n",
        "    stop.add('it')\n",
        "    stop.add('get')\n",
        "   # not present in the original set but very recurrent words\n",
        "    text = [[i for i in i.split() if i not in stop] for i in text]\n",
        "    return  text"
      ],
      "execution_count": null,
      "outputs": []
    },
    {
      "cell_type": "markdown",
      "metadata": {
        "id": "P1x7WR0InIe_"
      },
      "source": [
        "**Lemmatization**"
      ]
    },
    {
      "cell_type": "code",
      "metadata": {
        "id": "oPL8XiEMm1rn"
      },
      "source": [
        "def lemmatize(text):\n",
        "    lem = WordNetLemmatizer()\n",
        "    corpus = [[lem.lemmatize(i, pos = 'v') for i in i] for i in text]\n",
        "    return text"
      ],
      "execution_count": null,
      "outputs": []
    },
    {
      "cell_type": "markdown",
      "metadata": {
        "id": "rX8c2HLdnLtT"
      },
      "source": [
        "**Stemming**"
      ]
    },
    {
      "cell_type": "code",
      "metadata": {
        "id": "EpMKYYT0m_ot"
      },
      "source": [
        "def sb_stem(text):\n",
        "   stemmer = SnowballStemmer(language = 'english')\n",
        "   text = [stemmer.stem(i) for i in text]\n",
        "   return text"
      ],
      "execution_count": null,
      "outputs": []
    },
    {
      "cell_type": "code",
      "metadata": {
        "id": "IEI2i-x7GI8G"
      },
      "source": [
        "def p_stem(text):\n",
        "   stemmer = PorterStemmer()\n",
        "   text = [stemmer.stem(i) for i in text]\n",
        "   return text"
      ],
      "execution_count": null,
      "outputs": []
    },
    {
      "cell_type": "markdown",
      "metadata": {
        "id": "seMjN-nK-E2c"
      },
      "source": [
        "**Final outcome of preprocessing**"
      ]
    },
    {
      "cell_type": "code",
      "metadata": {
        "id": "hWEoecHO7MbZ"
      },
      "source": [
        "def preprocess(text):\n",
        "  cl_tweets = [clean_text(c) for c in text]\n",
        "  cl_tweets = pd.Series(cl_tweets).astype(str)\n",
        "  removed = remove_stopwords(cl_tweets) \n",
        "  lemmatized = [lemmatize(i) for i in removed]\n",
        "  #stemmed = [p_stem(i) for i in lemmatized]\n",
        "  return lemmatized #stemmed"
      ],
      "execution_count": null,
      "outputs": []
    },
    {
      "cell_type": "code",
      "metadata": {
        "id": "eJCn4zhdqCVA"
      },
      "source": [
        "from nltk.corpus import stopwords"
      ],
      "execution_count": null,
      "outputs": []
    },
    {
      "cell_type": "code",
      "metadata": {
        "id": "mItYdpcXgLKN"
      },
      "source": [
        "df_e['tweets'] = preprocess(df_e.tweet)"
      ],
      "execution_count": null,
      "outputs": []
    },
    {
      "cell_type": "markdown",
      "metadata": {
        "id": "ndBAbB6vgGB8"
      },
      "source": [
        "## Analysis of keywords"
      ]
    },
    {
      "cell_type": "markdown",
      "metadata": {
        "id": "xCVYQObOPVLq"
      },
      "source": [
        "Let us now create an even more polarized situation.\n",
        "\n",
        "Let's take only the most polarized positive and  negative tweets in order to find (if any) differences and similarities in the use of most common words between very positive and very negative tweets."
      ]
    },
    {
      "cell_type": "code",
      "metadata": {
        "id": "BqVIovMJH0Xb"
      },
      "source": [
        "df_e['polarized_sen'] = np.repeat(1,len(df_e))\n",
        "for i in range(len(df_e)):\n",
        "   if df_e.polarity[i] > 0.5:\n",
        "     df_e['polarized_sen'].loc[i] = 'positive'\n",
        "   elif df_e.polarity[i] < -0.5:\n",
        "        df_e['polarized_sen'].loc[i] = 'negative'\n",
        "   else:\n",
        "        df_e['polarized_sen'].loc[i] = 'neutral'"
      ],
      "execution_count": null,
      "outputs": []
    },
    {
      "cell_type": "code",
      "metadata": {
        "id": "iefUHq-2XtpP"
      },
      "source": [
        "from gensim.models import Word2Vec\n",
        "from matplotlib_venn import venn2"
      ],
      "execution_count": null,
      "outputs": []
    },
    {
      "cell_type": "code",
      "metadata": {
        "id": "QWX0pt5FIFPe"
      },
      "source": [
        "df_e_neg = df_e[df_e.polarized_sen == 'negative'].reset_index()\n",
        "df_e_pos = df_e[df_e.polarized_sen == 'positive'].reset_index()"
      ],
      "execution_count": null,
      "outputs": []
    },
    {
      "cell_type": "code",
      "metadata": {
        "id": "AIwUr_4tQo6T"
      },
      "source": [
        "neg_w2v = Word2Vec(df_e_neg.tweets, min_count= 400)"
      ],
      "execution_count": null,
      "outputs": []
    },
    {
      "cell_type": "code",
      "metadata": {
        "id": "7NTcDOGJQsCH"
      },
      "source": [
        "pos_w2v = Word2Vec(df_e_pos.tweets, min_count= 200)"
      ],
      "execution_count": null,
      "outputs": []
    },
    {
      "cell_type": "code",
      "metadata": {
        "id": "MLx-HtERQt26"
      },
      "source": [
        "n = set(list(neg_w2v.wv.vocab))\n",
        "p = set(list(pos_w2v.wv.vocab))\n",
        "\n",
        "set_ebola = n.union(p)\n",
        "\n",
        "common_elements = n.intersection(p) "
      ],
      "execution_count": null,
      "outputs": []
    },
    {
      "cell_type": "code",
      "metadata": {
        "id": "itam8UbqQvkn"
      },
      "source": [
        "ebola_common_neg = n - n.intersection(p)"
      ],
      "execution_count": null,
      "outputs": []
    },
    {
      "cell_type": "code",
      "metadata": {
        "id": "T8YgNIE7Qwzx"
      },
      "source": [
        "ebola_common_pos = p - n.intersection(p)"
      ],
      "execution_count": null,
      "outputs": []
    },
    {
      "cell_type": "code",
      "metadata": {
        "colab": {
          "base_uri": "https://localhost:8080/",
          "height": 472
        },
        "id": "Mt7Vt7bjUIPI",
        "outputId": "12c228f9-883c-4fbe-85aa-0188b6aa63b2"
      },
      "source": [
        "set1 = n\n",
        "set2 = p\n",
        "\n",
        "plt.figure(figsize=(10, 10))\n",
        "venn = venn2([set1, set2], ('Negative','Positive'))\n",
        "venn.get_label_by_id('100').set_text('\\n'.join(set1-set2))\n",
        "venn.get_label_by_id('110').set_text('\\n'.join(set1&set2))\n",
        "venn.get_label_by_id('010').set_text('\\n'.join(set2-set1))\n",
        "plt.title('Ebola Words Sentiment')\n",
        "plt.show()"
      ],
      "execution_count": null,
      "outputs": [
        {
          "output_type": "display_data",
          "data": {
            "image/png": "[encoded data removed]",
            "text/plain": [
              "<Figure size 720x720 with 1 Axes>"
            ]
          },
          "metadata": {
            "tags": []
          }
        }
      ]
    },
    {
      "cell_type": "markdown",
      "metadata": {
        "id": "WIgeC2hFbHsL"
      },
      "source": [
        "Also, it might be interesting to explore the overall difference in length between positive and negative tweets."
      ]
    },
    {
      "cell_type": "code",
      "metadata": {
        "colab": {
          "base_uri": "https://localhost:8080/",
          "height": 282
        },
        "id": "KuLAMMkdKxRT",
        "outputId": "c23dfdec-6c8b-46a4-e89d-a6a8f1d3b0e9"
      },
      "source": [
        "df_e_neg['length'] = [len(i) for i in df_e_neg.tweet]\n",
        "df_e_pos['length'] = [len(i) for i in df_e_pos.tweet]\n",
        "\n",
        "plt.hist(df_e_pos.length, label = 'length positive',alpha = 0.5)\n",
        "plt.hist(df_e_neg.length, label = 'length negative', alpha = 0.5)\n",
        "plt.legend(loc='upper left')\n",
        "plt.show()"
      ],
      "execution_count": null,
      "outputs": [
        {
          "output_type": "display_data",
          "data": {
            "image/png": "[encoded data removed]",
            "text/plain": [
              "<Figure size 432x288 with 1 Axes>"
            ]
          },
          "metadata": {
            "tags": [],
            "needs_background": "light"
          }
        },
        {
          "output_type": "display_data",
          "data": {
            "text/plain": [
              "<Figure size 720x720 with 0 Axes>"
            ]
          },
          "metadata": {
            "tags": []
          }
        }
      ]
    },
    {
      "cell_type": "markdown",
      "metadata": {
        "id": "Ld1n10RgbQi4"
      },
      "source": [
        "Both for covid and ebola, there's a pattern showing longer tweets for negative sentiment. This pattern is clear for ebola-related tweets and only slightly confirmed by covid-related ones."
      ]
    },
    {
      "cell_type": "code",
      "metadata": {
        "id": "na73LfTLG14P"
      },
      "source": [
        "import wordcloud"
      ],
      "execution_count": null,
      "outputs": []
    },
    {
      "cell_type": "code",
      "metadata": {
        "colab": {
          "base_uri": "https://localhost:8080/",
          "height": 327
        },
        "id": "B1WeEQHuIZn0",
        "outputId": "844a2e13-d526-479e-e7de-67504fd253a6"
      },
      "source": [
        "wc = wordcloud.WordCloud(background_color='black', max_words=100, \n",
        "                         max_font_size=50, stopwords = ['dict_keys', '|'], )\n",
        "wc = wc.generate(str(\",\".join(set_ebola)))\n",
        "plt.figure(figsize=(10, 10))\n",
        "plt.axis('off')\n",
        "plt.imshow(wc)\n",
        "plt.show()"
      ],
      "execution_count": null,
      "outputs": [
        {
          "output_type": "display_data",
          "data": {
            "text/plain": [
              "<Figure size 432x288 with 0 Axes>"
            ]
          },
          "metadata": {
            "tags": []
          }
        },
        {
          "output_type": "display_data",
          "data": {
            "image/png": "[encoded data removed]",
            "text/plain": [
              "<Figure size 720x720 with 1 Axes>"
            ]
          },
          "metadata": {
            "tags": [],
            "needs_background": "light"
          }
        }
      ]
    },
    {
      "cell_type": "markdown",
      "metadata": {
        "id": "kRW-8HRtk1Sg"
      },
      "source": [
        "**Word Embedding**"
      ]
    },
    {
      "cell_type": "markdown",
      "metadata": {
        "id": "6HPJ1Vxf3c3x"
      },
      "source": [
        "Word Embedding through a Principal Component Analysis model"
      ]
    },
    {
      "cell_type": "code",
      "metadata": {
        "id": "VziOtDAMksKL"
      },
      "source": [
        "from sklearn.decomposition import PCA\n",
        "import matplotlib.pyplot as plt"
      ],
      "execution_count": null,
      "outputs": []
    },
    {
      "cell_type": "code",
      "metadata": {
        "id": "7Sic2UTgOJOA"
      },
      "source": [
        "ebola_w2v = Word2Vec(df_e.tweets, min_count = 1200)"
      ],
      "execution_count": null,
      "outputs": []
    },
    {
      "cell_type": "code",
      "metadata": {
        "colab": {
          "base_uri": "https://localhost:8080/",
          "height": 646
        },
        "id": "DzsjYUGzk5Le",
        "outputId": "2f44ae7d-384a-4ca2-aa8e-c4e38ac33618"
      },
      "source": [
        "X = ebola_w2v[ebola_w2v.wv.vocab]\n",
        "pca = PCA(n_components=2)\n",
        "result = pca.fit_transform(X)\n",
        "plt.figure(figsize=(10, 10))\n",
        "plt.scatter(result[:,0], result[:,1])\n",
        "words = list(ebola_w2v.wv.vocab)\n",
        "for i, word in enumerate(words):\n",
        "\tplt.annotate(word, xy=(result[i,0], result[i,1]))\n",
        "plt.show()"
      ],
      "execution_count": null,
      "outputs": [
        {
          "output_type": "stream",
          "text": [
            "/usr/local/lib/python3.7/dist-packages/ipykernel_launcher.py:1: DeprecationWarning: Call to deprecated `__getitem__` (Method will be removed in 4.0.0, use self.wv.__getitem__() instead).\n",
            "  \"\"\"Entry point for launching an IPython kernel.\n"
          ],
          "name": "stderr"
        },
        {
          "output_type": "display_data",
          "data": {
            "image/png": "[encoded data removed]",
            "text/plain": [
              "<Figure size 720x720 with 1 Axes>"
            ]
          },
          "metadata": {
            "tags": [],
            "needs_background": "light"
          }
        }
      ]
    },
    {
      "cell_type": "markdown",
      "metadata": {
        "id": "lb0rKN2ex3nk"
      },
      "source": [
        "## Introducing more articulated emotions\n",
        "\n",
        "When dealing with a pandemic event, the distinction of sentiment only based on 'positive', 'negative', or'neutral' sentiment may be restrictive. It might be interesting to investigate more articulated emotions of tweets, and in this section this kind of investigation will be performed.\n"
      ]
    },
    {
      "cell_type": "markdown",
      "metadata": {
        "id": "J3pRmRbAon8i"
      },
      "source": [
        "NRLLex is a package trough which more articulated sentiments can be obtained. In particular, the emotions of:\n",
        "\n",
        "- Trust\n",
        "- Fear\n",
        "- Anticipation\n",
        "- Anger\n",
        "- Joy\n",
        "- Sadness\n",
        "- Disgust\n",
        "- Surprise\n",
        "\n",
        "are recognised and assigned a number from 0 to 1 based on the polarity of the emotion. There may be several emotions representing a tweet, with the sum of ther polarities being equal to 1."
      ]
    },
    {
      "cell_type": "code",
      "metadata": {
        "id": "7iPwdVC7Bavh",
        "colab": {
          "base_uri": "https://localhost:8080/"
        },
        "outputId": "fe1deb16-ad3e-4aee-9c55-5c08d06425c0"
      },
      "source": [
        "!pip install NRCLex"
      ],
      "execution_count": null,
      "outputs": [
        {
          "output_type": "stream",
          "text": [
            "Requirement already satisfied: NRCLex in /usr/local/lib/python3.7/dist-packages (3.0.0)\n",
            "Requirement already satisfied: textblob in /usr/local/lib/python3.7/dist-packages (from NRCLex) (0.15.3)\n",
            "Requirement already satisfied: nltk>=3.1 in /usr/local/lib/python3.7/dist-packages (from textblob->NRCLex) (3.2.5)\n",
            "Requirement already satisfied: six in /usr/local/lib/python3.7/dist-packages (from nltk>=3.1->textblob->NRCLex) (1.15.0)\n"
          ],
          "name": "stdout"
        }
      ]
    },
    {
      "cell_type": "code",
      "metadata": {
        "id": "vVcIo0ucyhNt",
        "colab": {
          "base_uri": "https://localhost:8080/"
        },
        "outputId": "7ae6d2d7-5a7c-41f9-b758-c592ae4c8f57"
      },
      "source": [
        "from nrclex import NRCLex\n",
        "from collections import Counter\n",
        "nltk.download('punkt')\n",
        "from datetime import datetime"
      ],
      "execution_count": null,
      "outputs": [
        {
          "output_type": "stream",
          "text": [
            "[nltk_data] Downloading package punkt to /root/nltk_data...\n",
            "[nltk_data]   Package punkt is already up-to-date!\n"
          ],
          "name": "stdout"
        }
      ]
    },
    {
      "cell_type": "markdown",
      "metadata": {
        "id": "pixwpt9noOeg"
      },
      "source": [
        "**Covid**"
      ]
    },
    {
      "cell_type": "markdown",
      "metadata": {
        "id": "jwu2saGhiCAC"
      },
      "source": [
        "Two functions have been created to retrieve the emotions for each tweet.\n",
        "\n",
        "- getEmotion( ) returns a dictionary where emotions and corresponding frequencies of each tweet are stored.\n",
        "\n",
        "- EmotionSummary( ) returns a dictionary with the overall sum of frequencies of each emotion.\n"
      ]
    },
    {
      "cell_type": "code",
      "metadata": {
        "id": "tgCIAI4kJqKm"
      },
      "source": [
        "def getEmotion(sentence):\n",
        "  emotion = NRCLex(sentence) \n",
        "  a_l = emotion.affect_frequencies\n",
        "  return a_l\n",
        "\n",
        "def EmotionSummary(list):\n",
        "  emotions = [getEmotion(i) for i in list]\n",
        "  c = Counter()\n",
        "  for d in emotions:\n",
        "    c.update(d)\n",
        "  c = dict(c)\n",
        "  c = dict(sorted(c.items(), key=lambda item: item[1], reverse=True))\n",
        "  c.pop('negative')   \n",
        "  c.pop('positive')\n",
        "  c.pop('anticip')\n",
        "  return c"
      ],
      "execution_count": null,
      "outputs": []
    },
    {
      "cell_type": "code",
      "metadata": {
        "id": "QNlXX9a_sSxJ"
      },
      "source": [
        "ebola_emotion_sum = EmotionSummary(df_e.tweet)"
      ],
      "execution_count": null,
      "outputs": []
    },
    {
      "cell_type": "code",
      "metadata": {
        "id": "bvE3LjzLsi_R",
        "colab": {
          "base_uri": "https://localhost:8080/",
          "height": 609
        },
        "outputId": "71ef2534-d2c2-4175-ff7a-50f7d1f3138f"
      },
      "source": [
        "plt.figure(figsize=(10,10))\n",
        "plt.bar(ebola_emotion_sum.keys(), ebola_emotion_sum.values(), color = ['red','blue', 'green', 'brown', 'orange','grey','purple', 'pink'], alpha = 0.6)\n",
        "plt.show()"
      ],
      "execution_count": null,
      "outputs": [
        {
          "output_type": "execute_result",
          "data": {
            "text/plain": [
              "<BarContainer object of 8 artists>"
            ]
          },
          "metadata": {
            "tags": []
          },
          "execution_count": 241
        },
        {
          "output_type": "display_data",
          "data": {
            "image/png": "[encoded data removed]",
            "text/plain": [
              "<Figure size 720x720 with 1 Axes>"
            ]
          },
          "metadata": {
            "tags": [],
            "needs_background": "light"
          }
        }
      ]
    },
    {
      "cell_type": "markdown",
      "metadata": {
        "id": "lW5MIIJQtvig"
      },
      "source": [
        "For ebola analysis data haven't been divided into periods but only general emotion analysis has been computed. \n",
        "\n",
        "In this case, fear is clearly the most present sentiment, followed by trust, anticipation and sadness. \n",
        "\n",
        "The first five emotions, regardless the rank, are the same both for ebola and covid and might be considered the 5 emotions associated with a pandemic outbreak."
      ]
    },
    {
      "cell_type": "markdown",
      "metadata": {
        "id": "VjJILQo6wMAw"
      },
      "source": [
        "## References\n",
        "\n",
        "- Xue, J., Chen, J., Hu, R., Chen, C., Zheng, C., Su, Y., Zhu, T., *Twitter Discussions and Emotions About the COVID-19 Pandemic: Machine Learning Approach*, J Med Internet Res. 2020 Nov 25;22(11):e20550. doi: 10.2196/20550. PMID: 33119535; PMCID: PMC7690968. \n",
        "\n",
        "- Liang, H., Fung, I.CH., Tse, Z.T.H. et al., 2019, *How did Ebola information spread on twitter: broadcasting or viral spreading?*, BMC Public Health 19, 438 (2019). https://doi.org/10.1186/s12889-019-6747-8 \n",
        "\n",
        "- VanderPlas, J., 2016, *Python Data Science Handbook: Essential Tools for Working with Data*, O'Reilly. \n",
        "\n"
      ]
    }
  ]
}