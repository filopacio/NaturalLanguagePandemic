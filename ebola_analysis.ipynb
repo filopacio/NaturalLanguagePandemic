{
  "nbformat": 4,
  "nbformat_minor": 0,
  "metadata": {
    "colab": {
      "name": "ebola_analysis.ipynb",
      "provenance": [],
      "collapsed_sections": [
        "ndBAbB6vgGB8",
        "lb0rKN2ex3nk",
        "VjJILQo6wMAw"
      ],
      "authorship_tag": "ABX9TyMaQdJVHt6cyCVdqR46LTBN",
      "include_colab_link": true
    },
    "kernelspec": {
      "name": "python3",
      "display_name": "Python 3"
    },
    "language_info": {
      "name": "python"
    }
  },
  "cells": [
    {
      "cell_type": "markdown",
      "metadata": {
        "id": "view-in-github",
        "colab_type": "text"
      },
      "source": [
        "<a href=\"https://colab.research.google.com/github/filopacio/_python_4_analytics_nlp_project/blob/main/ebola_analysis.ipynb\" target=\"_parent\"><img src=\"https://colab.research.google.com/assets/colab-badge.svg\" alt=\"Open In Colab\"/></a>"
      ]
    },
    {
      "cell_type": "markdown",
      "metadata": {
        "id": "Mp5SwLO7VcuQ"
      },
      "source": [
        "## Ebola Analysis"
      ]
    },
    {
      "cell_type": "code",
      "metadata": {
        "colab": {
          "base_uri": "https://localhost:8080/"
        },
        "id": "ImM-NO9dxHdb",
        "outputId": "97b4d7d5-a085-4eca-e54d-a4ae5cbb6bcf"
      },
      "source": [
        "#!pip install --user --upgrade git+https://github.com/twintproject/twint.git@origin/master#egg=twint\n",
        "!pip install -qq twint\n",
        "!pip install nest_asyncio"
      ],
      "execution_count": 1,
      "outputs": [
        {
          "output_type": "stream",
          "text": [
            "\u001b[K     |████████████████████████████████| 1.3 MB 12.6 MB/s \n",
            "\u001b[K     |████████████████████████████████| 263 kB 49.1 MB/s \n",
            "\u001b[K     |████████████████████████████████| 356 kB 33.4 MB/s \n",
            "\u001b[K     |████████████████████████████████| 291 kB 51.1 MB/s \n",
            "\u001b[K     |████████████████████████████████| 294 kB 44.8 MB/s \n",
            "\u001b[K     |████████████████████████████████| 142 kB 47.9 MB/s \n",
            "\u001b[?25h  Building wheel for twint (setup.py) ... \u001b[?25l\u001b[?25hdone\n",
            "  Building wheel for fake-useragent (setup.py) ... \u001b[?25l\u001b[?25hdone\n",
            "  Building wheel for googletransx (setup.py) ... \u001b[?25l\u001b[?25hdone\n",
            "Requirement already satisfied: nest_asyncio in /usr/local/lib/python3.7/dist-packages (1.5.1)\n"
          ],
          "name": "stdout"
        }
      ]
    },
    {
      "cell_type": "code",
      "metadata": {
        "id": "XalsFxk_Ufs0"
      },
      "source": [
        "import pandas as pd\n",
        "pd.options.mode.chained_assignment = None\n",
        "import numpy as np\n",
        "import matplotlib.pyplot as plt\n",
        "import nest_asyncio\n",
        "import twint \n",
        "from matplotlib import pyplot as plt"
      ],
      "execution_count": 2,
      "outputs": []
    },
    {
      "cell_type": "markdown",
      "metadata": {
        "id": "-LFZXCzkkrxF"
      },
      "source": [
        "## Scrape tweets "
      ]
    },
    {
      "cell_type": "markdown",
      "metadata": {
        "id": "UgkU3kuDU0Cu"
      },
      "source": [
        "The package twint allows to scrape tweets without the need of API. \n",
        "\n",
        "Unfortunately the queries' commands were sometimes inconsistent and so some ex-post data selection and cleaning was necessary."
      ]
    },
    {
      "cell_type": "code",
      "metadata": {
        "id": "8398_0-6DD85",
        "colab": {
          "base_uri": "https://localhost:8080/"
        },
        "outputId": "234633f6-5ce2-4b16-b10b-b5807142f7c3"
      },
      "source": [
        "from datetime import datetime, timedelta"
      ],
      "execution_count": null,
      "outputs": [
        {
          "output_type": "execute_result",
          "data": {
            "text/plain": [
              "0        2014-03-04 23:35:47\n",
              "1        2014-03-04 22:14:13\n",
              "2        2014-03-04 22:09:42\n",
              "3        2014-03-04 21:55:52\n",
              "4        2014-03-04 21:43:23\n",
              "                ...         \n",
              "67924    2015-05-26 21:17:20\n",
              "67925    2015-05-26 21:16:39\n",
              "67926    2015-05-26 21:16:38\n",
              "67927    2015-05-26 21:16:14\n",
              "67928    2015-05-26 21:16:11\n",
              "Name: date, Length: 67929, dtype: object"
            ]
          },
          "metadata": {
            "tags": []
          },
          "execution_count": 48
        }
      ]
    },
    {
      "cell_type": "markdown",
      "metadata": {
        "id": "k_i5lv4Kk1iP"
      },
      "source": [
        "**Query for \"ebola\"**"
      ]
    },
    {
      "cell_type": "code",
      "metadata": {
        "id": "jPuDSgnJPWed"
      },
      "source": [
        "d0 = datetime(2014, 3, 1)\n",
        "d1 = datetime(2015, 5, 31)\n",
        "dt = timedelta(days = 1)\n",
        "dates = np.arange(d0, d1, dt).astype(datetime)\n",
        "\n",
        "nest_asyncio.apply()\n",
        "df_e = pd.DataFrame()\n",
        "for i in dates:\n",
        "  e = twint.Config()\n",
        "  e.Search = 'ebola'\n",
        "  e.Until  = \"{}\".format(i)\n",
        "  e.Lang = \"en\"\n",
        "  e.Pandas = True\n",
        "  e.Limit = 1000\n",
        "  # Run\n",
        "  twint.run.Search(e)\n",
        "  df_e = df_e.append(twint.storage.panda.Tweets_df[['date', 'tweet','language' ,'username', 'nlikes', 'nretweets']])\n",
        "  df_e.date = pd.to_datetime(df_e.date)\n",
        "  df_e = df_e[df_e.language == 'en']\n",
        "  df_e = df_e[df_e.date >= datetime(2014,3,1)]\n",
        "  df_e = df_e[df_e.date <= datetime(2015,5,31)]\n",
        "  df_e.to_csv('df_e')"
      ],
      "execution_count": null,
      "outputs": []
    },
    {
      "cell_type": "code",
      "metadata": {
        "id": "xnco_HI1fuQR"
      },
      "source": [
        "from google.colab import files"
      ],
      "execution_count": null,
      "outputs": []
    },
    {
      "cell_type": "code",
      "metadata": {
        "id": "aNO2jTWTI_Vh"
      },
      "source": [
        "files.download(\"df_e.csv\")"
      ],
      "execution_count": null,
      "outputs": []
    },
    {
      "cell_type": "markdown",
      "metadata": {
        "id": "xXkKFPUXfJM1"
      },
      "source": [
        "##Upload Datasets"
      ]
    },
    {
      "cell_type": "code",
      "metadata": {
        "id": "rCqGmXCDLj_k"
      },
      "source": [
        "import csv"
      ],
      "execution_count": 3,
      "outputs": []
    },
    {
      "cell_type": "code",
      "metadata": {
        "id": "dKK2HuwrKFEu"
      },
      "source": [
        "with open(\"df_e.csv\") as e:\n",
        "    reader = csv.reader(e)\n",
        "    l_e = list(reader)\n",
        "    \n",
        "df_e = pd.DataFrame(l_e, columns = ['','date', 'tweet','language' ,'username', 'nlikes', 'nretweets'])[1:].dropna().reset_index()"
      ],
      "execution_count": 4,
      "outputs": []
    },
    {
      "cell_type": "code",
      "metadata": {
        "colab": {
          "base_uri": "https://localhost:8080/",
          "height": 0
        },
        "id": "EgNEDysrJLs_",
        "outputId": "b5017010-24e5-4710-97d7-40bacfbe1aad"
      },
      "source": [
        "df_e.head()"
      ],
      "execution_count": 5,
      "outputs": [
        {
          "output_type": "execute_result",
          "data": {
            "text/html": [
              "<div>\n",
              "<style scoped>\n",
              "    .dataframe tbody tr th:only-of-type {\n",
              "        vertical-align: middle;\n",
              "    }\n",
              "\n",
              "    .dataframe tbody tr th {\n",
              "        vertical-align: top;\n",
              "    }\n",
              "\n",
              "    .dataframe thead th {\n",
              "        text-align: right;\n",
              "    }\n",
              "</style>\n",
              "<table border=\"1\" class=\"dataframe\">\n",
              "  <thead>\n",
              "    <tr style=\"text-align: right;\">\n",
              "      <th></th>\n",
              "      <th>index</th>\n",
              "      <th></th>\n",
              "      <th>date</th>\n",
              "      <th>tweet</th>\n",
              "      <th>language</th>\n",
              "      <th>username</th>\n",
              "      <th>nlikes</th>\n",
              "      <th>nretweets</th>\n",
              "    </tr>\n",
              "  </thead>\n",
              "  <tbody>\n",
              "    <tr>\n",
              "      <th>0</th>\n",
              "      <td>1</td>\n",
              "      <td>1</td>\n",
              "      <td>2014-03-04 23:35:47</td>\n",
              "      <td>So #sick today, fever 38.6, chills, muscle ach...</td>\n",
              "      <td>en</td>\n",
              "      <td>maryangelafitz</td>\n",
              "      <td>0</td>\n",
              "      <td>0</td>\n",
              "    </tr>\n",
              "    <tr>\n",
              "      <th>1</th>\n",
              "      <td>2</td>\n",
              "      <td>3</td>\n",
              "      <td>2014-03-04 22:14:13</td>\n",
              "      <td>New broad-spectrum nucleoside analog effective...</td>\n",
              "      <td>en</td>\n",
              "      <td>strnr</td>\n",
              "      <td>1</td>\n",
              "      <td>3</td>\n",
              "    </tr>\n",
              "    <tr>\n",
              "      <th>2</th>\n",
              "      <td>3</td>\n",
              "      <td>4</td>\n",
              "      <td>2014-03-04 22:09:42</td>\n",
              "      <td>I hear some parents hide money in pancakes.  Y...</td>\n",
              "      <td>en</td>\n",
              "      <td>sack_vegas</td>\n",
              "      <td>1</td>\n",
              "      <td>0</td>\n",
              "    </tr>\n",
              "    <tr>\n",
              "      <th>3</th>\n",
              "      <td>4</td>\n",
              "      <td>5</td>\n",
              "      <td>2014-03-04 21:55:52</td>\n",
              "      <td>@surlyurbanist the flu? Ebola? Anything?</td>\n",
              "      <td>en</td>\n",
              "      <td>paulonabike</td>\n",
              "      <td>0</td>\n",
              "      <td>0</td>\n",
              "    </tr>\n",
              "    <tr>\n",
              "      <th>4</th>\n",
              "      <td>5</td>\n",
              "      <td>6</td>\n",
              "      <td>2014-03-04 21:43:23</td>\n",
              "      <td>@DrCaseby @Stgregslibrary close! Wasn't a viru...</td>\n",
              "      <td>en</td>\n",
              "      <td>RealMGHarris</td>\n",
              "      <td>0</td>\n",
              "      <td>0</td>\n",
              "    </tr>\n",
              "  </tbody>\n",
              "</table>\n",
              "</div>"
            ],
            "text/plain": [
              "   index                    date  ...        username nlikes nretweets\n",
              "0      1  1  2014-03-04 23:35:47  ...  maryangelafitz      0         0\n",
              "1      2  3  2014-03-04 22:14:13  ...           strnr      1         3\n",
              "2      3  4  2014-03-04 22:09:42  ...      sack_vegas      1         0\n",
              "3      4  5  2014-03-04 21:55:52  ...     paulonabike      0         0\n",
              "4      5  6  2014-03-04 21:43:23  ...    RealMGHarris      0         0\n",
              "\n",
              "[5 rows x 8 columns]"
            ]
          },
          "metadata": {
            "tags": []
          },
          "execution_count": 5
        }
      ]
    },
    {
      "cell_type": "markdown",
      "metadata": {
        "id": "svw4dG5rEXYD"
      },
      "source": [
        "## Sentiment Labelling"
      ]
    },
    {
      "cell_type": "markdown",
      "metadata": {
        "id": "pH8y2P762FSu"
      },
      "source": [
        "To compute the sentiments I used the Vader Sentiment Analyzer from the nltk package. \n",
        "\n",
        "It allows to compute very fast sentiment analysis. The output of the function is a dictionary containing the polarities of the three main sentiments:\n",
        "- Positive\n",
        "- Negative\n",
        "- Neutral\n",
        "\n",
        "\n",
        "Also, it returns a quantity named 'compound' which is the normalized sum of the 3 quantities.\n"
      ]
    },
    {
      "cell_type": "code",
      "metadata": {
        "id": "70Ue7YaNPOLm",
        "colab": {
          "base_uri": "https://localhost:8080/"
        },
        "outputId": "f50b74a7-a8e1-417c-84b7-b397d4b4e5ed"
      },
      "source": [
        "import nltk\n",
        "nltk.download('vader_lexicon')\n",
        "from nltk.sentiment.vader import SentimentIntensityAnalyzer"
      ],
      "execution_count": 6,
      "outputs": [
        {
          "output_type": "stream",
          "text": [
            "[nltk_data] Downloading package vader_lexicon to /root/nltk_data...\n"
          ],
          "name": "stdout"
        },
        {
          "output_type": "stream",
          "text": [
            "/usr/local/lib/python3.7/dist-packages/nltk/twitter/__init__.py:20: UserWarning: The twython library has not been installed. Some functionality from the twitter package will not be available.\n",
            "  warnings.warn(\"The twython library has not been installed. \"\n"
          ],
          "name": "stderr"
        }
      ]
    },
    {
      "cell_type": "code",
      "metadata": {
        "id": "Gjr-4F2MtWvr"
      },
      "source": [
        "sent_analyzer = SentimentIntensityAnalyzer()"
      ],
      "execution_count": 7,
      "outputs": []
    },
    {
      "cell_type": "code",
      "metadata": {
        "id": "LsfOLj1otyZV"
      },
      "source": [
        "e = [sent_analyzer.polarity_scores(i) for i in df_e.tweet]"
      ],
      "execution_count": 8,
      "outputs": []
    },
    {
      "cell_type": "code",
      "metadata": {
        "id": "Nh2_Rq6tta9G"
      },
      "source": [
        "df_e['polarity'] = [i.get('compound') for i in e]"
      ],
      "execution_count": 9,
      "outputs": []
    },
    {
      "cell_type": "markdown",
      "metadata": {
        "id": "v7gfaemNFwJc"
      },
      "source": [
        "Let's now label the tweets as 'positive', 'negative or 'neutral' based on values of the compound. Let's start with an heaven splitting into three parts. "
      ]
    },
    {
      "cell_type": "code",
      "metadata": {
        "id": "bswwjKLgtmKo"
      },
      "source": [
        "df_e['sentiment'] = np.repeat(1,len(df_e))\n",
        "for i in range(len(df_e)):\n",
        "   if df_e.polarity[i] > 1/3:\n",
        "     df_e['sentiment'].loc[i] = 'positive'\n",
        "   elif df_e.polarity[i] < -1/3:\n",
        "        df_e['sentiment'].loc[i] = 'negative'\n",
        "   else:\n",
        "        df_e['sentiment'].loc[i] = 'neutral'"
      ],
      "execution_count": 10,
      "outputs": []
    },
    {
      "cell_type": "code",
      "metadata": {
        "id": "sPzILkSAV1WG",
        "colab": {
          "base_uri": "https://localhost:8080/"
        },
        "outputId": "f444971f-fea8-4660-dc02-8d6cfb44f5a9"
      },
      "source": [
        "df_e.sentiment"
      ],
      "execution_count": 11,
      "outputs": [
        {
          "output_type": "execute_result",
          "data": {
            "text/plain": [
              "0        negative\n",
              "1         neutral\n",
              "2        positive\n",
              "3        negative\n",
              "4        negative\n",
              "           ...   \n",
              "67924    positive\n",
              "67925     neutral\n",
              "67926     neutral\n",
              "67927    negative\n",
              "67928     neutral\n",
              "Name: sentiment, Length: 67929, dtype: object"
            ]
          },
          "metadata": {
            "tags": []
          },
          "execution_count": 11
        }
      ]
    },
    {
      "cell_type": "code",
      "metadata": {
        "colab": {
          "base_uri": "https://localhost:8080/",
          "height": 0
        },
        "id": "Mtexf7eTGBJU",
        "outputId": "7e2fd147-35b3-45a0-a2b4-ea0b0d36aaa6"
      },
      "source": [
        "plt.hist(df_e.sentiment)\n",
        "plt.show()"
      ],
      "execution_count": 12,
      "outputs": [
        {
          "output_type": "display_data",
          "data": {
            "image/png": "[encoded data removed]",
            "text/plain": [
              "<Figure size 432x288 with 1 Axes>"
            ]
          },
          "metadata": {
            "tags": [],
            "needs_background": "light"
          }
        }
      ]
    },
    {
      "cell_type": "markdown",
      "metadata": {
        "id": "exNx7H4zFSRE"
      },
      "source": [
        "Vader's sentiment analyzer is pretty cautious, therefore it is likely not to take extremely polarized values. Consequently, under this splitting of data, the vast majority of tweets are labelled as neutral.\n",
        "\n",
        "So let's see what happens if the 'neutral' label is removed, letting the sentiments be either 'positive' or 'negative' based, respectively, on positive or negative values of the compound."
      ]
    },
    {
      "cell_type": "code",
      "metadata": {
        "id": "pnrAdtkVG05P"
      },
      "source": [
        "sen = list(np.repeat(1,len(df_e)))\n",
        "for i in range(len(df_e)):\n",
        "   if df_e.polarity[i] > 0:\n",
        "     sen[i] = 'positive'\n",
        "   else:\n",
        "    sen[i] = 'negative'"
      ],
      "execution_count": 13,
      "outputs": []
    },
    {
      "cell_type": "code",
      "metadata": {
        "id": "O8pHohd8G2H0",
        "colab": {
          "base_uri": "https://localhost:8080/",
          "height": 0
        },
        "outputId": "b7a675bf-3ae9-4096-fa16-030726cac21e"
      },
      "source": [
        "plt.hist(sen)\n",
        "plt.show()"
      ],
      "execution_count": 14,
      "outputs": [
        {
          "output_type": "display_data",
          "data": {
            "image/png": "[encoded data removed]",
            "text/plain": [
              "<Figure size 432x288 with 1 Axes>"
            ]
          },
          "metadata": {
            "tags": [],
            "needs_background": "light"
          }
        }
      ]
    },
    {
      "cell_type": "code",
      "metadata": {
        "id": "cL2t8_8dEZjZ"
      },
      "source": [
        "sen = list(np.repeat(1,len(df_e)))\n",
        "for i in range(len(df_e)):\n",
        "   if df_e.polarity[i] > 0:\n",
        "     sen[i] = 'positive'\n",
        "   else:\n",
        "    sen[i] = 'negative'"
      ],
      "execution_count": 15,
      "outputs": []
    },
    {
      "cell_type": "code",
      "metadata": {
        "id": "hIzjk8WMDwaG",
        "colab": {
          "base_uri": "https://localhost:8080/",
          "height": 0
        },
        "outputId": "1cbd2a00-58bd-49d6-c614-619f0f4942e4"
      },
      "source": [
        "plt.hist(sen)\n",
        "plt.show()"
      ],
      "execution_count": 16,
      "outputs": [
        {
          "output_type": "display_data",
          "data": {
            "image/png": "[encoded data removed]",
            "text/plain": [
              "<Figure size 432x288 with 1 Axes>"
            ]
          },
          "metadata": {
            "tags": [],
            "needs_background": "light"
          }
        }
      ]
    },
    {
      "cell_type": "markdown",
      "metadata": {
        "id": "8mYCOSuQzCxe"
      },
      "source": [
        "With a polarized labelling which doesn't consider the neutral option the difference between negative and positive tweets is clear."
      ]
    },
    {
      "cell_type": "markdown",
      "metadata": {
        "id": "t1UseOKjrAEk"
      },
      "source": [
        "## Preprocessing\n"
      ]
    },
    {
      "cell_type": "code",
      "metadata": {
        "id": "4pF9lYG2Kq45",
        "colab": {
          "base_uri": "https://localhost:8080/"
        },
        "outputId": "0087f356-8911-4cd3-c20e-14afec7d7e56"
      },
      "source": [
        "import re\n",
        "import string\n",
        "import nltk\n",
        "from nltk.corpus import stopwords\n",
        "from itertools import chain\n",
        "from nltk.stem.porter import PorterStemmer \n",
        "from nltk.stem.snowball import SnowballStemmer\n",
        "from nltk.stem.wordnet import WordNetLemmatizer\n",
        "nltk.download('stopwords')\n",
        "nltk.download('wordnet')\n",
        "from sklearn.feature_extraction.text import CountVectorizer"
      ],
      "execution_count": 17,
      "outputs": [
        {
          "output_type": "stream",
          "text": [
            "[nltk_data] Downloading package stopwords to /root/nltk_data...\n",
            "[nltk_data]   Unzipping corpora/stopwords.zip.\n",
            "[nltk_data] Downloading package wordnet to /root/nltk_data...\n",
            "[nltk_data]   Unzipping corpora/wordnet.zip.\n"
          ],
          "name": "stdout"
        }
      ]
    },
    {
      "cell_type": "markdown",
      "metadata": {
        "id": "9e0GDIT3kXBY"
      },
      "source": [
        "**Text Cleaning**"
      ]
    },
    {
      "cell_type": "markdown",
      "metadata": {
        "id": "AyYPYkOVlsz7"
      },
      "source": [
        "I created the clean_text function in order to clean the tweets from noisy characters. \n",
        "\n",
        "items removed: \n",
        "- links\n",
        "- punctuations/special characters \n",
        "- emoticons\n",
        "\n",
        "Before doing so I also put all the texts in lower case.\n",
        "I did not remove alphanumeric words to avoid eliminating words like covid19, covid-19 etc."
      ]
    },
    {
      "cell_type": "code",
      "metadata": {
        "id": "Q_iIFdxEpeWV"
      },
      "source": [
        "def clean_text(text):\n",
        "    text = str(text).lower()\n",
        "    text = re.sub('https://\\S+|www\\.\\S', '', text)      # remove link\n",
        "    text = re.sub(\"['’!@#$%^&*()_+<>?:.,;]\" , '', text)  # punctuations/special characters\n",
        "    text = re.sub(\"'\" , '', text)\n",
        "    text = re.sub(re.compile(\"[\"                        # emoticon\n",
        "        u\"\\U0001F600-\\U0001F64F\"  \n",
        "        u\"\\U0001F300-\\U0001F5FF\"  \n",
        "        u\"\\U0001F680-\\U0001F6FF\"  \n",
        "        u\"\\U0001F1E0-\\U0001F1FF\"  \n",
        "        u\"\\U00002702-\\U000027B0\"\n",
        "        u\"\\U000024C2-\\U0001F251\"\n",
        "        u\"\\U0001f926-\\U0001f937\"\n",
        "        u'\\U00010000-\\U0010ffff'\n",
        "        u\"\\u200d\"\n",
        "        u\"\\u2640-\\u2642\"\n",
        "        u\"\\u2600-\\u2B55\"\n",
        "        u\"\\u23cf\"\n",
        "        u\"\\u23e9\"\n",
        "        u\"\\u231a\"\n",
        "        u\"\\u3030\"\n",
        "        u\"\\ufe0f\"\n",
        "                           \"]+\", flags=re.UNICODE), '', text)\n",
        "    return text"
      ],
      "execution_count": 18,
      "outputs": []
    },
    {
      "cell_type": "markdown",
      "metadata": {
        "id": "YkCr0_NDhG36"
      },
      "source": [
        "After being cleaned, each tweet is splitted into single words. \n",
        "Therefore, 'words' is a list of lists, where each element is a list of separated strings. \n",
        "Now, other pre-processing actions will be performed. "
      ]
    },
    {
      "cell_type": "markdown",
      "metadata": {
        "id": "zA_GSavhiE-C"
      },
      "source": [
        "**Stopwords removal**"
      ]
    },
    {
      "cell_type": "markdown",
      "metadata": {
        "id": "9J3IT00vn8MF"
      },
      "source": [
        "What is considered a stopword can be found in the set  below. Such list belongs to the package nltk. "
      ]
    },
    {
      "cell_type": "code",
      "metadata": {
        "colab": {
          "base_uri": "https://localhost:8080/"
        },
        "id": "cg6rJ4TSAFfJ",
        "outputId": "679f4e8b-2a97-422d-c2dd-a0c201bd0440"
      },
      "source": [
        "stopwords = set(stopwords.words('english')) \n",
        "stopwords"
      ],
      "execution_count": 19,
      "outputs": [
        {
          "output_type": "execute_result",
          "data": {
            "text/plain": [
              "{'a',\n",
              " 'about',\n",
              " 'above',\n",
              " 'after',\n",
              " 'again',\n",
              " 'against',\n",
              " 'ain',\n",
              " 'all',\n",
              " 'am',\n",
              " 'an',\n",
              " 'and',\n",
              " 'any',\n",
              " 'are',\n",
              " 'aren',\n",
              " \"aren't\",\n",
              " 'as',\n",
              " 'at',\n",
              " 'be',\n",
              " 'because',\n",
              " 'been',\n",
              " 'before',\n",
              " 'being',\n",
              " 'below',\n",
              " 'between',\n",
              " 'both',\n",
              " 'but',\n",
              " 'by',\n",
              " 'can',\n",
              " 'couldn',\n",
              " \"couldn't\",\n",
              " 'd',\n",
              " 'did',\n",
              " 'didn',\n",
              " \"didn't\",\n",
              " 'do',\n",
              " 'does',\n",
              " 'doesn',\n",
              " \"doesn't\",\n",
              " 'doing',\n",
              " 'don',\n",
              " \"don't\",\n",
              " 'down',\n",
              " 'during',\n",
              " 'each',\n",
              " 'few',\n",
              " 'for',\n",
              " 'from',\n",
              " 'further',\n",
              " 'had',\n",
              " 'hadn',\n",
              " \"hadn't\",\n",
              " 'has',\n",
              " 'hasn',\n",
              " \"hasn't\",\n",
              " 'have',\n",
              " 'haven',\n",
              " \"haven't\",\n",
              " 'having',\n",
              " 'he',\n",
              " 'her',\n",
              " 'here',\n",
              " 'hers',\n",
              " 'herself',\n",
              " 'him',\n",
              " 'himself',\n",
              " 'his',\n",
              " 'how',\n",
              " 'i',\n",
              " 'if',\n",
              " 'in',\n",
              " 'into',\n",
              " 'is',\n",
              " 'isn',\n",
              " \"isn't\",\n",
              " 'it',\n",
              " \"it's\",\n",
              " 'its',\n",
              " 'itself',\n",
              " 'just',\n",
              " 'll',\n",
              " 'm',\n",
              " 'ma',\n",
              " 'me',\n",
              " 'mightn',\n",
              " \"mightn't\",\n",
              " 'more',\n",
              " 'most',\n",
              " 'mustn',\n",
              " \"mustn't\",\n",
              " 'my',\n",
              " 'myself',\n",
              " 'needn',\n",
              " \"needn't\",\n",
              " 'no',\n",
              " 'nor',\n",
              " 'not',\n",
              " 'now',\n",
              " 'o',\n",
              " 'of',\n",
              " 'off',\n",
              " 'on',\n",
              " 'once',\n",
              " 'only',\n",
              " 'or',\n",
              " 'other',\n",
              " 'our',\n",
              " 'ours',\n",
              " 'ourselves',\n",
              " 'out',\n",
              " 'over',\n",
              " 'own',\n",
              " 're',\n",
              " 's',\n",
              " 'same',\n",
              " 'shan',\n",
              " \"shan't\",\n",
              " 'she',\n",
              " \"she's\",\n",
              " 'should',\n",
              " \"should've\",\n",
              " 'shouldn',\n",
              " \"shouldn't\",\n",
              " 'so',\n",
              " 'some',\n",
              " 'such',\n",
              " 't',\n",
              " 'than',\n",
              " 'that',\n",
              " \"that'll\",\n",
              " 'the',\n",
              " 'their',\n",
              " 'theirs',\n",
              " 'them',\n",
              " 'themselves',\n",
              " 'then',\n",
              " 'there',\n",
              " 'these',\n",
              " 'they',\n",
              " 'this',\n",
              " 'those',\n",
              " 'through',\n",
              " 'to',\n",
              " 'too',\n",
              " 'under',\n",
              " 'until',\n",
              " 'up',\n",
              " 've',\n",
              " 'very',\n",
              " 'was',\n",
              " 'wasn',\n",
              " \"wasn't\",\n",
              " 'we',\n",
              " 'were',\n",
              " 'weren',\n",
              " \"weren't\",\n",
              " 'what',\n",
              " 'when',\n",
              " 'where',\n",
              " 'which',\n",
              " 'while',\n",
              " 'who',\n",
              " 'whom',\n",
              " 'why',\n",
              " 'will',\n",
              " 'with',\n",
              " 'won',\n",
              " \"won't\",\n",
              " 'wouldn',\n",
              " \"wouldn't\",\n",
              " 'y',\n",
              " 'you',\n",
              " \"you'd\",\n",
              " \"you'll\",\n",
              " \"you're\",\n",
              " \"you've\",\n",
              " 'your',\n",
              " 'yours',\n",
              " 'yourself',\n",
              " 'yourselves'}"
            ]
          },
          "metadata": {
            "tags": []
          },
          "execution_count": 19
        }
      ]
    },
    {
      "cell_type": "code",
      "metadata": {
        "id": "14eVWcYLqIyQ"
      },
      "source": [
        "def remove_stopwords(text):\n",
        "    stop = set(stopwords.words('english'))  \n",
        "    stop.add('im')\n",
        "    stop.add(\"i'm\")\n",
        "    stop.add('could')\n",
        "    stop.add('go')\n",
        "    stop.add('it')\n",
        "    stop.add('get')\n",
        "    stop.add('-')\n",
        "    stop.add('|')\n",
        "   # not present in the original set but very recurrent words\n",
        "    text = [[i for i in i.split() if i not in stop] for i in text]\n",
        "    return  text"
      ],
      "execution_count": 20,
      "outputs": []
    },
    {
      "cell_type": "markdown",
      "metadata": {
        "id": "P1x7WR0InIe_"
      },
      "source": [
        "**Lemmatization**"
      ]
    },
    {
      "cell_type": "code",
      "metadata": {
        "id": "oPL8XiEMm1rn"
      },
      "source": [
        "def lemmatize(text):\n",
        "    lem = WordNetLemmatizer()\n",
        "    corpus = [[lem.lemmatize(i, pos = 'v') for i in i] for i in text]\n",
        "    return text"
      ],
      "execution_count": 21,
      "outputs": []
    },
    {
      "cell_type": "markdown",
      "metadata": {
        "id": "rX8c2HLdnLtT"
      },
      "source": [
        "**Stemming**"
      ]
    },
    {
      "cell_type": "code",
      "metadata": {
        "id": "EpMKYYT0m_ot"
      },
      "source": [
        "def sb_stem(text):\n",
        "   stemmer = SnowballStemmer(language = 'english')\n",
        "   text = [stemmer.stem(i) for i in text]\n",
        "   return text"
      ],
      "execution_count": 22,
      "outputs": []
    },
    {
      "cell_type": "code",
      "metadata": {
        "id": "IEI2i-x7GI8G"
      },
      "source": [
        "def p_stem(text):\n",
        "   stemmer = PorterStemmer()\n",
        "   text = [stemmer.stem(i) for i in text]\n",
        "   return text"
      ],
      "execution_count": 23,
      "outputs": []
    },
    {
      "cell_type": "markdown",
      "metadata": {
        "id": "seMjN-nK-E2c"
      },
      "source": [
        "**Final outcome of preprocessing**"
      ]
    },
    {
      "cell_type": "code",
      "metadata": {
        "id": "hWEoecHO7MbZ"
      },
      "source": [
        "def preprocess(text):\n",
        "  cl_tweets = [clean_text(c) for c in text]\n",
        "  cl_tweets = pd.Series(cl_tweets).astype(str)\n",
        "  removed = remove_stopwords(cl_tweets) \n",
        "  lemmatized = [lemmatize(i) for i in removed]\n",
        "  #stemmed = [p_stem(i) for i in lemmatized]\n",
        "  return lemmatized #stemmed"
      ],
      "execution_count": 24,
      "outputs": []
    },
    {
      "cell_type": "code",
      "metadata": {
        "id": "eJCn4zhdqCVA"
      },
      "source": [
        "from nltk.corpus import stopwords"
      ],
      "execution_count": 25,
      "outputs": []
    },
    {
      "cell_type": "code",
      "metadata": {
        "id": "mItYdpcXgLKN"
      },
      "source": [
        "df_e['tweets'] = preprocess(df_e.tweet)"
      ],
      "execution_count": 26,
      "outputs": []
    },
    {
      "cell_type": "markdown",
      "metadata": {
        "id": "ndBAbB6vgGB8"
      },
      "source": [
        "## Analysis of keywords"
      ]
    },
    {
      "cell_type": "markdown",
      "metadata": {
        "id": "xCVYQObOPVLq"
      },
      "source": [
        "Let us now create an even more polarized situation.\n",
        "\n",
        "Let's take only the most polarized positive and  negative tweets in order to find (if any) differences and similarities in the use of most common words between very positive and very negative tweets."
      ]
    },
    {
      "cell_type": "code",
      "metadata": {
        "id": "BqVIovMJH0Xb"
      },
      "source": [
        "df_e['polarized_sen'] = np.repeat(1,len(df_e))\n",
        "for i in range(len(df_e)):\n",
        "   if df_e.polarity[i] > 0.5:\n",
        "     df_e['polarized_sen'].loc[i] = 'positive'\n",
        "   elif df_e.polarity[i] < -0.5:\n",
        "        df_e['polarized_sen'].loc[i] = 'negative'\n",
        "   else:\n",
        "        df_e['polarized_sen'].loc[i] = 'neutral'"
      ],
      "execution_count": 27,
      "outputs": []
    },
    {
      "cell_type": "code",
      "metadata": {
        "id": "iefUHq-2XtpP"
      },
      "source": [
        "from gensim.models import Word2Vec\n",
        "from matplotlib_venn import venn2"
      ],
      "execution_count": 28,
      "outputs": []
    },
    {
      "cell_type": "code",
      "metadata": {
        "id": "QWX0pt5FIFPe"
      },
      "source": [
        "df_e_neg = df_e[df_e.polarized_sen == 'negative'].reset_index()\n",
        "df_e_pos = df_e[df_e.polarized_sen == 'positive'].reset_index()"
      ],
      "execution_count": 29,
      "outputs": []
    },
    {
      "cell_type": "code",
      "metadata": {
        "id": "AIwUr_4tQo6T"
      },
      "source": [
        "neg_w2v = Word2Vec(df_e_neg.tweets, min_count= 400)"
      ],
      "execution_count": 30,
      "outputs": []
    },
    {
      "cell_type": "code",
      "metadata": {
        "id": "7NTcDOGJQsCH"
      },
      "source": [
        "pos_w2v = Word2Vec(df_e_pos.tweets, min_count= 200)"
      ],
      "execution_count": 31,
      "outputs": []
    },
    {
      "cell_type": "code",
      "metadata": {
        "id": "MLx-HtERQt26"
      },
      "source": [
        "n = set(list(neg_w2v.wv.vocab))\n",
        "p = set(list(pos_w2v.wv.vocab))\n",
        "\n",
        "set_ebola = n.union(p)\n",
        "\n",
        "common_elements = n.intersection(p) "
      ],
      "execution_count": 32,
      "outputs": []
    },
    {
      "cell_type": "code",
      "metadata": {
        "id": "itam8UbqQvkn"
      },
      "source": [
        "ebola_common_neg = n - n.intersection(p)"
      ],
      "execution_count": 33,
      "outputs": []
    },
    {
      "cell_type": "code",
      "metadata": {
        "id": "T8YgNIE7Qwzx"
      },
      "source": [
        "ebola_common_pos = p - n.intersection(p)"
      ],
      "execution_count": 34,
      "outputs": []
    },
    {
      "cell_type": "code",
      "metadata": {
        "colab": {
          "base_uri": "https://localhost:8080/",
          "height": 0
        },
        "id": "Mt7Vt7bjUIPI",
        "outputId": "4ca8f380-1baf-48d9-fa0e-e7da8e5e6d00"
      },
      "source": [
        "set1 = n\n",
        "set2 = p\n",
        "\n",
        "plt.figure(figsize=(10, 10))\n",
        "venn = venn2([set1, set2], ('Negative','Positive'))\n",
        "venn.get_label_by_id('100').set_text('\\n'.join(set1-set2))\n",
        "venn.get_label_by_id('110').set_text('\\n'.join(set1&set2))\n",
        "venn.get_label_by_id('010').set_text('\\n'.join(set2-set1))\n",
        "plt.title('Ebola Words Sentiment')\n",
        "plt.show()"
      ],
      "execution_count": 35,
      "outputs": [
        {
          "output_type": "display_data",
          "data": {
            "image/png": "[encoded data removed]",
            "text/plain": [
              "<Figure size 720x720 with 1 Axes>"
            ]
          },
          "metadata": {
            "tags": []
          }
        }
      ]
    },
    {
      "cell_type": "markdown",
      "metadata": {
        "id": "WIgeC2hFbHsL"
      },
      "source": [
        "Also, it might be interesting to explore the overall difference in length between positive and negative tweets."
      ]
    },
    {
      "cell_type": "code",
      "metadata": {
        "colab": {
          "base_uri": "https://localhost:8080/",
          "height": 0
        },
        "id": "KuLAMMkdKxRT",
        "outputId": "d0975525-0adf-47cf-962c-6a00a0f97d86"
      },
      "source": [
        "df_e_neg['length'] = [len(i) for i in df_e_neg.tweet]\n",
        "df_e_pos['length'] = [len(i) for i in df_e_pos.tweet]\n",
        "\n",
        "plt.hist(df_e_pos.length, label = 'length positive',alpha = 0.5)\n",
        "plt.hist(df_e_neg.length, label = 'length negative', alpha = 0.5)\n",
        "plt.legend(loc='upper left')\n",
        "plt.show()"
      ],
      "execution_count": 36,
      "outputs": [
        {
          "output_type": "display_data",
          "data": {
            "image/png": "[encoded data removed]",
            "text/plain": [
              "<Figure size 432x288 with 1 Axes>"
            ]
          },
          "metadata": {
            "tags": [],
            "needs_background": "light"
          }
        }
      ]
    },
    {
      "cell_type": "code",
      "metadata": {
        "id": "na73LfTLG14P"
      },
      "source": [
        "import wordcloud"
      ],
      "execution_count": 37,
      "outputs": []
    },
    {
      "cell_type": "code",
      "metadata": {
        "colab": {
          "base_uri": "https://localhost:8080/",
          "height": 0
        },
        "id": "B1WeEQHuIZn0",
        "outputId": "2a1da42d-57d4-43da-cfa1-7d51b5501d99"
      },
      "source": [
        "wc = wordcloud.WordCloud(background_color='black', max_words=100, \n",
        "                         max_font_size=50, stopwords = ['dict_keys', '|'], )\n",
        "wc = wc.generate(str(\",\".join(set_ebola)))\n",
        "plt.figure(figsize=(10, 10))\n",
        "plt.axis('off')\n",
        "plt.imshow(wc)\n",
        "plt.show()"
      ],
      "execution_count": 38,
      "outputs": [
        {
          "output_type": "display_data",
          "data": {
            "image/png": "[encoded data removed]",
            "text/plain": [
              "<Figure size 720x720 with 1 Axes>"
            ]
          },
          "metadata": {
            "tags": [],
            "needs_background": "light"
          }
        }
      ]
    },
    {
      "cell_type": "markdown",
      "metadata": {
        "id": "kRW-8HRtk1Sg"
      },
      "source": [
        "**Word Embedding**"
      ]
    },
    {
      "cell_type": "markdown",
      "metadata": {
        "id": "6HPJ1Vxf3c3x"
      },
      "source": [
        "Word Embedding through a Principal Component Analysis model"
      ]
    },
    {
      "cell_type": "code",
      "metadata": {
        "id": "VziOtDAMksKL"
      },
      "source": [
        "from sklearn.decomposition import PCA\n",
        "import matplotlib.pyplot as plt"
      ],
      "execution_count": 39,
      "outputs": []
    },
    {
      "cell_type": "code",
      "metadata": {
        "id": "7Sic2UTgOJOA"
      },
      "source": [
        "ebola_w2v = Word2Vec(df_e.tweets, min_count = 1200)"
      ],
      "execution_count": 40,
      "outputs": []
    },
    {
      "cell_type": "code",
      "metadata": {
        "colab": {
          "base_uri": "https://localhost:8080/",
          "height": 0
        },
        "id": "DzsjYUGzk5Le",
        "outputId": "38faf267-5218-49b6-9a44-03b88eea48b4"
      },
      "source": [
        "X = ebola_w2v.wv.__getitem__(ebola_w2v.wv.vocab)\n",
        "pca = PCA(n_components=2)\n",
        "result = pca.fit_transform(X)\n",
        "plt.figure(figsize=(10, 10))\n",
        "plt.scatter(result[:,0], result[:,1])\n",
        "words = list(ebola_w2v.wv.vocab)\n",
        "for i, word in enumerate(words):\n",
        "\tplt.annotate(word, xy=(result[i,0], result[i,1]))\n",
        "plt.show()"
      ],
      "execution_count": 41,
      "outputs": [
        {
          "output_type": "display_data",
          "data": {
            "image/png": "[encoded data removed]",
            "text/plain": [
              "<Figure size 720x720 with 1 Axes>"
            ]
          },
          "metadata": {
            "tags": [],
            "needs_background": "light"
          }
        }
      ]
    },
    {
      "cell_type": "markdown",
      "metadata": {
        "id": "lb0rKN2ex3nk"
      },
      "source": [
        "## Introducing more articulated emotions\n",
        "\n",
        "When dealing with a pandemic event, the distinction of sentiment only based on 'positive', 'negative', or'neutral' sentiment may be restrictive. It might be interesting to investigate more articulated emotions of tweets, and in this section this kind of investigation will be performed.\n"
      ]
    },
    {
      "cell_type": "markdown",
      "metadata": {
        "id": "J3pRmRbAon8i"
      },
      "source": [
        "As in (Xue, J. et al, 2020), I adopted the NRC Lexycon to recognise the emotions in the tweets.\n",
        "\n",
        "\n",
        "NRCLex is a package trough which more articulated sentiments can be obtained. In particular, the emotions of:\n",
        "\n",
        "- Trust\n",
        "- Fear\n",
        "- Anticipation\n",
        "- Anger\n",
        "- Joy\n",
        "- Sadness\n",
        "- Disgust\n",
        "- Surprise\n",
        "\n",
        "are recognised and assigned a number from 0 to 1 based on the polarity of the emotion. There may be several emotions representing a tweet, with the sum of ther polarities being equal to 1."
      ]
    },
    {
      "cell_type": "code",
      "metadata": {
        "id": "7iPwdVC7Bavh",
        "colab": {
          "base_uri": "https://localhost:8080/"
        },
        "outputId": "4eb20ac0-f9c1-4b57-e920-bde76c04d6be"
      },
      "source": [
        "!pip install NRCLex"
      ],
      "execution_count": 42,
      "outputs": [
        {
          "output_type": "stream",
          "text": [
            "Collecting NRCLex\n",
            "  Downloading NRCLex-3.0.0.tar.gz (396 kB)\n",
            "\u001b[?25l\r\u001b[K     |▉                               | 10 kB 20.1 MB/s eta 0:00:01\r\u001b[K     |█▋                              | 20 kB 23.7 MB/s eta 0:00:01\r\u001b[K     |██▌                             | 30 kB 28.2 MB/s eta 0:00:01\r\u001b[K     |███▎                            | 40 kB 21.0 MB/s eta 0:00:01\r\u001b[K     |████▏                           | 51 kB 8.3 MB/s eta 0:00:01\r\u001b[K     |█████                           | 61 kB 8.7 MB/s eta 0:00:01\r\u001b[K     |█████▉                          | 71 kB 8.8 MB/s eta 0:00:01\r\u001b[K     |██████▋                         | 81 kB 8.5 MB/s eta 0:00:01\r\u001b[K     |███████▍                        | 92 kB 8.8 MB/s eta 0:00:01\r\u001b[K     |████████▎                       | 102 kB 9.3 MB/s eta 0:00:01\r\u001b[K     |█████████                       | 112 kB 9.3 MB/s eta 0:00:01\r\u001b[K     |██████████                      | 122 kB 9.3 MB/s eta 0:00:01\r\u001b[K     |██████████▊                     | 133 kB 9.3 MB/s eta 0:00:01\r\u001b[K     |███████████▋                    | 143 kB 9.3 MB/s eta 0:00:01\r\u001b[K     |████████████▍                   | 153 kB 9.3 MB/s eta 0:00:01\r\u001b[K     |█████████████▎                  | 163 kB 9.3 MB/s eta 0:00:01\r\u001b[K     |██████████████                  | 174 kB 9.3 MB/s eta 0:00:01\r\u001b[K     |██████████████▉                 | 184 kB 9.3 MB/s eta 0:00:01\r\u001b[K     |███████████████▊                | 194 kB 9.3 MB/s eta 0:00:01\r\u001b[K     |████████████████▌               | 204 kB 9.3 MB/s eta 0:00:01\r\u001b[K     |█████████████████▍              | 215 kB 9.3 MB/s eta 0:00:01\r\u001b[K     |██████████████████▏             | 225 kB 9.3 MB/s eta 0:00:01\r\u001b[K     |███████████████████             | 235 kB 9.3 MB/s eta 0:00:01\r\u001b[K     |███████████████████▉            | 245 kB 9.3 MB/s eta 0:00:01\r\u001b[K     |████████████████████▊           | 256 kB 9.3 MB/s eta 0:00:01\r\u001b[K     |█████████████████████▌          | 266 kB 9.3 MB/s eta 0:00:01\r\u001b[K     |██████████████████████▎         | 276 kB 9.3 MB/s eta 0:00:01\r\u001b[K     |███████████████████████▏        | 286 kB 9.3 MB/s eta 0:00:01\r\u001b[K     |████████████████████████        | 296 kB 9.3 MB/s eta 0:00:01\r\u001b[K     |████████████████████████▉       | 307 kB 9.3 MB/s eta 0:00:01\r\u001b[K     |█████████████████████████▋      | 317 kB 9.3 MB/s eta 0:00:01\r\u001b[K     |██████████████████████████▌     | 327 kB 9.3 MB/s eta 0:00:01\r\u001b[K     |███████████████████████████▎    | 337 kB 9.3 MB/s eta 0:00:01\r\u001b[K     |████████████████████████████    | 348 kB 9.3 MB/s eta 0:00:01\r\u001b[K     |█████████████████████████████   | 358 kB 9.3 MB/s eta 0:00:01\r\u001b[K     |█████████████████████████████▊  | 368 kB 9.3 MB/s eta 0:00:01\r\u001b[K     |██████████████████████████████▋ | 378 kB 9.3 MB/s eta 0:00:01\r\u001b[K     |███████████████████████████████▍| 389 kB 9.3 MB/s eta 0:00:01\r\u001b[K     |████████████████████████████████| 396 kB 9.3 MB/s \n",
            "\u001b[?25hRequirement already satisfied: textblob in /usr/local/lib/python3.7/dist-packages (from NRCLex) (0.15.3)\n",
            "Requirement already satisfied: nltk>=3.1 in /usr/local/lib/python3.7/dist-packages (from textblob->NRCLex) (3.2.5)\n",
            "Requirement already satisfied: six in /usr/local/lib/python3.7/dist-packages (from nltk>=3.1->textblob->NRCLex) (1.15.0)\n",
            "Building wheels for collected packages: NRCLex\n",
            "  Building wheel for NRCLex (setup.py) ... \u001b[?25l\u001b[?25hdone\n",
            "  Created wheel for NRCLex: filename=NRCLex-3.0.0-py3-none-any.whl size=43328 sha256=10e83e231a8e9bd60e07d9ca82dff3b8eaea1602a7334670acb856988805c9c6\n",
            "  Stored in directory: /root/.cache/pip/wheels/af/2c/9c/dfa19d1b65326c520b32850a9311f6d4eda679ac04dba26081\n",
            "Successfully built NRCLex\n",
            "Installing collected packages: NRCLex\n",
            "Successfully installed NRCLex-3.0.0\n"
          ],
          "name": "stdout"
        }
      ]
    },
    {
      "cell_type": "code",
      "metadata": {
        "id": "vVcIo0ucyhNt",
        "colab": {
          "base_uri": "https://localhost:8080/"
        },
        "outputId": "754b407a-470d-4a92-c60e-46aec4242662"
      },
      "source": [
        "from nrclex import NRCLex\n",
        "from collections import Counter\n",
        "nltk.download('punkt')\n",
        "from datetime import datetime"
      ],
      "execution_count": 43,
      "outputs": [
        {
          "output_type": "stream",
          "text": [
            "[nltk_data] Downloading package punkt to /root/nltk_data...\n",
            "[nltk_data]   Unzipping tokenizers/punkt.zip.\n"
          ],
          "name": "stdout"
        }
      ]
    },
    {
      "cell_type": "markdown",
      "metadata": {
        "id": "pixwpt9noOeg"
      },
      "source": [
        "**Covid**"
      ]
    },
    {
      "cell_type": "markdown",
      "metadata": {
        "id": "jwu2saGhiCAC"
      },
      "source": [
        "Two functions have been created to retrieve the emotions for each tweet.\n",
        "\n",
        "- getEmotion( ) returns a dictionary where emotions and corresponding frequencies of each tweet are stored.\n",
        "\n",
        "- EmotionSummary( ) returns a dictionary with the overall sum of frequencies of each emotion.\n"
      ]
    },
    {
      "cell_type": "code",
      "metadata": {
        "id": "tgCIAI4kJqKm"
      },
      "source": [
        "def getEmotion(sentence):\n",
        "  emotion = NRCLex(sentence) \n",
        "  a_l = emotion.affect_frequencies\n",
        "  return a_l\n",
        "\n",
        "def EmotionSummary(list):\n",
        "  emotions = [getEmotion(i) for i in list]\n",
        "  c = Counter()\n",
        "  for d in emotions:\n",
        "    c.update(d)\n",
        "  c = dict(c)\n",
        "  c = dict(sorted(c.items(), key=lambda item: item[1], reverse=True))\n",
        "  c.pop('negative')   \n",
        "  c.pop('positive')\n",
        "  c.pop('anticip')\n",
        "  return c"
      ],
      "execution_count": 44,
      "outputs": []
    },
    {
      "cell_type": "code",
      "metadata": {
        "id": "QNlXX9a_sSxJ"
      },
      "source": [
        "ebola_emotion_sum = EmotionSummary(df_e.tweet)"
      ],
      "execution_count": 45,
      "outputs": []
    },
    {
      "cell_type": "code",
      "metadata": {
        "id": "bvE3LjzLsi_R",
        "colab": {
          "base_uri": "https://localhost:8080/",
          "height": 0
        },
        "outputId": "7fff948b-a85c-4dbc-8fea-e9e0a05198ab"
      },
      "source": [
        "plt.figure(figsize=(10,10))\n",
        "plt.bar(ebola_emotion_sum.keys(), ebola_emotion_sum.values(), color = ['red','blue', 'green', 'brown', 'orange','grey','purple', 'pink'], alpha = 0.6)\n",
        "plt.show()"
      ],
      "execution_count": 46,
      "outputs": [
        {
          "output_type": "display_data",
          "data": {
            "image/png": "[encoded data removed]",
            "text/plain": [
              "<Figure size 720x720 with 1 Axes>"
            ]
          },
          "metadata": {
            "tags": [],
            "needs_background": "light"
          }
        }
      ]
    },
    {
      "cell_type": "markdown",
      "metadata": {
        "id": "lW5MIIJQtvig"
      },
      "source": [
        "For ebola analysis data haven't been divided into periods but only general emotion analysis has been computed. \n",
        "\n",
        "In this case, fear is clearly the most present sentiment, followed by trust, anticipation and sadness. \n",
        "\n",
        "The first five emotions, regardless the rank, are the same both for ebola and covid and might be considered the 5 emotions associated with a pandemic outbreak."
      ]
    },
    {
      "cell_type": "markdown",
      "metadata": {
        "id": "-CcdQPoUbPX4"
      },
      "source": [
        "## Download results"
      ]
    },
    {
      "cell_type": "code",
      "metadata": {
        "id": "hCjHMlUGGxl6"
      },
      "source": [
        "df_e.to_csv('df_e_ext.csv')"
      ],
      "execution_count": 47,
      "outputs": []
    },
    {
      "cell_type": "markdown",
      "metadata": {
        "id": "q1feW8px2S3M"
      },
      "source": [
        "## Final Remarks and Conclusion\n",
        "\n",
        "\n",
        "\n",
        "1. Negative tweets are much more common than positive ones. \n",
        "2. Negatives tweets seems to be, on average, longer than positive ones. \n",
        "3. Words associated to geographic regions (mainly africans) are very present, suggesting a pattern of Social Stigma (Xue, J. et al, 2020)\n",
        "4. Fear is the most common emotion in ebola-related tweets, followed by Trust Anticipation, Sadness and Anger.\n",
        "\n",
        "\n",
        "Differently from covid, data related to ebola haven't been splitted into periods since no major global events associated to this pandemic occured (with the exception of some travelling limitations, mainly in Africa).\n"
      ]
    },
    {
      "cell_type": "markdown",
      "metadata": {
        "id": "VjJILQo6wMAw"
      },
      "source": [
        "## References\n",
        "\n",
        "- Xue, J., Chen, J., Hu, R., Chen, C., Zheng, C., Su, Y., Zhu, T., *Twitter Discussions and Emotions About the COVID-19 Pandemic: Machine Learning Approach*, J Med Internet Res. 2020 Nov 25;22(11):e20550. doi: 10.2196/20550. PMID: 33119535; PMCID: PMC7690968. \n",
        "\n",
        "- Liang, H., Fung, I.CH., Tse, Z.T.H. et al., 2019, *How did Ebola information spread on twitter: broadcasting or viral spreading?*, BMC Public Health 19, 438 (2019). https://doi.org/10.1186/s12889-019-6747-8 \n",
        "\n",
        "- VanderPlas, J., 2016, *Python Data Science Handbook: Essential Tools for Working with Data*, O'Reilly. \n",
        "\n"
      ]
    }
  ]
}