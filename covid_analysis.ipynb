{
  "nbformat": 4,
  "nbformat_minor": 0,
  "metadata": {
    "colab": {
      "name": "covid_analysis.ipynb",
      "provenance": [],
      "collapsed_sections": [
        "m0OgNDMvU7Ks",
        "3mhjAPwzVAEE",
        "_tmW3GGuU3eV",
        "t1UseOKjrAEk",
        "K8nq8h7tUCPI",
        "ndBAbB6vgGB8",
        "lb0rKN2ex3nk",
        "VjJILQo6wMAw"
      ],
      "authorship_tag": "ABX9TyOXdE33TIW2x/fn1QO2TM5Q",
      "include_colab_link": true
    },
    "kernelspec": {
      "name": "python3",
      "display_name": "Python 3"
    },
    "language_info": {
      "name": "python"
    }
  },
  "cells": [
    {
      "cell_type": "markdown",
      "metadata": {
        "id": "view-in-github",
        "colab_type": "text"
      },
      "source": [
        "<a href=\"https://colab.research.google.com/github/filopacio/_python_4_analytics_nlp_project/blob/main/covid_analysis.ipynb\" target=\"_parent\"><img src=\"https://colab.research.google.com/assets/colab-badge.svg\" alt=\"Open In Colab\"/></a>"
      ]
    },
    {
      "cell_type": "markdown",
      "metadata": {
        "id": "m0OgNDMvU7Ks"
      },
      "source": [
        "##Covid Analysis"
      ]
    },
    {
      "cell_type": "code",
      "metadata": {
        "colab": {
          "base_uri": "https://localhost:8080/"
        },
        "id": "ImM-NO9dxHdb",
        "outputId": "462dcb35-d0f9-42be-f92c-718918cff377"
      },
      "source": [
        "#!pip install --user --upgrade git+https://github.com/twintproject/twint.git@origin/master#egg=twint\n",
        "!pip install -qq twint\n",
        "!pip install nest_asyncio"
      ],
      "execution_count": 1,
      "outputs": [
        {
          "output_type": "stream",
          "text": [
            "Requirement already satisfied: nest_asyncio in /usr/local/lib/python3.7/dist-packages (1.5.1)\n"
          ],
          "name": "stdout"
        }
      ]
    },
    {
      "cell_type": "code",
      "metadata": {
        "id": "XalsFxk_Ufs0"
      },
      "source": [
        "import pandas as pd\n",
        "pd.options.mode.chained_assignment = None\n",
        "import numpy as np\n",
        "import matplotlib.pyplot as plt\n",
        "import nest_asyncio\n",
        "import twint \n",
        "from matplotlib import pyplot as plt"
      ],
      "execution_count": 2,
      "outputs": []
    },
    {
      "cell_type": "markdown",
      "metadata": {
        "id": "3mhjAPwzVAEE"
      },
      "source": [
        "## Scrape Tweets"
      ]
    },
    {
      "cell_type": "markdown",
      "metadata": {
        "id": "AgHxB77djPBo"
      },
      "source": [
        "The package twint allows to scrape tweets without the need of API. \n",
        "\n",
        "Unfortunately the queries' commands were sometimes inconsistent and so some ex-post data selection and cleaning was necessary.\n",
        "\n",
        "Also, the query was so huge that, for computational reason, less data have been downloaded. In particular, 80871 tweets have been downloaded, around 1000 tweets every 4 days during the whole time period from 01-01-2020 to 30-06-2021. \n",
        "\n",
        "This procedure was necessary in order to obtain less tweets than the total number but still belonging to the whole period, in order to have heterogenous tweets. "
      ]
    },
    {
      "cell_type": "code",
      "metadata": {
        "id": "XdRcJEoSR_of"
      },
      "source": [
        "from datetime import datetime, timedelta"
      ],
      "execution_count": null,
      "outputs": []
    },
    {
      "cell_type": "code",
      "metadata": {
        "id": "dRV55VCSR88C"
      },
      "source": [
        "d0 = datetime(2020, 1, 1)\n",
        "d1 = datetime(2021, 6, 30)\n",
        "dt = timedelta(days = 4)\n",
        "dates = np.arange(d0, d1, dt).astype(datetime)\n",
        "\n",
        "df_c = pd.DataFrame()\n",
        "\n",
        "nest_asyncio.apply()\n",
        "for i in dates:\n",
        "  c = twint.Config()\n",
        "  c.Search = 'covid'\n",
        "  c.Until  = \"{}\".format(i)\n",
        "  c.Lang = \"en\"\n",
        "  c.Pandas = True\n",
        "  c.Limit = 1000\n",
        "  # Run\n",
        "  twint.run.Search(c)\n",
        "  df_c = df_c.append(twint.storage.panda.Tweets_df[['date', 'tweet','language' ,'username', 'nlikes', 'nretweets']])\n",
        "  df_c.date = pd.to_datetime(df_c.date)\n",
        "  df_c = df_c[df_c.language == 'en']\n",
        "  df_c = df_c[df_c.date >= datetime(2020,1,1)]\n",
        "  df_c.to_csv('df_c.csv')"
      ],
      "execution_count": null,
      "outputs": []
    },
    {
      "cell_type": "code",
      "metadata": {
        "id": "xnco_HI1fuQR"
      },
      "source": [
        "from google.colab import files"
      ],
      "execution_count": null,
      "outputs": []
    },
    {
      "cell_type": "code",
      "metadata": {
        "id": "CEDIp7CnI7BY",
        "colab": {
          "base_uri": "https://localhost:8080/",
          "height": 34
        },
        "outputId": "d02971cf-d99c-41ae-9e88-b0704e058e65"
      },
      "source": [
        "files.download(\"df_c.csv\")"
      ],
      "execution_count": null,
      "outputs": [
        {
          "output_type": "display_data",
          "data": {
            "application/javascript": [
              "\n",
              "    async function download(id, filename, size) {\n",
              "      if (!google.colab.kernel.accessAllowed) {\n",
              "        return;\n",
              "      }\n",
              "      const div = document.createElement('div');\n",
              "      const label = document.createElement('label');\n",
              "      label.textContent = `Downloading \"${filename}\": `;\n",
              "      div.appendChild(label);\n",
              "      const progress = document.createElement('progress');\n",
              "      progress.max = size;\n",
              "      div.appendChild(progress);\n",
              "      document.body.appendChild(div);\n",
              "\n",
              "      const buffers = [];\n",
              "      let downloaded = 0;\n",
              "\n",
              "      const channel = await google.colab.kernel.comms.open(id);\n",
              "      // Send a message to notify the kernel that we're ready.\n",
              "      channel.send({})\n",
              "\n",
              "      for await (const message of channel.messages) {\n",
              "        // Send a message to notify the kernel that we're ready.\n",
              "        channel.send({})\n",
              "        if (message.buffers) {\n",
              "          for (const buffer of message.buffers) {\n",
              "            buffers.push(buffer);\n",
              "            downloaded += buffer.byteLength;\n",
              "            progress.value = downloaded;\n",
              "          }\n",
              "        }\n",
              "      }\n",
              "      const blob = new Blob(buffers, {type: 'application/binary'});\n",
              "      const a = document.createElement('a');\n",
              "      a.href = window.URL.createObjectURL(blob);\n",
              "      a.download = filename;\n",
              "      div.appendChild(a);\n",
              "      a.click();\n",
              "      div.remove();\n",
              "    }\n",
              "  "
            ],
            "text/plain": [
              "<IPython.core.display.Javascript object>"
            ]
          },
          "metadata": {
            "tags": []
          }
        },
        {
          "output_type": "display_data",
          "data": {
            "application/javascript": [
              "download(\"download_47a3a16f-dddd-4889-aa98-a77ded05099c\", \"df_c.csv\", 1048576)"
            ],
            "text/plain": [
              "<IPython.core.display.Javascript object>"
            ]
          },
          "metadata": {
            "tags": []
          }
        }
      ]
    },
    {
      "cell_type": "markdown",
      "metadata": {
        "id": "_tmW3GGuU3eV"
      },
      "source": [
        "## Upload dataset"
      ]
    },
    {
      "cell_type": "code",
      "metadata": {
        "id": "woLcX5hZSPvM"
      },
      "source": [
        "import csv"
      ],
      "execution_count": 3,
      "outputs": []
    },
    {
      "cell_type": "code",
      "metadata": {
        "id": "7f2itWt2zVs6"
      },
      "source": [
        "with open('df_c.csv') as c:\n",
        "    reader = csv.reader(c)\n",
        "    l_c = list(reader)\n",
        "\n",
        "df_c = pd.DataFrame(l_c, columns = ['','date', 'tweet','language' ,'username', 'nlikes', 'nretweets'])[1:].dropna().reset_index()\n",
        "df_c = df_c[['date', 'tweet','language' ,'username']]"
      ],
      "execution_count": 4,
      "outputs": []
    },
    {
      "cell_type": "code",
      "metadata": {
        "id": "LFqKKhWkSVdR",
        "colab": {
          "base_uri": "https://localhost:8080/",
          "height": 0
        },
        "outputId": "a4f0b075-f63c-49e7-a144-5756bae4f611"
      },
      "source": [
        "df_c.head()"
      ],
      "execution_count": 5,
      "outputs": [
        {
          "output_type": "execute_result",
          "data": {
            "text/html": [
              "<div>\n",
              "<style scoped>\n",
              "    .dataframe tbody tr th:only-of-type {\n",
              "        vertical-align: middle;\n",
              "    }\n",
              "\n",
              "    .dataframe tbody tr th {\n",
              "        vertical-align: top;\n",
              "    }\n",
              "\n",
              "    .dataframe thead th {\n",
              "        text-align: right;\n",
              "    }\n",
              "</style>\n",
              "<table border=\"1\" class=\"dataframe\">\n",
              "  <thead>\n",
              "    <tr style=\"text-align: right;\">\n",
              "      <th></th>\n",
              "      <th>date</th>\n",
              "      <th>tweet</th>\n",
              "      <th>language</th>\n",
              "      <th>username</th>\n",
              "    </tr>\n",
              "  </thead>\n",
              "  <tbody>\n",
              "    <tr>\n",
              "      <th>0</th>\n",
              "      <td>2019-12-29 05:21:25</td>\n",
              "      <td>@ross_robertross @LateRoundCorner Lamar gonna ...</td>\n",
              "      <td>en</td>\n",
              "      <td>Racist_Covid</td>\n",
              "    </tr>\n",
              "    <tr>\n",
              "      <th>1</th>\n",
              "      <td>2019-12-28 23:28:59</td>\n",
              "      <td>@CaslerNoel @DonaldJTrumpJr @realDonaldTrump @...</td>\n",
              "      <td>en</td>\n",
              "      <td>COVID_Careful</td>\n",
              "    </tr>\n",
              "    <tr>\n",
              "      <th>2</th>\n",
              "      <td>2019-12-28 23:23:01</td>\n",
              "      <td>@realDonaldTrump You do realize SF is part of ...</td>\n",
              "      <td>en</td>\n",
              "      <td>COVID_Careful</td>\n",
              "    </tr>\n",
              "    <tr>\n",
              "      <th>3</th>\n",
              "      <td>2019-12-28 22:16:08</td>\n",
              "      <td>I got a new mullet 🙊🙊  https://t.co/a6TBWBexG8</td>\n",
              "      <td>en</td>\n",
              "      <td>covid_mullet</td>\n",
              "    </tr>\n",
              "    <tr>\n",
              "      <th>4</th>\n",
              "      <td>2019-12-28 21:35:16</td>\n",
              "      <td>@IDreamOfNinja Danny needs help. I refuse to h...</td>\n",
              "      <td>en</td>\n",
              "      <td>covid_longhaul</td>\n",
              "    </tr>\n",
              "  </tbody>\n",
              "</table>\n",
              "</div>"
            ],
            "text/plain": [
              "                  date  ...        username\n",
              "0  2019-12-29 05:21:25  ...    Racist_Covid\n",
              "1  2019-12-28 23:28:59  ...   COVID_Careful\n",
              "2  2019-12-28 23:23:01  ...   COVID_Careful\n",
              "3  2019-12-28 22:16:08  ...    covid_mullet\n",
              "4  2019-12-28 21:35:16  ...  covid_longhaul\n",
              "\n",
              "[5 rows x 4 columns]"
            ]
          },
          "metadata": {
            "tags": []
          },
          "execution_count": 5
        }
      ]
    },
    {
      "cell_type": "markdown",
      "metadata": {
        "id": "t1UseOKjrAEk"
      },
      "source": [
        "## Preprocessing\n"
      ]
    },
    {
      "cell_type": "code",
      "metadata": {
        "colab": {
          "base_uri": "https://localhost:8080/"
        },
        "id": "4pF9lYG2Kq45",
        "outputId": "25e74bfb-f75e-4c4e-cf85-4a3542a1bca9"
      },
      "source": [
        "import re\n",
        "import string\n",
        "import nltk\n",
        "from nltk.corpus import stopwords\n",
        "from itertools import chain\n",
        "from nltk.stem.porter import PorterStemmer \n",
        "from nltk.stem.snowball import SnowballStemmer\n",
        "from nltk.stem.wordnet import WordNetLemmatizer\n",
        "nltk.download('stopwords')\n",
        "nltk.download('wordnet')\n",
        "from sklearn.feature_extraction.text import CountVectorizer"
      ],
      "execution_count": 6,
      "outputs": [
        {
          "output_type": "stream",
          "text": [
            "[nltk_data] Downloading package stopwords to /root/nltk_data...\n",
            "[nltk_data]   Package stopwords is already up-to-date!\n",
            "[nltk_data] Downloading package wordnet to /root/nltk_data...\n",
            "[nltk_data]   Package wordnet is already up-to-date!\n"
          ],
          "name": "stdout"
        }
      ]
    },
    {
      "cell_type": "markdown",
      "metadata": {
        "id": "9e0GDIT3kXBY"
      },
      "source": [
        "**Text Cleaning**"
      ]
    },
    {
      "cell_type": "markdown",
      "metadata": {
        "id": "AyYPYkOVlsz7"
      },
      "source": [
        "I created the clean_text function in order to clean the tweets from noisy characters. \n",
        "\n",
        "items removed: \n",
        "- links\n",
        "- punctuations/special characters \n",
        "- emoticons\n",
        "\n",
        "Before doing so I also put all the texts in lower case.\n",
        "I did not remove alphanumeric words to avoid eliminating words like covid19, covid-19 etc."
      ]
    },
    {
      "cell_type": "code",
      "metadata": {
        "id": "Q_iIFdxEpeWV"
      },
      "source": [
        "def clean_text(text):\n",
        "    text = str(text).lower()\n",
        "    text = re.sub('https://\\S+|www\\.\\S', '', text)      # remove link\n",
        "    text = re.sub(\"['’!@#$%^&*()_+<>?:.,;]\" , '', text)  # punctuations/special characters\n",
        "    text = re.sub(re.compile(\"[\"                        # emoticon\n",
        "        u\"\\U0001F600-\\U0001F64F\"  \n",
        "        u\"\\U0001F300-\\U0001F5FF\"  \n",
        "        u\"\\U0001F680-\\U0001F6FF\"  \n",
        "        u\"\\U0001F1E0-\\U0001F1FF\"  \n",
        "        u\"\\U00002702-\\U000027B0\"\n",
        "        u\"\\U000024C2-\\U0001F251\"\n",
        "        u\"\\U0001f926-\\U0001f937\"\n",
        "        u'\\U00010000-\\U0010ffff'\n",
        "        u\"\\u200d\"\n",
        "        u\"\\u2640-\\u2642\"\n",
        "        u\"\\u2600-\\u2B55\"\n",
        "        u\"\\u23cf\"\n",
        "        u\"\\u23e9\"\n",
        "        u\"\\u231a\"\n",
        "        u\"\\u3030\"\n",
        "        u\"\\ufe0f\"\n",
        "                           \"]+\", flags=re.UNICODE), '', text)\n",
        "    return text"
      ],
      "execution_count": 7,
      "outputs": []
    },
    {
      "cell_type": "markdown",
      "metadata": {
        "id": "zA_GSavhiE-C"
      },
      "source": [
        "**Stopwords removal**"
      ]
    },
    {
      "cell_type": "markdown",
      "metadata": {
        "id": "9J3IT00vn8MF"
      },
      "source": [
        "What is considered a stopword can be found in the set  below. Such list belongs to the package nltk. "
      ]
    },
    {
      "cell_type": "code",
      "metadata": {
        "id": "cg6rJ4TSAFfJ",
        "colab": {
          "base_uri": "https://localhost:8080/"
        },
        "outputId": "ce35a218-ebce-4999-9062-1ad642b2ad09"
      },
      "source": [
        "stopwords = set(stopwords.words('english')) \n",
        "stopwords"
      ],
      "execution_count": 8,
      "outputs": [
        {
          "output_type": "execute_result",
          "data": {
            "text/plain": [
              "{'a',\n",
              " 'about',\n",
              " 'above',\n",
              " 'after',\n",
              " 'again',\n",
              " 'against',\n",
              " 'ain',\n",
              " 'all',\n",
              " 'am',\n",
              " 'an',\n",
              " 'and',\n",
              " 'any',\n",
              " 'are',\n",
              " 'aren',\n",
              " \"aren't\",\n",
              " 'as',\n",
              " 'at',\n",
              " 'be',\n",
              " 'because',\n",
              " 'been',\n",
              " 'before',\n",
              " 'being',\n",
              " 'below',\n",
              " 'between',\n",
              " 'both',\n",
              " 'but',\n",
              " 'by',\n",
              " 'can',\n",
              " 'couldn',\n",
              " \"couldn't\",\n",
              " 'd',\n",
              " 'did',\n",
              " 'didn',\n",
              " \"didn't\",\n",
              " 'do',\n",
              " 'does',\n",
              " 'doesn',\n",
              " \"doesn't\",\n",
              " 'doing',\n",
              " 'don',\n",
              " \"don't\",\n",
              " 'down',\n",
              " 'during',\n",
              " 'each',\n",
              " 'few',\n",
              " 'for',\n",
              " 'from',\n",
              " 'further',\n",
              " 'had',\n",
              " 'hadn',\n",
              " \"hadn't\",\n",
              " 'has',\n",
              " 'hasn',\n",
              " \"hasn't\",\n",
              " 'have',\n",
              " 'haven',\n",
              " \"haven't\",\n",
              " 'having',\n",
              " 'he',\n",
              " 'her',\n",
              " 'here',\n",
              " 'hers',\n",
              " 'herself',\n",
              " 'him',\n",
              " 'himself',\n",
              " 'his',\n",
              " 'how',\n",
              " 'i',\n",
              " 'if',\n",
              " 'in',\n",
              " 'into',\n",
              " 'is',\n",
              " 'isn',\n",
              " \"isn't\",\n",
              " 'it',\n",
              " \"it's\",\n",
              " 'its',\n",
              " 'itself',\n",
              " 'just',\n",
              " 'll',\n",
              " 'm',\n",
              " 'ma',\n",
              " 'me',\n",
              " 'mightn',\n",
              " \"mightn't\",\n",
              " 'more',\n",
              " 'most',\n",
              " 'mustn',\n",
              " \"mustn't\",\n",
              " 'my',\n",
              " 'myself',\n",
              " 'needn',\n",
              " \"needn't\",\n",
              " 'no',\n",
              " 'nor',\n",
              " 'not',\n",
              " 'now',\n",
              " 'o',\n",
              " 'of',\n",
              " 'off',\n",
              " 'on',\n",
              " 'once',\n",
              " 'only',\n",
              " 'or',\n",
              " 'other',\n",
              " 'our',\n",
              " 'ours',\n",
              " 'ourselves',\n",
              " 'out',\n",
              " 'over',\n",
              " 'own',\n",
              " 're',\n",
              " 's',\n",
              " 'same',\n",
              " 'shan',\n",
              " \"shan't\",\n",
              " 'she',\n",
              " \"she's\",\n",
              " 'should',\n",
              " \"should've\",\n",
              " 'shouldn',\n",
              " \"shouldn't\",\n",
              " 'so',\n",
              " 'some',\n",
              " 'such',\n",
              " 't',\n",
              " 'than',\n",
              " 'that',\n",
              " \"that'll\",\n",
              " 'the',\n",
              " 'their',\n",
              " 'theirs',\n",
              " 'them',\n",
              " 'themselves',\n",
              " 'then',\n",
              " 'there',\n",
              " 'these',\n",
              " 'they',\n",
              " 'this',\n",
              " 'those',\n",
              " 'through',\n",
              " 'to',\n",
              " 'too',\n",
              " 'under',\n",
              " 'until',\n",
              " 'up',\n",
              " 've',\n",
              " 'very',\n",
              " 'was',\n",
              " 'wasn',\n",
              " \"wasn't\",\n",
              " 'we',\n",
              " 'were',\n",
              " 'weren',\n",
              " \"weren't\",\n",
              " 'what',\n",
              " 'when',\n",
              " 'where',\n",
              " 'which',\n",
              " 'while',\n",
              " 'who',\n",
              " 'whom',\n",
              " 'why',\n",
              " 'will',\n",
              " 'with',\n",
              " 'won',\n",
              " \"won't\",\n",
              " 'wouldn',\n",
              " \"wouldn't\",\n",
              " 'y',\n",
              " 'you',\n",
              " \"you'd\",\n",
              " \"you'll\",\n",
              " \"you're\",\n",
              " \"you've\",\n",
              " 'your',\n",
              " 'yours',\n",
              " 'yourself',\n",
              " 'yourselves'}"
            ]
          },
          "metadata": {
            "tags": []
          },
          "execution_count": 8
        }
      ]
    },
    {
      "cell_type": "code",
      "metadata": {
        "id": "14eVWcYLqIyQ"
      },
      "source": [
        "def remove_stopwords(text):\n",
        "    stop = set(stopwords.words('english'))  \n",
        "    stop.add('im')\n",
        "    stop.add(\"i'm\")\n",
        "    stop.add('could')\n",
        "    stop.add('dont')\n",
        "    stop.add('didnt')\n",
        "    stop.add('cant')\n",
        "    stop.add('thats')\n",
        "    stop.add('go')\n",
        "    stop.add('it')\n",
        "    stop.add('get')\n",
        "   # not present in the original set but very recurrent words\n",
        "    text = [[i for i in i.split() if i not in stop] for i in text]\n",
        "    return  text"
      ],
      "execution_count": 9,
      "outputs": []
    },
    {
      "cell_type": "markdown",
      "metadata": {
        "id": "P1x7WR0InIe_"
      },
      "source": [
        "**Lemmatization**"
      ]
    },
    {
      "cell_type": "code",
      "metadata": {
        "id": "oPL8XiEMm1rn"
      },
      "source": [
        "def lemmatize(text):\n",
        "    lem = WordNetLemmatizer()\n",
        "    corpus = [[lem.lemmatize(i, pos = 'v') for i in i] for i in text]\n",
        "    return text"
      ],
      "execution_count": 10,
      "outputs": []
    },
    {
      "cell_type": "markdown",
      "metadata": {
        "id": "rX8c2HLdnLtT"
      },
      "source": [
        "**Stemming**"
      ]
    },
    {
      "cell_type": "code",
      "metadata": {
        "id": "EpMKYYT0m_ot"
      },
      "source": [
        "def sb_stem(text):\n",
        "   stemmer = SnowballStemmer(language = 'english')\n",
        "   text = [stemmer.stem(i) for i in text]\n",
        "   return text"
      ],
      "execution_count": 11,
      "outputs": []
    },
    {
      "cell_type": "code",
      "metadata": {
        "id": "IEI2i-x7GI8G"
      },
      "source": [
        "def p_stem(text):\n",
        "   stemmer = PorterStemmer()\n",
        "   text = [stemmer.stem(i) for i in text]\n",
        "   return text"
      ],
      "execution_count": 12,
      "outputs": []
    },
    {
      "cell_type": "markdown",
      "metadata": {
        "id": "seMjN-nK-E2c"
      },
      "source": [
        "**Final outcome of preprocessing**"
      ]
    },
    {
      "cell_type": "code",
      "metadata": {
        "id": "hWEoecHO7MbZ"
      },
      "source": [
        "def preprocess(text): \n",
        "  cleaned = [clean_text(i) for i in text]\n",
        "  removed = remove_stopwords(cleaned)\n",
        "  lemmatized = [lemmatize(i) for i in removed]\n",
        "  stemmed = [p_stem(i) for i in lemmatized] \n",
        "  return lemmatized #stemmed"
      ],
      "execution_count": 13,
      "outputs": []
    },
    {
      "cell_type": "code",
      "metadata": {
        "id": "eJCn4zhdqCVA"
      },
      "source": [
        "from nltk.corpus import stopwords"
      ],
      "execution_count": 14,
      "outputs": []
    },
    {
      "cell_type": "code",
      "metadata": {
        "id": "30o012UM046c"
      },
      "source": [
        "df_c['tweets'] = preprocess(df_c.tweet) "
      ],
      "execution_count": 15,
      "outputs": []
    },
    {
      "cell_type": "markdown",
      "metadata": {
        "id": "K8nq8h7tUCPI"
      },
      "source": [
        "## Sentiment Labelling"
      ]
    },
    {
      "cell_type": "code",
      "metadata": {
        "id": "iAjEGp2TSWCC",
        "colab": {
          "base_uri": "https://localhost:8080/"
        },
        "outputId": "9ac8aac7-9ea3-429a-c7c5-2b5ec5b0facd"
      },
      "source": [
        "import nltk\n",
        "nltk.download('vader_lexicon')\n",
        "from nltk.sentiment.vader import SentimentIntensityAnalyzer"
      ],
      "execution_count": 53,
      "outputs": [
        {
          "output_type": "stream",
          "text": [
            "[nltk_data] Downloading package vader_lexicon to /root/nltk_data...\n",
            "[nltk_data]   Package vader_lexicon is already up-to-date!\n"
          ],
          "name": "stdout"
        }
      ]
    },
    {
      "cell_type": "code",
      "metadata": {
        "id": "x9ouIYZ4SbXG"
      },
      "source": [
        "sent_analyzer = SentimentIntensityAnalyzer()"
      ],
      "execution_count": 17,
      "outputs": []
    },
    {
      "cell_type": "code",
      "metadata": {
        "id": "rPqUqssBSesS"
      },
      "source": [
        "c = [sent_analyzer.polarity_scores(i) for i in df_c.tweet]\n",
        "df_c['polarity'] = [i.get('compound') for i in c]"
      ],
      "execution_count": 18,
      "outputs": []
    },
    {
      "cell_type": "code",
      "metadata": {
        "id": "mKqg0ZF5AQtS"
      },
      "source": [
        "df_c['sentiment'] = list(np.repeat(1,len(df_c)))\n",
        "for i in range(len(df_c)):\n",
        "   if df_c.polarity[i] > 1/3:\n",
        "     df_c['sentiment'][i] = 'positive'\n",
        "   elif df_c.polarity[i] < -1/3:\n",
        "        df_c['sentiment'][i] = 'negative'\n",
        "   else:\n",
        "        df_c['sentiment'][i] = 'neutral'"
      ],
      "execution_count": 19,
      "outputs": []
    },
    {
      "cell_type": "code",
      "metadata": {
        "id": "DMwH4njNSpkA",
        "colab": {
          "base_uri": "https://localhost:8080/"
        },
        "outputId": "eb0de911-85c8-4024-d210-7603d8545833"
      },
      "source": [
        "df_c.sentiment"
      ],
      "execution_count": 20,
      "outputs": [
        {
          "output_type": "execute_result",
          "data": {
            "text/plain": [
              "0        negative\n",
              "1         neutral\n",
              "2        positive\n",
              "3         neutral\n",
              "4        positive\n",
              "           ...   \n",
              "80866    positive\n",
              "80867    positive\n",
              "80868    positive\n",
              "80869    positive\n",
              "80870    positive\n",
              "Name: sentiment, Length: 80871, dtype: object"
            ]
          },
          "metadata": {
            "tags": []
          },
          "execution_count": 20
        }
      ]
    },
    {
      "cell_type": "code",
      "metadata": {
        "id": "IIN4ME8CSqXZ",
        "colab": {
          "base_uri": "https://localhost:8080/",
          "height": 265
        },
        "outputId": "2f14a73c-ea62-4846-8018-132eeabcb3bf"
      },
      "source": [
        "plt.hist(df_c.sentiment)\n",
        "plt.show()"
      ],
      "execution_count": 21,
      "outputs": [
        {
          "output_type": "display_data",
          "data": {
            "image/png": "[encoded data removed]",
            "text/plain": [
              "<Figure size 432x288 with 1 Axes>"
            ]
          },
          "metadata": {
            "tags": [],
            "needs_background": "light"
          }
        }
      ]
    },
    {
      "cell_type": "markdown",
      "metadata": {
        "id": "Dq0xqnGfzNAz"
      },
      "source": [
        "Vader's sentiment analyzer is pretty cautious, therefore it is likely not to take extremely polarized values. Consequently, under this splitting of data, the vast majority of tweets are labelled as neutral.\n",
        "\n",
        "So let's see what happens if the 'neutral' label is removed, letting the sentiments be either 'positive' or 'negative' based, respectively, on positive or negative values of the compound."
      ]
    },
    {
      "cell_type": "code",
      "metadata": {
        "id": "4oRtcHrXSvK4"
      },
      "source": [
        "sen = list(np.repeat(1,len(df_c)))\n",
        "for i in range(len(df_c)):\n",
        "   if df_c.polarity[i] > 0:\n",
        "     sen[i] = 'positive'\n",
        "   else:\n",
        "    sen[i] = 'negative'"
      ],
      "execution_count": 22,
      "outputs": []
    },
    {
      "cell_type": "code",
      "metadata": {
        "id": "va8KelIXSvGC",
        "colab": {
          "base_uri": "https://localhost:8080/",
          "height": 265
        },
        "outputId": "8be04781-e55d-4d89-9d06-c44059ba5957"
      },
      "source": [
        "plt.hist(sen)\n",
        "plt.show()"
      ],
      "execution_count": 23,
      "outputs": [
        {
          "output_type": "display_data",
          "data": {
            "image/png": "[encoded data removed]",
            "text/plain": [
              "<Figure size 432x288 with 1 Axes>"
            ]
          },
          "metadata": {
            "tags": [],
            "needs_background": "light"
          }
        }
      ]
    },
    {
      "cell_type": "markdown",
      "metadata": {
        "id": "Q-PLkzhKrG9C"
      },
      "source": [
        "With a polarized labelling which doesn't consider the neutral option the difference between negative and positive tweets is clear."
      ]
    },
    {
      "cell_type": "markdown",
      "metadata": {
        "id": "ndBAbB6vgGB8"
      },
      "source": [
        "## Analysis of keywords"
      ]
    },
    {
      "cell_type": "markdown",
      "metadata": {
        "id": "xCVYQObOPVLq"
      },
      "source": [
        "Let us now create an even more polarized situation.\n",
        "\n",
        "Let's take only the most polarized positive and  negative tweets in order to find (if any) differences and similarities in the use of most common words between very positive and very negative tweets."
      ]
    },
    {
      "cell_type": "code",
      "metadata": {
        "id": "hYKJUjsjPvu8"
      },
      "source": [
        "df_c['polarized_sen'] = np.repeat(1,len(df_c))\n",
        "for i in range(len(df_c)):\n",
        "   if df_c.polarity[i] > 0.5:\n",
        "     df_c['polarized_sen'].loc[i] = 'positive'\n",
        "   elif df_c.polarity[i] < -0.5:\n",
        "        df_c['polarized_sen'].loc[i] = 'negative'\n",
        "   else:\n",
        "        df_c['polarized_sen'].loc[i] = 'neutral'"
      ],
      "execution_count": 24,
      "outputs": []
    },
    {
      "cell_type": "code",
      "metadata": {
        "id": "PYk6clB4P4Hv"
      },
      "source": [
        "df_c_neg = df_c[df_c.polarized_sen == 'negative'].reset_index()\n",
        "df_c_pos = df_c[df_c.polarized_sen == 'positive'].reset_index()   "
      ],
      "execution_count": 25,
      "outputs": []
    },
    {
      "cell_type": "code",
      "metadata": {
        "id": "iefUHq-2XtpP"
      },
      "source": [
        "from gensim.models import Word2Vec"
      ],
      "execution_count": 26,
      "outputs": []
    },
    {
      "cell_type": "code",
      "metadata": {
        "id": "629Vbwf_QT7Y",
        "colab": {
          "base_uri": "https://localhost:8080/"
        },
        "outputId": "97d1265c-1df1-47ea-d7cd-61a54b4d88ca"
      },
      "source": [
        "neg_w2v = Word2Vec(df_c_neg.tweets, min_count = 600)\n",
        "neg_w2v.wv.vocab.pop('-')"
      ],
      "execution_count": 27,
      "outputs": [
        {
          "output_type": "execute_result",
          "data": {
            "text/plain": [
              "<gensim.models.keyedvectors.Vocab at 0x7f1995b1c3d0>"
            ]
          },
          "metadata": {
            "tags": []
          },
          "execution_count": 27
        }
      ]
    },
    {
      "cell_type": "code",
      "metadata": {
        "colab": {
          "base_uri": "https://localhost:8080/"
        },
        "id": "aQRZtTJH-g3g",
        "outputId": "01a28bfe-e28f-4828-c0fb-03f85a5e1e9d"
      },
      "source": [
        "type(df_c_neg.tweets[2])"
      ],
      "execution_count": 28,
      "outputs": [
        {
          "output_type": "execute_result",
          "data": {
            "text/plain": [
              "list"
            ]
          },
          "metadata": {
            "tags": []
          },
          "execution_count": 28
        }
      ]
    },
    {
      "cell_type": "code",
      "metadata": {
        "id": "az6-7d-EQY86",
        "colab": {
          "base_uri": "https://localhost:8080/"
        },
        "outputId": "6d1bbc3d-ba97-4e26-e2f5-02401f5f207a"
      },
      "source": [
        "pos_w2v = Word2Vec(df_c_pos.tweets, min_count= 600)\n",
        "pos_w2v.wv.vocab.pop('-')"
      ],
      "execution_count": 29,
      "outputs": [
        {
          "output_type": "execute_result",
          "data": {
            "text/plain": [
              "<gensim.models.keyedvectors.Vocab at 0x7f1995b46510>"
            ]
          },
          "metadata": {
            "tags": []
          },
          "execution_count": 29
        }
      ]
    },
    {
      "cell_type": "code",
      "metadata": {
        "id": "Gbqk4VxAQbv5"
      },
      "source": [
        "n = set(list(neg_w2v.wv.vocab))\n",
        "p = set(list(pos_w2v.wv.vocab))\n",
        "\n",
        "common_elements = n.intersection(p) "
      ],
      "execution_count": 30,
      "outputs": []
    },
    {
      "cell_type": "code",
      "metadata": {
        "id": "gBlEsMXSQfUk"
      },
      "source": [
        "covid_common_neg = n - n.intersection(p)"
      ],
      "execution_count": 31,
      "outputs": []
    },
    {
      "cell_type": "code",
      "metadata": {
        "id": "fhEUwVS1QhVa"
      },
      "source": [
        "covid_common_pos = p - n.intersection(p)"
      ],
      "execution_count": 32,
      "outputs": []
    },
    {
      "cell_type": "code",
      "metadata": {
        "id": "QUciEH6oVR1-"
      },
      "source": [
        "from matplotlib_venn import venn2"
      ],
      "execution_count": 33,
      "outputs": []
    },
    {
      "cell_type": "code",
      "metadata": {
        "colab": {
          "base_uri": "https://localhost:8080/",
          "height": 0
        },
        "id": "ay0wmY6ZVQG0",
        "outputId": "d333df6a-fe0b-4954-9cb2-5c84dcc25d0c"
      },
      "source": [
        "set1 = n\n",
        "set2 = p\n",
        "\n",
        "set_covid = n.union(p)\n",
        "\n",
        "plt.figure(figsize=(10, 10))\n",
        "venn = venn2([set1, set2], ('Negative', 'Positive'))\n",
        "venn.get_label_by_id('100').set_text('\\n'.join(set1-set2))\n",
        "venn.get_label_by_id('110').set_text('\\n'.join(set1&set2))\n",
        "venn.get_label_by_id('010').set_text('\\n'.join(set2-set1))\n",
        "plt.title('Covid Words Sentiment')\n",
        "plt.show()"
      ],
      "execution_count": 34,
      "outputs": [
        {
          "output_type": "display_data",
          "data": {
            "image/png": "[encoded data removed]",
            "text/plain": [
              "<Figure size 720x720 with 1 Axes>"
            ]
          },
          "metadata": {
            "tags": []
          }
        }
      ]
    },
    {
      "cell_type": "markdown",
      "metadata": {
        "id": "F4tCXVeaZVi8"
      },
      "source": [
        "With word2vec( ) the most common words inside the two polarized opposite sets are obtained. The results can be seen in the Venn Diagram above. Death and disease are the most incumbent topics (and interestingly also Trump) for the negative side while in the positive side there's a general sense of altruistic sentiment ('care', 'help', 'need', 'thank','please','love' etc.)."
      ]
    },
    {
      "cell_type": "markdown",
      "metadata": {
        "id": "WIgeC2hFbHsL"
      },
      "source": [
        "Also, it might be interesting to explore the overall difference in length between positive and negative tweets."
      ]
    },
    {
      "cell_type": "code",
      "metadata": {
        "colab": {
          "base_uri": "https://localhost:8080/",
          "height": 0
        },
        "id": "LetKYID1W56u",
        "outputId": "53bc02d4-ac90-4bf2-8bb3-33f549cd53e3"
      },
      "source": [
        "df_c_neg['length'] = [len(i) for i in df_c_neg.tweet]\n",
        "df_c_pos['length'] = [len(i) for i in df_c_pos.tweet]\n",
        "\n",
        "plt.hist(df_c_pos.length, label = 'length positive',alpha = 0.5)\n",
        "plt.hist(df_c_neg.length, label = 'length negative', alpha = 0.5)\n",
        "plt.legend(loc='upper right')\n",
        "plt.show()"
      ],
      "execution_count": 35,
      "outputs": [
        {
          "output_type": "display_data",
          "data": {
            "image/png": "[encoded data removed]",
            "text/plain": [
              "<Figure size 432x288 with 1 Axes>"
            ]
          },
          "metadata": {
            "tags": [],
            "needs_background": "light"
          }
        }
      ]
    },
    {
      "cell_type": "code",
      "metadata": {
        "id": "na73LfTLG14P"
      },
      "source": [
        "import wordcloud"
      ],
      "execution_count": 36,
      "outputs": []
    },
    {
      "cell_type": "code",
      "metadata": {
        "id": "SsyRWQc0Hsb3",
        "colab": {
          "base_uri": "https://localhost:8080/",
          "height": 0
        },
        "outputId": "b56bdcda-ffbe-4bd9-eb93-ce313f14f014"
      },
      "source": [
        "wc = wordcloud.WordCloud(background_color='black', max_words=100, \n",
        "                         max_font_size=50, stopwords = ['dict_keys','-'])\n",
        "wc = wc.generate(str(\",\".join(set_covid)))\n",
        "plt.figure(figsize=(10, 10))\n",
        "plt.axis('off')\n",
        "plt.imshow(wc)\n",
        "plt.show()"
      ],
      "execution_count": 37,
      "outputs": [
        {
          "output_type": "display_data",
          "data": {
            "image/png": "[encoded data removed]",
            "text/plain": [
              "<Figure size 720x720 with 1 Axes>"
            ]
          },
          "metadata": {
            "tags": [],
            "needs_background": "light"
          }
        }
      ]
    },
    {
      "cell_type": "markdown",
      "metadata": {
        "id": "hT1UHsPq0Dx8"
      },
      "source": [
        "The results of this unigrams analysis are very similar to those obtained by (Xue, J. et al, 2020)."
      ]
    },
    {
      "cell_type": "markdown",
      "metadata": {
        "id": "kRW-8HRtk1Sg"
      },
      "source": [
        "**Word Embedding**"
      ]
    },
    {
      "cell_type": "markdown",
      "metadata": {
        "id": "6HPJ1Vxf3c3x"
      },
      "source": [
        "Word Embedding through a Principal Component Analysis model"
      ]
    },
    {
      "cell_type": "code",
      "metadata": {
        "id": "VziOtDAMksKL"
      },
      "source": [
        "from sklearn.decomposition import PCA\n",
        "import matplotlib.pyplot as plt"
      ],
      "execution_count": 38,
      "outputs": []
    },
    {
      "cell_type": "code",
      "metadata": {
        "id": "z-5O7qM1N_4m",
        "colab": {
          "base_uri": "https://localhost:8080/"
        },
        "outputId": "c20a5045-6f1c-4cc2-8b9f-fe1afaacb9e1"
      },
      "source": [
        "covid_w2v = Word2Vec(df_c.tweets, min_count = 1500)\n",
        "covid_w2v.wv.vocab.pop('-')\n",
        "covid_w2v.wv.vocab.pop('2')"
      ],
      "execution_count": 39,
      "outputs": [
        {
          "output_type": "execute_result",
          "data": {
            "text/plain": [
              "<gensim.models.keyedvectors.Vocab at 0x7f19951413d0>"
            ]
          },
          "metadata": {
            "tags": []
          },
          "execution_count": 39
        }
      ]
    },
    {
      "cell_type": "code",
      "metadata": {
        "colab": {
          "base_uri": "https://localhost:8080/",
          "height": 0
        },
        "id": "5ic3V9uXh0vB",
        "outputId": "d5b1d63f-baab-496d-8854-81e30e8b2167"
      },
      "source": [
        "X = covid_w2v.wv.__getitem__(covid_w2v.wv.vocab)\n",
        "pca = PCA(n_components=2)\n",
        "result = pca.fit_transform(X)\n",
        "plt.figure(figsize=(10, 10))\n",
        "plt.scatter(result[:,0], result[:,1])\n",
        "words = list(covid_w2v.wv.vocab)\n",
        "for i, word in enumerate(words):\n",
        "\tplt.annotate(word, xy=(result[i,0], result[i,1]))\n",
        "plt.show()"
      ],
      "execution_count": 40,
      "outputs": [
        {
          "output_type": "display_data",
          "data": {
            "image/png": "[encoded data removed]",
            "text/plain": [
              "<Figure size 720x720 with 1 Axes>"
            ]
          },
          "metadata": {
            "tags": [],
            "needs_background": "light"
          }
        }
      ]
    },
    {
      "cell_type": "markdown",
      "metadata": {
        "id": "9VONpXz-0gz0"
      },
      "source": [
        "Interestingly, '\"dynamic\" words and verbs like 'do', 'get', 'work', 'take', 'go' are associated to the word 'home'."
      ]
    },
    {
      "cell_type": "markdown",
      "metadata": {
        "id": "lb0rKN2ex3nk"
      },
      "source": [
        "## Introducing more articulated emotions\n",
        "\n",
        "When dealing with a pandemic event, the distinction of sentiment only based on 'positive', 'negative', or'neutral' sentiment may be restrictive. It might be interesting to investigate more articulated emotions of tweets, and in this section this kind of investigation will be performed.\n"
      ]
    },
    {
      "cell_type": "markdown",
      "metadata": {
        "id": "J3pRmRbAon8i"
      },
      "source": [
        "As in (Xue, J. et al, 2020), I adopted the NRC Lexycon to recognise the emotions in the tweets.\n",
        "\n",
        "NRCLex is a package trough which more articulated sentiments can be obtained. In particular, the emotions of:\n",
        "\n",
        "- Trust\n",
        "- Fear\n",
        "- Anticipation\n",
        "- Anger\n",
        "- Joy\n",
        "- Sadness\n",
        "- Disgust\n",
        "- Surprise\n",
        "\n",
        "are recognised and assigned a number from 0 to 1 based on the polarity of the emotion. There may be several emotions representing a tweet, with the sum of ther polarities being equal to 1."
      ]
    },
    {
      "cell_type": "markdown",
      "metadata": {
        "id": "5AcKpVIXobin"
      },
      "source": [
        "For covid analysis, 5 main periods have been identified. \n",
        "Their labels are, obviously, broad approximations of reality that don't take into account singular states/regions/continents situations. \n",
        "\n",
        "- 1/01/2020 - 29/02/2020  : initial period, news spreading\n",
        "- 1/03/2020 - 31/05/2020  : lockdown\n",
        "- 1/06/2020 - 30/09/2020  : rules/laws softening\n",
        "- 1/10/2020 - 31/01/2021  : new emergency\n",
        "- 1/02/2021 - 30/06/2021  : vaccine campaigns\n",
        "\n",
        "A sentiment analysis and a keywords analysis based on those 5 periods is performed in order to evaluate relevant differences. "
      ]
    },
    {
      "cell_type": "code",
      "metadata": {
        "id": "7iPwdVC7Bavh",
        "colab": {
          "base_uri": "https://localhost:8080/"
        },
        "outputId": "46b24dd7-f336-493e-fe81-6b26aac90263"
      },
      "source": [
        "!pip install NRCLex"
      ],
      "execution_count": 41,
      "outputs": [
        {
          "output_type": "stream",
          "text": [
            "Requirement already satisfied: NRCLex in /usr/local/lib/python3.7/dist-packages (3.0.0)\n",
            "Requirement already satisfied: textblob in /usr/local/lib/python3.7/dist-packages (from NRCLex) (0.15.3)\n",
            "Requirement already satisfied: nltk>=3.1 in /usr/local/lib/python3.7/dist-packages (from textblob->NRCLex) (3.2.5)\n",
            "Requirement already satisfied: six in /usr/local/lib/python3.7/dist-packages (from nltk>=3.1->textblob->NRCLex) (1.15.0)\n"
          ],
          "name": "stdout"
        }
      ]
    },
    {
      "cell_type": "code",
      "metadata": {
        "id": "vVcIo0ucyhNt",
        "colab": {
          "base_uri": "https://localhost:8080/"
        },
        "outputId": "f9b3e687-f09b-4855-fbf9-e1bd6c5dcc6c"
      },
      "source": [
        "from nrclex import NRCLex\n",
        "from collections import Counter\n",
        "nltk.download('punkt')\n",
        "from datetime import datetime"
      ],
      "execution_count": 42,
      "outputs": [
        {
          "output_type": "stream",
          "text": [
            "[nltk_data] Downloading package punkt to /root/nltk_data...\n",
            "[nltk_data]   Package punkt is already up-to-date!\n"
          ],
          "name": "stdout"
        }
      ]
    },
    {
      "cell_type": "markdown",
      "metadata": {
        "id": "jwu2saGhiCAC"
      },
      "source": [
        "Two functions have been created to retrieve the emotions for each tweet.\n",
        "\n",
        "- getEmotion( ) returns a dictionary where emotions and corresponding frequencies of each tweet are stored.\n",
        "\n",
        "- EmotionSummary( ) returns a dictionary with the overall sum of frequencies of each emotion.\n"
      ]
    },
    {
      "cell_type": "code",
      "metadata": {
        "id": "tgCIAI4kJqKm"
      },
      "source": [
        "def getEmotion(sentence):\n",
        "  emotion = NRCLex(sentence) \n",
        "  a_l = emotion.affect_frequencies\n",
        "  return a_l\n",
        "\n",
        "def EmotionSummary(list):\n",
        "  emotions = [getEmotion(i) for i in list]\n",
        "  c = Counter()\n",
        "  for d in emotions:\n",
        "    c.update(d)\n",
        "  c = dict(c)\n",
        "  c = dict(sorted(c.items(), key=lambda item: item[1], reverse=True))\n",
        "  c.pop('negative')   \n",
        "  c.pop('positive')\n",
        "  c.pop('anticip')\n",
        "  return c"
      ],
      "execution_count": 43,
      "outputs": []
    },
    {
      "cell_type": "code",
      "metadata": {
        "id": "FF7RxtMUni8N"
      },
      "source": [
        "df_c.date = pd.to_datetime(df_c.date)"
      ],
      "execution_count": 44,
      "outputs": []
    },
    {
      "cell_type": "code",
      "metadata": {
        "id": "5bBVC4lhBb9u"
      },
      "source": [
        "covid_p1 = df_c[df_c.date < datetime(2020,2,29)]\n",
        "emotion_sum1 = EmotionSummary(covid_p1.tweet)"
      ],
      "execution_count": 45,
      "outputs": []
    },
    {
      "cell_type": "code",
      "metadata": {
        "id": "6DNwT0TX5RTj"
      },
      "source": [
        "covid_p2 = df_c[df_c.date < datetime(2020,5,31)].drop(covid_p1.index)\n",
        "emotion_sum2 = EmotionSummary(covid_p2.tweet)"
      ],
      "execution_count": 46,
      "outputs": []
    },
    {
      "cell_type": "code",
      "metadata": {
        "id": "thfqSZTa6J-7"
      },
      "source": [
        "covid_p3 = df_c[df_c.date < datetime(2020,9,30)].drop(covid_p2.index).drop(covid_p1.index)\n",
        "emotion_sum3 = EmotionSummary(covid_p3.tweet)"
      ],
      "execution_count": 47,
      "outputs": []
    },
    {
      "cell_type": "code",
      "metadata": {
        "id": "Y6phcT106dTM"
      },
      "source": [
        "covid_p4 = df_c[df_c.date < datetime(2021,1,31)].drop(covid_p3.index).drop(covid_p2.index).drop(covid_p1.index)\n",
        "emotion_sum4 = EmotionSummary(covid_p4.tweet)"
      ],
      "execution_count": 48,
      "outputs": []
    },
    {
      "cell_type": "code",
      "metadata": {
        "id": "X6fC5nP16mFN"
      },
      "source": [
        "covid_p5 = df_c[df_c.date < datetime(2021,6,30)].drop(covid_p4.index).drop(covid_p3.index).drop(covid_p2.index).drop(covid_p1.index)\n",
        "emotion_sum5 = EmotionSummary(covid_p5.tweet)"
      ],
      "execution_count": 49,
      "outputs": []
    },
    {
      "cell_type": "code",
      "metadata": {
        "id": "cmdf0tsqS2TY",
        "colab": {
          "base_uri": "https://localhost:8080/",
          "height": 0
        },
        "outputId": "88501102-0a26-4e60-9ad2-8d1f26b274e2"
      },
      "source": [
        "a = pd.DataFrame({'period 1': emotion_sum1,\n",
        "             'period 2': emotion_sum2,\n",
        "             'period 3': emotion_sum3,\n",
        "             'period 4': emotion_sum4,\n",
        "             'period 5': emotion_sum5})\n",
        "a = a.transpose()\n",
        "a.plot.bar(figsize=(10,10), alpha = 0.7)\n",
        "plt.show()"
      ],
      "execution_count": 50,
      "outputs": [
        {
          "output_type": "display_data",
          "data": {
            "image/png": "[encoded data removed]",
            "text/plain": [
              "<Figure size 720x720 with 1 Axes>"
            ]
          },
          "metadata": {
            "tags": [],
            "needs_background": "light"
          }
        }
      ]
    },
    {
      "cell_type": "markdown",
      "metadata": {
        "id": "gvfOKGnDi9k9"
      },
      "source": [
        "There are not many differences among periods for what concerns prevalent emotions. \n",
        "\n",
        "trust, anticipation and fear are the most frequent ones.  "
      ]
    },
    {
      "cell_type": "code",
      "metadata": {
        "id": "TXp-yGhDlnPU",
        "colab": {
          "base_uri": "https://localhost:8080/"
        },
        "outputId": "7a63a5e9-101c-4164-ba16-d98835034e3b"
      },
      "source": [
        "a = [ covid_p1,covid_p2,covid_p3, covid_p4, covid_p5]\n",
        "\n",
        "p1_w2v = Word2Vec(covid_p1.tweets, min_count = 250)\n",
        "p1 = set(p1_w2v.wv.vocab)\n",
        "\n",
        "p2_w2v = Word2Vec(covid_p2.tweets, min_count = 600)\n",
        "p2 = set(p2_w2v.wv.vocab)\n",
        "\n",
        "p3_w2v = Word2Vec(covid_p3.tweets, min_count = 1000)\n",
        "p3 = set(p3_w2v.wv.vocab)\n",
        "\n",
        "p4_w2v = Word2Vec(covid_p4.tweets, min_count = 1000)\n",
        "p4 = set(p4_w2v.wv.vocab)\n",
        "\n",
        "p5_w2v = Word2Vec(covid_p5.tweets, min_count = 1000)\n",
        "p5 = set(p5_w2v.wv.vocab)\n",
        "\n",
        "\n",
        "p1.intersection(p2).intersection(p3).intersection(p4).intersection(p5)\n",
        "p1-p1.intersection(p2).intersection(p3).intersection(p4).intersection(p5)\n",
        "p2-p1.intersection(p2).intersection(p3).intersection(p4).intersection(p5)\n",
        "p3-p1.intersection(p2).intersection(p3).intersection(p4).intersection(p5)\n",
        "p4-p1.intersection(p2).intersection(p3).intersection(p4).intersection(p5)\n",
        "p5-p1.intersection(p2).intersection(p3).intersection(p4).intersection(p5)"
      ],
      "execution_count": 51,
      "outputs": [
        {
          "output_type": "execute_result",
          "data": {
            "text/plain": [
              "{'amp', 'cases', 'got', 'new', 'one', 'vaccine'}"
            ]
          },
          "metadata": {
            "tags": []
          },
          "execution_count": 51
        }
      ]
    },
    {
      "cell_type": "markdown",
      "metadata": {
        "id": "ZuiNcmNgqjAU"
      },
      "source": [
        "- common words to all the periods: \n",
        "\n",
        "        ('covid', 'covid-19', 'like', 'people')\n",
        "\n",
        "- mainly 1st period: \n",
        "\n",
        "        ('china', 'health', 'live', 'virus')\n",
        "\n",
        "- mainly 2nd and 3rd period:\n",
        "\n",
        "        ('amp','deaths', 'cases', 'new', 'trump')\n",
        "\n",
        "- mainly 4th and 5th period:\n",
        "\n",
        "        ('vaccine') \n",
        "\n",
        "\n",
        "\n",
        "\n"
      ]
    },
    {
      "cell_type": "markdown",
      "metadata": {
        "id": "9MLOmaKktqT0"
      },
      "source": [
        "## Download results"
      ]
    },
    {
      "cell_type": "markdown",
      "metadata": {
        "id": "B8iG4PbWVqv_"
      },
      "source": [
        "The resulting dataset is too heavy, therefore it has been cutted in half."
      ]
    },
    {
      "cell_type": "code",
      "metadata": {
        "id": "A4Of9r0wGuTw"
      },
      "source": [
        "df_c1 = df_c.loc[:][:len(df_c)//2]\n",
        "df_c2 = df_c.loc[:][len(df_c)//2:]\n",
        "df_c1.to_csv('df_c_ext1.csv')\n",
        "df_c1.to_csv('df_c_ext2.csv')\n",
        "df_c.to_csv('df_c_ext.csv')"
      ],
      "execution_count": 52,
      "outputs": []
    },
    {
      "cell_type": "markdown",
      "metadata": {
        "id": "gsQiP01WyuUS"
      },
      "source": [
        "## Final Remarks and Conclusion\n",
        "\n",
        "\n",
        "1.   Negative tweets are more common than positive ones.\n",
        "2.   Negative tweets are significantly longer than positive ones.\n",
        "3.   According to keywords analysis, negative tweets are mostly concerned with health, death and politics ('flu', 'pandemic', 'dead', 'event', 'trump', 'americans').\n",
        "4. According to keywords analysis, positive tweets are mostly concerned with altruistic sentiments ('help', 'need', 'love', 'care') \n",
        "5. Different periods associated to relevant real-life events may be identified. Such periods are characterised by different (despite very similar) intensities of emotions and different keyword usage. Full results are available in the section 'Introducing more articulated emotions'."
      ]
    },
    {
      "cell_type": "markdown",
      "metadata": {
        "id": "VjJILQo6wMAw"
      },
      "source": [
        "## References\n",
        "\n",
        "- Xue, J., Chen, J., Hu, R., Chen, C., Zheng, C., Su, Y., Zhu, T., *Twitter Discussions and Emotions About the COVID-19 Pandemic: Machine Learning Approach*, J Med Internet Res. 2020 Nov 25;22(11):e20550. doi: 10.2196/20550. PMID: 33119535; PMCID: PMC7690968. \n",
        "\n",
        "- Liang, H., Fung, I.CH., Tse, Z.T.H. et al., 2019, *How did Ebola information spread on twitter: broadcasting or viral spreading?*, BMC Public Health 19, 438 (2019). https://doi.org/10.1186/s12889-019-6747-8 \n",
        "\n",
        "- VanderPlas, J., 2016, *Python Data Science Handbook: Essential Tools for Working with Data*, O'Reilly. \n",
        "\n"
      ]
    }
  ]
}