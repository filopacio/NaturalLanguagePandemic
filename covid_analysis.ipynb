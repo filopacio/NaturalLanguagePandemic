{
  "nbformat": 4,
  "nbformat_minor": 0,
  "metadata": {
    "colab": {
      "name": "covid_analysis.ipynb",
      "provenance": [],
      "authorship_tag": "ABX9TyPzwE+1gBlTp9J9NZX44v0f",
      "include_colab_link": true
    },
    "kernelspec": {
      "name": "python3",
      "display_name": "Python 3"
    },
    "language_info": {
      "name": "python"
    }
  },
  "cells": [
    {
      "cell_type": "markdown",
      "metadata": {
        "id": "view-in-github",
        "colab_type": "text"
      },
      "source": [
        "<a href=\"https://colab.research.google.com/github/filopacio/_python_4_analytics_nlp_project/blob/main/covid_analysis.ipynb\" target=\"_parent\"><img src=\"https://colab.research.google.com/assets/colab-badge.svg\" alt=\"Open In Colab\"/></a>"
      ]
    },
    {
      "cell_type": "markdown",
      "metadata": {
        "id": "m0OgNDMvU7Ks"
      },
      "source": [
        "##Covid Analysis"
      ]
    },
    {
      "cell_type": "code",
      "metadata": {
        "colab": {
          "base_uri": "https://localhost:8080/"
        },
        "id": "ImM-NO9dxHdb",
        "outputId": "77d76b65-37bf-4154-c817-3209b993928b"
      },
      "source": [
        "#!pip install --user --upgrade git+https://github.com/twintproject/twint.git@origin/master#egg=twint\n",
        "!pip install -qq twint\n",
        "!pip install nest_asyncio\n",
        "!pip install text2emotion"
      ],
      "execution_count": null,
      "outputs": [
        {
          "output_type": "stream",
          "text": [
            "Requirement already satisfied: nest_asyncio in /usr/local/lib/python3.7/dist-packages (1.5.1)\n",
            "Requirement already satisfied: text2emotion in /usr/local/lib/python3.7/dist-packages (0.0.5)\n",
            "Requirement already satisfied: nltk in /usr/local/lib/python3.7/dist-packages (from text2emotion) (3.2.5)\n",
            "Requirement already satisfied: emoji>=0.6.0 in /usr/local/lib/python3.7/dist-packages (from text2emotion) (1.4.1)\n",
            "Requirement already satisfied: six in /usr/local/lib/python3.7/dist-packages (from nltk->text2emotion) (1.15.0)\n"
          ],
          "name": "stdout"
        }
      ]
    },
    {
      "cell_type": "code",
      "metadata": {
        "id": "XalsFxk_Ufs0"
      },
      "source": [
        "import pandas as pd\n",
        "import numpy as np\n",
        "import matplotlib.pyplot as plt\n",
        "import nest_asyncio\n",
        "import twint \n",
        "from matplotlib import pyplot as plt"
      ],
      "execution_count": null,
      "outputs": []
    },
    {
      "cell_type": "markdown",
      "metadata": {
        "id": "3mhjAPwzVAEE"
      },
      "source": [
        "## Scrape Tweets"
      ]
    },
    {
      "cell_type": "code",
      "metadata": {
        "id": "XdRcJEoSR_of"
      },
      "source": [
        "from datetime import datetime, timedelta"
      ],
      "execution_count": null,
      "outputs": []
    },
    {
      "cell_type": "code",
      "metadata": {
        "id": "dRV55VCSR88C"
      },
      "source": [
        "d0 = datetime(2020, 1, 1)\n",
        "d1 = datetime(2021, 6, 30)\n",
        "dt = timedelta(days = 4)\n",
        "dates = np.arange(d0, d1, dt).astype(datetime)\n",
        "\n",
        "df_c = pd.DataFrame()\n",
        "\n",
        "nest_asyncio.apply()\n",
        "for i in dates:\n",
        "  c = twint.Config()\n",
        "  c.Search = 'covid'\n",
        "  c.Until  = \"{}\".format(i)\n",
        "  c.Lang = \"en\"\n",
        "  c.Pandas = True\n",
        "  c.Limit = 1000\n",
        "  # Run\n",
        "  twint.run.Search(c)\n",
        "  df_c = df_c.append(twint.storage.panda.Tweets_df[['date', 'tweet','language' ,'username', 'nlikes', 'nretweets']])\n",
        "  df_c.date = pd.to_datetime(df_c.date)\n",
        "  df_c = df_c[df_c.language == 'en']\n",
        "  df_c = df_c[df_c.date >= datetime(2020,1,1)]\n",
        "  df_c.to_csv('df_c.csv')"
      ],
      "execution_count": null,
      "outputs": []
    },
    {
      "cell_type": "code",
      "metadata": {
        "id": "xnco_HI1fuQR"
      },
      "source": [
        "from google.colab import files"
      ],
      "execution_count": null,
      "outputs": []
    },
    {
      "cell_type": "code",
      "metadata": {
        "id": "CEDIp7CnI7BY",
        "colab": {
          "base_uri": "https://localhost:8080/",
          "height": 34
        },
        "outputId": "d02971cf-d99c-41ae-9e88-b0704e058e65"
      },
      "source": [
        "files.download(\"df_c.csv\")"
      ],
      "execution_count": null,
      "outputs": [
        {
          "output_type": "display_data",
          "data": {
            "application/javascript": [
              "\n",
              "    async function download(id, filename, size) {\n",
              "      if (!google.colab.kernel.accessAllowed) {\n",
              "        return;\n",
              "      }\n",
              "      const div = document.createElement('div');\n",
              "      const label = document.createElement('label');\n",
              "      label.textContent = `Downloading \"${filename}\": `;\n",
              "      div.appendChild(label);\n",
              "      const progress = document.createElement('progress');\n",
              "      progress.max = size;\n",
              "      div.appendChild(progress);\n",
              "      document.body.appendChild(div);\n",
              "\n",
              "      const buffers = [];\n",
              "      let downloaded = 0;\n",
              "\n",
              "      const channel = await google.colab.kernel.comms.open(id);\n",
              "      // Send a message to notify the kernel that we're ready.\n",
              "      channel.send({})\n",
              "\n",
              "      for await (const message of channel.messages) {\n",
              "        // Send a message to notify the kernel that we're ready.\n",
              "        channel.send({})\n",
              "        if (message.buffers) {\n",
              "          for (const buffer of message.buffers) {\n",
              "            buffers.push(buffer);\n",
              "            downloaded += buffer.byteLength;\n",
              "            progress.value = downloaded;\n",
              "          }\n",
              "        }\n",
              "      }\n",
              "      const blob = new Blob(buffers, {type: 'application/binary'});\n",
              "      const a = document.createElement('a');\n",
              "      a.href = window.URL.createObjectURL(blob);\n",
              "      a.download = filename;\n",
              "      div.appendChild(a);\n",
              "      a.click();\n",
              "      div.remove();\n",
              "    }\n",
              "  "
            ],
            "text/plain": [
              "<IPython.core.display.Javascript object>"
            ]
          },
          "metadata": {
            "tags": []
          }
        },
        {
          "output_type": "display_data",
          "data": {
            "application/javascript": [
              "download(\"download_47a3a16f-dddd-4889-aa98-a77ded05099c\", \"df_c.csv\", 1048576)"
            ],
            "text/plain": [
              "<IPython.core.display.Javascript object>"
            ]
          },
          "metadata": {
            "tags": []
          }
        }
      ]
    },
    {
      "cell_type": "markdown",
      "metadata": {
        "id": "_tmW3GGuU3eV"
      },
      "source": [
        "## Upload dataset"
      ]
    },
    {
      "cell_type": "code",
      "metadata": {
        "id": "woLcX5hZSPvM"
      },
      "source": [
        "import csv"
      ],
      "execution_count": null,
      "outputs": []
    },
    {
      "cell_type": "code",
      "metadata": {
        "id": "7f2itWt2zVs6"
      },
      "source": [
        "with open('df_c.csv') as c:\n",
        "    reader = csv.reader(c)\n",
        "    l_c = list(reader)\n",
        "\n",
        "df_c = pd.DataFrame(l_c, columns = ['','date', 'tweet','language' ,'username', 'nlikes', 'nretweets'])[1:].dropna().reset_index()"
      ],
      "execution_count": null,
      "outputs": []
    },
    {
      "cell_type": "code",
      "metadata": {
        "id": "LFqKKhWkSVdR"
      },
      "source": [
        "df_c.head()"
      ],
      "execution_count": null,
      "outputs": []
    },
    {
      "cell_type": "markdown",
      "metadata": {
        "id": "eAKpLehsSZCK"
      },
      "source": [
        ""
      ]
    },
    {
      "cell_type": "markdown",
      "metadata": {
        "id": "1UGDBqd2SY_v"
      },
      "source": [
        ""
      ]
    },
    {
      "cell_type": "markdown",
      "metadata": {
        "id": "t1UseOKjrAEk"
      },
      "source": [
        "## Preprocessing\n"
      ]
    },
    {
      "cell_type": "code",
      "metadata": {
        "colab": {
          "base_uri": "https://localhost:8080/"
        },
        "id": "4pF9lYG2Kq45",
        "outputId": "9b509b99-fbbb-42f5-de73-3e121110763d"
      },
      "source": [
        "import re\n",
        "import string\n",
        "import nltk\n",
        "from nltk.corpus import stopwords\n",
        "from itertools import chain\n",
        "from nltk.stem.porter import PorterStemmer \n",
        "from nltk.stem.snowball import SnowballStemmer\n",
        "from nltk.stem.wordnet import WordNetLemmatizer\n",
        "nltk.download('stopwords')\n",
        "nltk.download('wordnet')\n",
        "from sklearn.feature_extraction.text import CountVectorizer"
      ],
      "execution_count": null,
      "outputs": [
        {
          "output_type": "stream",
          "text": [
            "[nltk_data] Downloading package stopwords to /root/nltk_data...\n",
            "[nltk_data]   Package stopwords is already up-to-date!\n",
            "[nltk_data] Downloading package wordnet to /root/nltk_data...\n",
            "[nltk_data]   Package wordnet is already up-to-date!\n"
          ],
          "name": "stdout"
        }
      ]
    },
    {
      "cell_type": "markdown",
      "metadata": {
        "id": "9e0GDIT3kXBY"
      },
      "source": [
        "**Text Cleaning**"
      ]
    },
    {
      "cell_type": "markdown",
      "metadata": {
        "id": "AyYPYkOVlsz7"
      },
      "source": [
        "I created the clean_text function in order to clean the tweets from noisy characters. \n",
        "\n",
        "items removed: \n",
        "- links\n",
        "- punctuations/special characters \n",
        "- emoticons\n",
        "\n",
        "Before doing so I also put all the texts in lower case.\n",
        "I did not remove alphanumeric words to avoid eliminating words like covid19, covid-19 etc."
      ]
    },
    {
      "cell_type": "code",
      "metadata": {
        "id": "Q_iIFdxEpeWV"
      },
      "source": [
        "def clean_text(text):\n",
        "    text = str(text).lower()\n",
        "    text = re.sub('https://\\S+|www\\.\\S', '', text)      # remove link\n",
        "    text = re.sub(\"['!@#$%^&*()_+<>?:.,;]\" , '', text)  # punctuations/special characters\n",
        "    text = re.sub(re.compile(\"[\"                        # emoticon\n",
        "        u\"\\U0001F600-\\U0001F64F\"  \n",
        "        u\"\\U0001F300-\\U0001F5FF\"  \n",
        "        u\"\\U0001F680-\\U0001F6FF\"  \n",
        "        u\"\\U0001F1E0-\\U0001F1FF\"  \n",
        "        u\"\\U00002702-\\U000027B0\"\n",
        "        u\"\\U000024C2-\\U0001F251\"\n",
        "        u\"\\U0001f926-\\U0001f937\"\n",
        "        u'\\U00010000-\\U0010ffff'\n",
        "        u\"\\u200d\"\n",
        "        u\"\\u2640-\\u2642\"\n",
        "        u\"\\u2600-\\u2B55\"\n",
        "        u\"\\u23cf\"\n",
        "        u\"\\u23e9\"\n",
        "        u\"\\u231a\"\n",
        "        u\"\\u3030\"\n",
        "        u\"\\ufe0f\"\n",
        "                           \"]+\", flags=re.UNICODE), '', text)\n",
        "    return text"
      ],
      "execution_count": null,
      "outputs": []
    },
    {
      "cell_type": "markdown",
      "metadata": {
        "id": "YkCr0_NDhG36"
      },
      "source": [
        "After being cleaned, each tweet is splitted into single words. \n",
        "Therefore, 'words' is a list of lists, where each element is a list of separated strings. \n",
        "Now, other pre-processing actions will be performed. "
      ]
    },
    {
      "cell_type": "markdown",
      "metadata": {
        "id": "zA_GSavhiE-C"
      },
      "source": [
        "**Stopwords removal**"
      ]
    },
    {
      "cell_type": "markdown",
      "metadata": {
        "id": "9J3IT00vn8MF"
      },
      "source": [
        "What is considered a stopword can be found in the set  below. Such list belongs to the package nltk. "
      ]
    },
    {
      "cell_type": "code",
      "metadata": {
        "colab": {
          "base_uri": "https://localhost:8080/"
        },
        "id": "cg6rJ4TSAFfJ",
        "outputId": "838d1178-6988-4680-fb22-f7f33f738a8a"
      },
      "source": [
        "stopwords = set(stopwords.words('english')) \n",
        "stopwords"
      ],
      "execution_count": null,
      "outputs": [
        {
          "output_type": "execute_result",
          "data": {
            "text/plain": [
              "{'a',\n",
              " 'about',\n",
              " 'above',\n",
              " 'after',\n",
              " 'again',\n",
              " 'against',\n",
              " 'ain',\n",
              " 'all',\n",
              " 'am',\n",
              " 'an',\n",
              " 'and',\n",
              " 'any',\n",
              " 'are',\n",
              " 'aren',\n",
              " \"aren't\",\n",
              " 'as',\n",
              " 'at',\n",
              " 'be',\n",
              " 'because',\n",
              " 'been',\n",
              " 'before',\n",
              " 'being',\n",
              " 'below',\n",
              " 'between',\n",
              " 'both',\n",
              " 'but',\n",
              " 'by',\n",
              " 'can',\n",
              " 'couldn',\n",
              " \"couldn't\",\n",
              " 'd',\n",
              " 'did',\n",
              " 'didn',\n",
              " \"didn't\",\n",
              " 'do',\n",
              " 'does',\n",
              " 'doesn',\n",
              " \"doesn't\",\n",
              " 'doing',\n",
              " 'don',\n",
              " \"don't\",\n",
              " 'down',\n",
              " 'during',\n",
              " 'each',\n",
              " 'few',\n",
              " 'for',\n",
              " 'from',\n",
              " 'further',\n",
              " 'had',\n",
              " 'hadn',\n",
              " \"hadn't\",\n",
              " 'has',\n",
              " 'hasn',\n",
              " \"hasn't\",\n",
              " 'have',\n",
              " 'haven',\n",
              " \"haven't\",\n",
              " 'having',\n",
              " 'he',\n",
              " 'her',\n",
              " 'here',\n",
              " 'hers',\n",
              " 'herself',\n",
              " 'him',\n",
              " 'himself',\n",
              " 'his',\n",
              " 'how',\n",
              " 'i',\n",
              " 'if',\n",
              " 'in',\n",
              " 'into',\n",
              " 'is',\n",
              " 'isn',\n",
              " \"isn't\",\n",
              " 'it',\n",
              " \"it's\",\n",
              " 'its',\n",
              " 'itself',\n",
              " 'just',\n",
              " 'll',\n",
              " 'm',\n",
              " 'ma',\n",
              " 'me',\n",
              " 'mightn',\n",
              " \"mightn't\",\n",
              " 'more',\n",
              " 'most',\n",
              " 'mustn',\n",
              " \"mustn't\",\n",
              " 'my',\n",
              " 'myself',\n",
              " 'needn',\n",
              " \"needn't\",\n",
              " 'no',\n",
              " 'nor',\n",
              " 'not',\n",
              " 'now',\n",
              " 'o',\n",
              " 'of',\n",
              " 'off',\n",
              " 'on',\n",
              " 'once',\n",
              " 'only',\n",
              " 'or',\n",
              " 'other',\n",
              " 'our',\n",
              " 'ours',\n",
              " 'ourselves',\n",
              " 'out',\n",
              " 'over',\n",
              " 'own',\n",
              " 're',\n",
              " 's',\n",
              " 'same',\n",
              " 'shan',\n",
              " \"shan't\",\n",
              " 'she',\n",
              " \"she's\",\n",
              " 'should',\n",
              " \"should've\",\n",
              " 'shouldn',\n",
              " \"shouldn't\",\n",
              " 'so',\n",
              " 'some',\n",
              " 'such',\n",
              " 't',\n",
              " 'than',\n",
              " 'that',\n",
              " \"that'll\",\n",
              " 'the',\n",
              " 'their',\n",
              " 'theirs',\n",
              " 'them',\n",
              " 'themselves',\n",
              " 'then',\n",
              " 'there',\n",
              " 'these',\n",
              " 'they',\n",
              " 'this',\n",
              " 'those',\n",
              " 'through',\n",
              " 'to',\n",
              " 'too',\n",
              " 'under',\n",
              " 'until',\n",
              " 'up',\n",
              " 've',\n",
              " 'very',\n",
              " 'was',\n",
              " 'wasn',\n",
              " \"wasn't\",\n",
              " 'we',\n",
              " 'were',\n",
              " 'weren',\n",
              " \"weren't\",\n",
              " 'what',\n",
              " 'when',\n",
              " 'where',\n",
              " 'which',\n",
              " 'while',\n",
              " 'who',\n",
              " 'whom',\n",
              " 'why',\n",
              " 'will',\n",
              " 'with',\n",
              " 'won',\n",
              " \"won't\",\n",
              " 'wouldn',\n",
              " \"wouldn't\",\n",
              " 'y',\n",
              " 'you',\n",
              " \"you'd\",\n",
              " \"you'll\",\n",
              " \"you're\",\n",
              " \"you've\",\n",
              " 'your',\n",
              " 'yours',\n",
              " 'yourself',\n",
              " 'yourselves'}"
            ]
          },
          "metadata": {
            "tags": []
          },
          "execution_count": 191
        }
      ]
    },
    {
      "cell_type": "code",
      "metadata": {
        "id": "14eVWcYLqIyQ"
      },
      "source": [
        "def remove_stopwords(text):\n",
        "    stop = set(stopwords.words('english'))  \n",
        "    stop.add('im')\n",
        "    stop.add(\"i'm\")\n",
        "    stop.add('could')\n",
        "    stop.add('go')\n",
        "    stop.add('it')\n",
        "    stop.add('get')\n",
        "   # not present in the original set but very recurrent words\n",
        "    text = [[i for i in i.split() if i not in stop] for i in text]\n",
        "    return  text"
      ],
      "execution_count": null,
      "outputs": []
    },
    {
      "cell_type": "markdown",
      "metadata": {
        "id": "P1x7WR0InIe_"
      },
      "source": [
        "**Lemmatization**"
      ]
    },
    {
      "cell_type": "code",
      "metadata": {
        "id": "oPL8XiEMm1rn"
      },
      "source": [
        "def lemmatize(text):\n",
        "    lem = WordNetLemmatizer()\n",
        "    corpus = [[lem.lemmatize(i, pos = 'v') for i in i] for i in text]\n",
        "    return text"
      ],
      "execution_count": null,
      "outputs": []
    },
    {
      "cell_type": "markdown",
      "metadata": {
        "id": "rX8c2HLdnLtT"
      },
      "source": [
        "**Stemming**"
      ]
    },
    {
      "cell_type": "code",
      "metadata": {
        "id": "EpMKYYT0m_ot"
      },
      "source": [
        "def sb_stem(text):\n",
        "   stemmer = SnowballStemmer(language = 'english')\n",
        "   text = [stemmer.stem(i) for i in text]\n",
        "   return text"
      ],
      "execution_count": null,
      "outputs": []
    },
    {
      "cell_type": "code",
      "metadata": {
        "id": "IEI2i-x7GI8G"
      },
      "source": [
        "def p_stem(text):\n",
        "   stemmer = PorterStemmer()\n",
        "   text = [stemmer.stem(i) for i in text]\n",
        "   return text"
      ],
      "execution_count": null,
      "outputs": []
    },
    {
      "cell_type": "markdown",
      "metadata": {
        "id": "seMjN-nK-E2c"
      },
      "source": [
        "**Final outcome of preprocessing**"
      ]
    },
    {
      "cell_type": "code",
      "metadata": {
        "id": "hWEoecHO7MbZ"
      },
      "source": [
        "def preprocess(text):\n",
        "  cl_tweets = [clean_text(c) for c in text]\n",
        "  cl_tweets = pd.Series(cl_tweets).astype(str)\n",
        "  removed = remove_stopwords(cl_tweets) \n",
        "  lemmatized = [lemmatize(i) for i in removed]\n",
        "  #stemmed = [p_stem(i) for i in lemmatized]\n",
        "  return lemmatized #stemmed"
      ],
      "execution_count": null,
      "outputs": []
    },
    {
      "cell_type": "code",
      "metadata": {
        "id": "eJCn4zhdqCVA"
      },
      "source": [
        "from nltk.corpus import stopwords"
      ],
      "execution_count": null,
      "outputs": []
    },
    {
      "cell_type": "code",
      "metadata": {
        "id": "30o012UM046c"
      },
      "source": [
        "df_c['tweets'] = preprocess(df_c.tweet)"
      ],
      "execution_count": null,
      "outputs": []
    },
    {
      "cell_type": "code",
      "metadata": {
        "id": "mItYdpcXgLKN"
      },
      "source": [
        "df_e['tweets'] = preprocess(df_e.tweet)"
      ],
      "execution_count": null,
      "outputs": []
    },
    {
      "cell_type": "markdown",
      "metadata": {
        "id": "K8nq8h7tUCPI"
      },
      "source": [
        "## Sentiment Labelling"
      ]
    },
    {
      "cell_type": "code",
      "metadata": {
        "id": "iAjEGp2TSWCC"
      },
      "source": [
        "import nltk\n",
        "nltk.download('vader_lexicon')\n",
        "from nltk.sentiment.vader import SentimentIntensityAnalyzer"
      ],
      "execution_count": null,
      "outputs": []
    },
    {
      "cell_type": "code",
      "metadata": {
        "id": "x9ouIYZ4SbXG"
      },
      "source": [
        "sent_analyzer = SentimentIntensityAnalyzer()"
      ],
      "execution_count": null,
      "outputs": []
    },
    {
      "cell_type": "code",
      "metadata": {
        "id": "rPqUqssBSesS"
      },
      "source": [
        "df_c['polarity'] = [i.get('compound') for i in c]"
      ],
      "execution_count": null,
      "outputs": []
    },
    {
      "cell_type": "code",
      "metadata": {
        "id": "W3e-PqyJSg63"
      },
      "source": [
        ""
      ],
      "execution_count": null,
      "outputs": []
    },
    {
      "cell_type": "code",
      "metadata": {
        "id": "mKqg0ZF5AQtS"
      },
      "source": [
        "df_c['sentiment'] = np.repeat(1,len(df_c))\n",
        "for i in range(len(df_c)):\n",
        "   if df_c.polarity[i] > 1/3:\n",
        "     df_c['sentiment'].loc[i] = 'positive'\n",
        "   elif df_c.polarity[i] < -1/3:\n",
        "        df_c['sentiment'].loc[i] = 'negative'\n",
        "   else:\n",
        "        df_c['sentiment'].loc[i] = 'neutral'"
      ],
      "execution_count": null,
      "outputs": []
    },
    {
      "cell_type": "code",
      "metadata": {
        "id": "DMwH4njNSpkA"
      },
      "source": [
        "df_c.sentiment"
      ],
      "execution_count": null,
      "outputs": []
    },
    {
      "cell_type": "code",
      "metadata": {
        "id": "IIN4ME8CSqXZ"
      },
      "source": [
        "plt.hist(df_c.sentiment)\n",
        "plt.show()"
      ],
      "execution_count": null,
      "outputs": []
    },
    {
      "cell_type": "code",
      "metadata": {
        "id": "4oRtcHrXSvK4"
      },
      "source": [
        "sen = list(np.repeat(1,len(df_c)))\n",
        "for i in range(len(df_c)):\n",
        "   if df_c.polarity[i] > 0:\n",
        "     sen[i] = 'positive'\n",
        "   else:\n",
        "    sen[i] = 'negative'"
      ],
      "execution_count": null,
      "outputs": []
    },
    {
      "cell_type": "code",
      "metadata": {
        "id": "va8KelIXSvGC"
      },
      "source": [
        "plt.hist(sen)\n",
        "plt.show()"
      ],
      "execution_count": null,
      "outputs": []
    },
    {
      "cell_type": "markdown",
      "metadata": {
        "id": "ndBAbB6vgGB8"
      },
      "source": [
        "## Analysis of keywords"
      ]
    },
    {
      "cell_type": "markdown",
      "metadata": {
        "id": "xCVYQObOPVLq"
      },
      "source": [
        "Let us now create an even more polarized situation.\n",
        "\n",
        "Let's take only the most polarized positive and  negative tweets in order to find (if any) differences and similarities in the use of most common words between very positive and very negative tweets."
      ]
    },
    {
      "cell_type": "code",
      "metadata": {
        "id": "hYKJUjsjPvu8"
      },
      "source": [
        "df_c['polarized_sen'] = np.repeat(1,len(df_c))\n",
        "for i in range(len(df_c)):\n",
        "   if df_c.polarity[i] > 0.5:\n",
        "     df_c['polarized_sen'].loc[i] = 'positive'\n",
        "   elif df_c.polarity[i] < -0.5:\n",
        "        df_c['polarized_sen'].loc[i] = 'negative'\n",
        "   else:\n",
        "        df_c['polarized_sen'].loc[i] = 'neutral'"
      ],
      "execution_count": null,
      "outputs": []
    },
    {
      "cell_type": "code",
      "metadata": {
        "id": "PYk6clB4P4Hv"
      },
      "source": [
        "df_c_neg = df_c[df_c.polarized_sen == 'negative'].reset_index()\n",
        "df_c_pos = df_c[df_c.polarized_sen == 'positive'].reset_index()   "
      ],
      "execution_count": null,
      "outputs": []
    },
    {
      "cell_type": "code",
      "metadata": {
        "id": "iefUHq-2XtpP"
      },
      "source": [
        "from gensim.models import Word2Vec"
      ],
      "execution_count": null,
      "outputs": []
    },
    {
      "cell_type": "code",
      "metadata": {
        "id": "629Vbwf_QT7Y"
      },
      "source": [
        "neg_w2v = Word2Vec(df_c_neg.tweets, min_count = 600)"
      ],
      "execution_count": null,
      "outputs": []
    },
    {
      "cell_type": "code",
      "metadata": {
        "id": "az6-7d-EQY86"
      },
      "source": [
        "pos_w2v = Word2Vec(df_c_pos.tweets, min_count= 600)"
      ],
      "execution_count": null,
      "outputs": []
    },
    {
      "cell_type": "code",
      "metadata": {
        "id": "Gbqk4VxAQbv5"
      },
      "source": [
        "n = set(list(neg_w2v.wv.vocab))\n",
        "p = set(list(pos_w2v.wv.vocab))\n",
        "\n",
        "common_elements = n.intersection(p) "
      ],
      "execution_count": null,
      "outputs": []
    },
    {
      "cell_type": "code",
      "metadata": {
        "id": "gBlEsMXSQfUk"
      },
      "source": [
        "covid_common_neg = n - n.intersection(p)"
      ],
      "execution_count": null,
      "outputs": []
    },
    {
      "cell_type": "code",
      "metadata": {
        "id": "fhEUwVS1QhVa"
      },
      "source": [
        "covid_common_pos = p - n.intersection(p)"
      ],
      "execution_count": null,
      "outputs": []
    },
    {
      "cell_type": "code",
      "metadata": {
        "id": "QUciEH6oVR1-"
      },
      "source": [
        "from matplotlib_venn import venn2"
      ],
      "execution_count": null,
      "outputs": []
    },
    {
      "cell_type": "code",
      "metadata": {
        "colab": {
          "base_uri": "https://localhost:8080/",
          "height": 485
        },
        "id": "ay0wmY6ZVQG0",
        "outputId": "e90fa50f-9aad-42d0-a3f6-51d5dc7a2397"
      },
      "source": [
        "set1 = n\n",
        "set2 = p\n",
        "\n",
        "set_covid = n.union(p)\n",
        "\n",
        "plt.figure(figsize=(10, 10))\n",
        "venn = venn2([set1, set2], ('Negative', 'Positive'))\n",
        "venn.get_label_by_id('100').set_text('\\n'.join(set1-set2))\n",
        "venn.get_label_by_id('110').set_text('\\n'.join(set1&set2))\n",
        "venn.get_label_by_id('010').set_text('\\n'.join(set2-set1))\n",
        "plt.title('Covid Words Sentiment')\n",
        "plt.show()"
      ],
      "execution_count": null,
      "outputs": [
        {
          "output_type": "display_data",
          "data": {
            "image/png": "[encoded data removed]",
            "text/plain": [
              "<Figure size 720x720 with 1 Axes>"
            ]
          },
          "metadata": {
            "tags": []
          }
        }
      ]
    },
    {
      "cell_type": "markdown",
      "metadata": {
        "id": "F4tCXVeaZVi8"
      },
      "source": [
        "With word2vec() the most common words inside the two polarized opposite sets are obtained. The results can be seen in the Venn Diagram above. Death and disease are the most incumbent topics (and interestingly also Trump) for the negative side while in the positive side there's a general sense of altruistic sentiment ('care', 'help', 'need', 'thank','please','love' etc.)."
      ]
    },
    {
      "cell_type": "markdown",
      "metadata": {
        "id": "WIgeC2hFbHsL"
      },
      "source": [
        "Also, it might be interesting to explore the overall difference in length between positive and negative tweets."
      ]
    },
    {
      "cell_type": "code",
      "metadata": {
        "colab": {
          "base_uri": "https://localhost:8080/",
          "height": 268
        },
        "id": "LetKYID1W56u",
        "outputId": "6dcd0d8f-a644-4b4d-d4d7-46e5d0681071"
      },
      "source": [
        "df_c_neg['length'] = [len(i) for i in df_c_neg.tweet]\n",
        "df_c_pos['length'] = [len(i) for i in df_c_pos.tweet]\n",
        "\n",
        "plt.hist(df_c_pos.length, label = 'length positive',alpha = 0.5)\n",
        "plt.hist(df_c_neg.length, label = 'length negative', alpha = 0.5)\n",
        "plt.legend(loc='upper right')\n",
        "plt.show()"
      ],
      "execution_count": null,
      "outputs": [
        {
          "output_type": "display_data",
          "data": {
            "image/png": "[encoded data removed]",
            "text/plain": [
              "<Figure size 432x288 with 1 Axes>"
            ]
          },
          "metadata": {
            "tags": [],
            "needs_background": "light"
          }
        }
      ]
    },
    {
      "cell_type": "code",
      "metadata": {
        "id": "na73LfTLG14P"
      },
      "source": [
        "import wordcloud"
      ],
      "execution_count": null,
      "outputs": []
    },
    {
      "cell_type": "code",
      "metadata": {
        "id": "SsyRWQc0Hsb3",
        "colab": {
          "base_uri": "https://localhost:8080/",
          "height": 327
        },
        "outputId": "fb76c72b-700f-4755-e559-dfd1fa31c4bd"
      },
      "source": [
        "wc = wordcloud.WordCloud(background_color='black', max_words=100, \n",
        "                         max_font_size=50, stopwords = ['dict_keys','-'])\n",
        "wc = wc.generate(str(\",\".join(set_covid)))\n",
        "plt.figure(figsize=(10, 10))\n",
        "plt.axis('off')\n",
        "plt.imshow(wc)\n",
        "plt.show()"
      ],
      "execution_count": null,
      "outputs": [
        {
          "output_type": "display_data",
          "data": {
            "text/plain": [
              "<Figure size 432x288 with 0 Axes>"
            ]
          },
          "metadata": {
            "tags": []
          }
        },
        {
          "output_type": "display_data",
          "data": {
            "image/png": "[encoded data removed]",
            "text/plain": [
              "<Figure size 720x720 with 1 Axes>"
            ]
          },
          "metadata": {
            "tags": [],
            "needs_background": "light"
          }
        }
      ]
    },
    {
      "cell_type": "markdown",
      "metadata": {
        "id": "kRW-8HRtk1Sg"
      },
      "source": [
        "**Word Embedding**"
      ]
    },
    {
      "cell_type": "markdown",
      "metadata": {
        "id": "6HPJ1Vxf3c3x"
      },
      "source": [
        "Word Embedding through a Principal Component Analysis model"
      ]
    },
    {
      "cell_type": "code",
      "metadata": {
        "id": "VziOtDAMksKL"
      },
      "source": [
        "from sklearn.decomposition import PCA\n",
        "import matplotlib.pyplot as plt"
      ],
      "execution_count": null,
      "outputs": []
    },
    {
      "cell_type": "code",
      "metadata": {
        "id": "z-5O7qM1N_4m"
      },
      "source": [
        "covid_w2v = Word2Vec(df_c.tweets, min_count = 1500)"
      ],
      "execution_count": null,
      "outputs": []
    },
    {
      "cell_type": "code",
      "metadata": {
        "colab": {
          "base_uri": "https://localhost:8080/",
          "height": 646
        },
        "id": "5ic3V9uXh0vB",
        "outputId": "ad2c1d3d-df5e-4a0e-9b7d-ab068440aef6"
      },
      "source": [
        "X = covid_w2v[covid_w2v.wv.vocab]\n",
        "pca = PCA(n_components=2)\n",
        "result = pca.fit_transform(X)\n",
        "plt.figure(figsize=(10, 10))\n",
        "plt.scatter(result[:,0], result[:,1])\n",
        "words = list(covid_w2v.wv.vocab)\n",
        "for i, word in enumerate(words):\n",
        "\tplt.annotate(word, xy=(result[i,0], result[i,1]))\n",
        "plt.show()"
      ],
      "execution_count": null,
      "outputs": [
        {
          "output_type": "stream",
          "text": [
            "/usr/local/lib/python3.7/dist-packages/ipykernel_launcher.py:1: DeprecationWarning: Call to deprecated `__getitem__` (Method will be removed in 4.0.0, use self.wv.__getitem__() instead).\n",
            "  \"\"\"Entry point for launching an IPython kernel.\n"
          ],
          "name": "stderr"
        },
        {
          "output_type": "display_data",
          "data": {
            "image/png": "[encoded data removed]",
            "text/plain": [
              "<Figure size 720x720 with 1 Axes>"
            ]
          },
          "metadata": {
            "tags": [],
            "needs_background": "light"
          }
        }
      ]
    },
    {
      "cell_type": "markdown",
      "metadata": {
        "id": "lb0rKN2ex3nk"
      },
      "source": [
        "## Introducing more articulated emotions\n",
        "\n",
        "When dealing with a pandemic event, the distinction of sentiment only based on 'positive', 'negative', or'neutral' sentiment may be restrictive. It might be interesting to investigate more articulated emotions of tweets, and in this section this kind of investigation will be performed.\n"
      ]
    },
    {
      "cell_type": "markdown",
      "metadata": {
        "id": "J3pRmRbAon8i"
      },
      "source": [
        "NRLLex is a package trough which more articulated sentiments can be obtained. In particular, the emotions of:\n",
        "\n",
        "- Trust\n",
        "- Fear\n",
        "- Anticipation\n",
        "- Anger\n",
        "- Joy\n",
        "- Sadness\n",
        "- Disgust\n",
        "- Surprise\n",
        "\n",
        "are recognised and assigned a number from 0 to 1 based on the polarity of the emotion. There may be several emotions representing a tweet, with the sum of ther polarities being equal to 1."
      ]
    },
    {
      "cell_type": "markdown",
      "metadata": {
        "id": "5AcKpVIXobin"
      },
      "source": [
        "For covid analysis, 5 main periods have been identified. \n",
        "Their labels are, obviously, broad approximations of reality that don't take into account singular states/regions/continents situations. \n",
        "\n",
        "- 1/01/2020 - 29/02/2020  : initial period, news spreading\n",
        "- 1/03/2020 - 31/05/2020  : lockdown\n",
        "- 1/06/2020 - 30/09/2020  : rules/laws softening\n",
        "- 1/10/2020 - 31/01/2021  : new emergency\n",
        "- 1/02/2021 - 30/06/2021  : vaccine campaigns\n",
        "\n",
        "A sentiment analysis and a keywords analysis based on those 5 periods is performed in order to evaluate relevant differences. "
      ]
    },
    {
      "cell_type": "code",
      "metadata": {
        "id": "7iPwdVC7Bavh",
        "colab": {
          "base_uri": "https://localhost:8080/"
        },
        "outputId": "fe1deb16-ad3e-4aee-9c55-5c08d06425c0"
      },
      "source": [
        "!pip install NRCLex"
      ],
      "execution_count": null,
      "outputs": [
        {
          "output_type": "stream",
          "text": [
            "Requirement already satisfied: NRCLex in /usr/local/lib/python3.7/dist-packages (3.0.0)\n",
            "Requirement already satisfied: textblob in /usr/local/lib/python3.7/dist-packages (from NRCLex) (0.15.3)\n",
            "Requirement already satisfied: nltk>=3.1 in /usr/local/lib/python3.7/dist-packages (from textblob->NRCLex) (3.2.5)\n",
            "Requirement already satisfied: six in /usr/local/lib/python3.7/dist-packages (from nltk>=3.1->textblob->NRCLex) (1.15.0)\n"
          ],
          "name": "stdout"
        }
      ]
    },
    {
      "cell_type": "code",
      "metadata": {
        "id": "vVcIo0ucyhNt",
        "colab": {
          "base_uri": "https://localhost:8080/"
        },
        "outputId": "7ae6d2d7-5a7c-41f9-b758-c592ae4c8f57"
      },
      "source": [
        "from nrclex import NRCLex\n",
        "from collections import Counter\n",
        "nltk.download('punkt')\n",
        "from datetime import datetime"
      ],
      "execution_count": null,
      "outputs": [
        {
          "output_type": "stream",
          "text": [
            "[nltk_data] Downloading package punkt to /root/nltk_data...\n",
            "[nltk_data]   Package punkt is already up-to-date!\n"
          ],
          "name": "stdout"
        }
      ]
    },
    {
      "cell_type": "markdown",
      "metadata": {
        "id": "pixwpt9noOeg"
      },
      "source": [
        "**Covid**"
      ]
    },
    {
      "cell_type": "markdown",
      "metadata": {
        "id": "jwu2saGhiCAC"
      },
      "source": [
        "Two functions have been created to retrieve the emotions for each tweet.\n",
        "\n",
        "- getEmotion( ) returns a dictionary where emotions and corresponding frequencies of each tweet are stored.\n",
        "\n",
        "- EmotionSummary( ) returns a dictionary with the overall sum of frequencies of each emotion.\n"
      ]
    },
    {
      "cell_type": "code",
      "metadata": {
        "id": "tgCIAI4kJqKm"
      },
      "source": [
        "def getEmotion(sentence):\n",
        "  emotion = NRCLex(sentence) \n",
        "  a_l = emotion.affect_frequencies\n",
        "  return a_l\n",
        "\n",
        "def EmotionSummary(list):\n",
        "  emotions = [getEmotion(i) for i in list]\n",
        "  c = Counter()\n",
        "  for d in emotions:\n",
        "    c.update(d)\n",
        "  c = dict(c)\n",
        "  c = dict(sorted(c.items(), key=lambda item: item[1], reverse=True))\n",
        "  c.pop('negative')   \n",
        "  c.pop('positive')\n",
        "  c.pop('anticip')\n",
        "  return c"
      ],
      "execution_count": null,
      "outputs": []
    },
    {
      "cell_type": "code",
      "metadata": {
        "id": "FF7RxtMUni8N"
      },
      "source": [
        "df_c.date = pd.to_datetime(df_c.date)"
      ],
      "execution_count": null,
      "outputs": []
    },
    {
      "cell_type": "code",
      "metadata": {
        "id": "5bBVC4lhBb9u"
      },
      "source": [
        "covid_p1 = df_c[df_c.date < datetime(2020,2,29)]\n",
        "emotion_sum1 = EmotionSummary(covid_p1.tweet)"
      ],
      "execution_count": null,
      "outputs": []
    },
    {
      "cell_type": "code",
      "metadata": {
        "id": "6DNwT0TX5RTj"
      },
      "source": [
        "covid_p2 = df_c[df_c.date < datetime(2020,5,31)].drop(covid_p1.index)\n",
        "emotion_sum2 = EmotionSummary(covid_p2.tweet)"
      ],
      "execution_count": null,
      "outputs": []
    },
    {
      "cell_type": "code",
      "metadata": {
        "id": "thfqSZTa6J-7"
      },
      "source": [
        "covid_p3 = df_c[df_c.date < datetime(2020,9,30)].drop(covid_p2.index).drop(covid_p1.index)\n",
        "emotion_sum3 = EmotionSummary(covid_p3.tweet)"
      ],
      "execution_count": null,
      "outputs": []
    },
    {
      "cell_type": "code",
      "metadata": {
        "id": "Y6phcT106dTM"
      },
      "source": [
        "covid_p4 = df_c[df_c.date < datetime(2021,1,31)].drop(covid_p3.index).drop(covid_p2.index).drop(covid_p1.index)\n",
        "emotion_sum4 = EmotionSummary(covid_p4.tweet)"
      ],
      "execution_count": null,
      "outputs": []
    },
    {
      "cell_type": "code",
      "metadata": {
        "id": "X6fC5nP16mFN"
      },
      "source": [
        "covid_p5 = df_c[df_c.date < datetime(2021,6,30)].drop(covid_p4.index).drop(covid_p3.index).drop(covid_p2.index).drop(covid_p1.index)\n",
        "emotion_sum5 = EmotionSummary(covid_p5.tweet)"
      ],
      "execution_count": null,
      "outputs": []
    },
    {
      "cell_type": "code",
      "metadata": {
        "colab": {
          "base_uri": "https://localhost:8080/",
          "height": 640
        },
        "id": "cmdf0tsqS2TY",
        "outputId": "8d014249-fd7f-45df-9c6c-7bfb0ee5ca51"
      },
      "source": [
        "a = pd.DataFrame({'period 1': emotion_sum1,\n",
        "             'period 2': emotion_sum2,\n",
        "             'period 3': emotion_sum3,\n",
        "             'period 4': emotion_sum4,\n",
        "             'period 5': emotion_sum5})\n",
        "a = a.transpose()\n",
        "a.plot.bar(figsize=(10,10), alpha = 0.7)\n",
        "plt.show()"
      ],
      "execution_count": null,
      "outputs": [
        {
          "output_type": "execute_result",
          "data": {
            "text/plain": [
              "<matplotlib.axes._subplots.AxesSubplot at 0x7f44eae10dd0>"
            ]
          },
          "metadata": {
            "tags": []
          },
          "execution_count": 238
        },
        {
          "output_type": "display_data",
          "data": {
            "image/png": "[encoded data removed]",
            "text/plain": [
              "<Figure size 720x720 with 1 Axes>"
            ]
          },
          "metadata": {
            "tags": [],
            "needs_background": "light"
          }
        }
      ]
    },
    {
      "cell_type": "markdown",
      "metadata": {
        "id": "gvfOKGnDi9k9"
      },
      "source": [
        "There are not many differences among periods for what concerns prevalent emotions. \n",
        "\n",
        "trust, anticipation and fear are the most frequent ones.  "
      ]
    },
    {
      "cell_type": "code",
      "metadata": {
        "id": "TXp-yGhDlnPU",
        "colab": {
          "base_uri": "https://localhost:8080/"
        },
        "outputId": "b1b004a7-eb38-46cb-9ea6-4b9f5e95f709"
      },
      "source": [
        "a = [ covid_p1,covid_p2,covid_p3, covid_p4, covid_p5]\n",
        "\n",
        "p1_w2v = Word2Vec(covid_p1.tweets, min_count = 250)\n",
        "p1 = set(p1_w2v.wv.vocab)\n",
        "\n",
        "p2_w2v = Word2Vec(covid_p2.tweets, min_count = 600)\n",
        "p2 = set(p2_w2v.wv.vocab)\n",
        "\n",
        "p3_w2v = Word2Vec(covid_p3.tweets, min_count = 1000)\n",
        "p3 = set(p3_w2v.wv.vocab)\n",
        "\n",
        "p4_w2v = Word2Vec(covid_p4.tweets, min_count = 1000)\n",
        "p4 = set(p4_w2v.wv.vocab)\n",
        "\n",
        "p5_w2v = Word2Vec(covid_p5.tweets, min_count = 1000)\n",
        "p5 = set(p5_w2v.wv.vocab)\n",
        "\n",
        "\n",
        "p1.intersection(p2).intersection(p3).intersection(p4).intersection(p5)\n",
        "p1-p1.intersection(p2).intersection(p3).intersection(p4).intersection(p5)\n",
        "p2-p1.intersection(p2).intersection(p3).intersection(p4).intersection(p5)\n",
        "p3-p1.intersection(p2).intersection(p3).intersection(p4).intersection(p5)\n",
        "p4-p1.intersection(p2).intersection(p3).intersection(p4).intersection(p5)\n",
        "p5-p1.intersection(p2).intersection(p3).intersection(p4).intersection(p5)"
      ],
      "execution_count": null,
      "outputs": [
        {
          "output_type": "execute_result",
          "data": {
            "text/plain": [
              "{'amp', 'cases', 'got', 'new', 'one', 'vaccine'}"
            ]
          },
          "metadata": {
            "tags": []
          },
          "execution_count": 239
        }
      ]
    },
    {
      "cell_type": "markdown",
      "metadata": {
        "id": "ZuiNcmNgqjAU"
      },
      "source": [
        "- common words to all the periods: \n",
        "\n",
        "        ('covid', 'covid-19', 'like', 'people')\n",
        "\n",
        "- mainly 1st period: \n",
        "\n",
        "        ('china', 'health', 'live', 'virus')\n",
        "\n",
        "- mainly 2nd and 3rd period:\n",
        "\n",
        "        ('amp','deaths', 'cases', 'new', 'trump')\n",
        "\n",
        "- mainly 4th and 5th period:\n",
        "\n",
        "        ('vaccine') \n",
        "\n",
        "\n",
        "\n",
        "\n"
      ]
    },
    {
      "cell_type": "markdown",
      "metadata": {
        "id": "VjJILQo6wMAw"
      },
      "source": [
        "## References\n",
        "\n",
        "- Xue, J., Chen, J., Hu, R., Chen, C., Zheng, C., Su, Y., Zhu, T., *Twitter Discussions and Emotions About the COVID-19 Pandemic: Machine Learning Approach*, J Med Internet Res. 2020 Nov 25;22(11):e20550. doi: 10.2196/20550. PMID: 33119535; PMCID: PMC7690968. \n",
        "\n",
        "- Liang, H., Fung, I.CH., Tse, Z.T.H. et al., 2019, *How did Ebola information spread on twitter: broadcasting or viral spreading?*, BMC Public Health 19, 438 (2019). https://doi.org/10.1186/s12889-019-6747-8 \n",
        "\n",
        "- VanderPlas, J., 2016, *Python Data Science Handbook: Essential Tools for Working with Data*, O'Reilly. \n",
        "\n"
      ]
    }
  ]
}